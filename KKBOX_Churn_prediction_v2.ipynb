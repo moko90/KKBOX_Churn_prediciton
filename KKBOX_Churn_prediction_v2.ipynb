{
 "cells": [
  {
   "cell_type": "markdown",
   "metadata": {},
   "source": [
    "# Data information"
   ]
  },
  {
   "cell_type": "markdown",
   "metadata": {},
   "source": [
    "### Business background and goal"
   ]
  },
  {
   "cell_type": "markdown",
   "metadata": {},
   "source": [
    "KKBOX offers subscription based music streaming service. When users signs up for our service, users can choose to either manual renew or auto-renew the service. Users can actively cancel their membership at any time.\n",
    "The goal of this analysis is the prediction if a user will churn after subscription expires.\n",
    "\n",
    "Churn is defined as whether the user did not continue the subscription within 30 days of expiration. is_churn = 1 means churn,is_churn = 0 means renewal.\n",
    "\n",
    "More about data: https://www.kaggle.com/c/kkbox-churn-prediction-challenge"
   ]
  },
  {
   "cell_type": "markdown",
   "metadata": {},
   "source": [
    "**Why it's worth to predict if user will churn?**\n",
    "<br><br>\n",
    "Thanks to predicition if client will want to leave, company can tak relevant action to affect his decion eg. give a special offer, send information showing new benefits of the service etc.\n",
    "\n",
    "Company can as well use churn predition analysis to asses which marketing actions or other special activities was the most effective and result in keeping clients."
   ]
  },
  {
   "cell_type": "markdown",
   "metadata": {},
   "source": [
    "### Data descritpion"
   ]
  },
  {
   "cell_type": "markdown",
   "metadata": {},
   "source": [
    "**msno**: user id\n",
    "<br>**is_churn**: This is what you will predict. Churn is defined as whether the user did not continue the subscription within 30 days of expiration. is_churn = 1 means churn,is_churn = 0 means renewal.\n",
    "<br>\n",
    "<br>**payment_method_id:** payment method\n",
    "<br>**payment_plan_days:** length of membership plan in days\n",
    "<br>**plan_list_price:**  amount to be paid as per plan in New Taiwan Dollar (NTD)\n",
    "<br>**actual_amount_paid:**  actual amount paid in New Taiwan Dollar (NTD)\n",
    "<br>**is_auto_renew:** yes(1)/no(0)\n",
    "<br>**transaction_date:**  format %Y%m%d\n",
    "<br>**membership_expire_date:**  format %Y%m%d\n",
    "<br>**is_cancel:**  whether or not the user canceled the membership in this transaction.\n",
    "\n",
    "<br>**date:** format %Y%m%d\n",
    "<br>**num_25:** # of songs played less than 25% of the song length\n",
    "<br>**num_50:** # of songs played between 25% to 50% of the song length\n",
    "<br>**num_75:** # of songs played between 50% to 75% of of the song length\n",
    "<br>**num_985:** # of songs played between 75% to 98.5% of the song length\n",
    "<br>**num_100:** # of songs played over 98.5% of the song length\n",
    "<br>**num_unq:** # of unique songs played\n",
    "<br>**total_secs:** total seconds played\n",
    "\n",
    "<br>**city**\n",
    "<br>**bd:** age. Note: this column has outlier values ranging from -7000 to 2015, please use your judgement.\n",
    "<br>**gender**\n",
    "<br>**registered_via:** registration method\n",
    "<br>**registration_init_time:** format %Y%m%d"
   ]
  },
  {
   "cell_type": "markdown",
   "metadata": {},
   "source": [
    "# 1. Data loading"
   ]
  },
  {
   "cell_type": "markdown",
   "metadata": {},
   "source": [
    "### 1.1 Imports"
   ]
  },
  {
   "cell_type": "code",
   "execution_count": 1,
   "metadata": {},
   "outputs": [],
   "source": [
    "#Important libraries imports\n",
    "import matplotlib\n",
    "import numpy as np\n",
    "import matplotlib.pyplot as plt\n",
    "import pandas as pd\n",
    "import seaborn as sns\n",
    "import sklearn\n",
    "\n",
    "#Models\n",
    "from sklearn.dummy import DummyClassifier\n",
    "from sklearn.linear_model import LogisticRegression\n",
    "from sklearn.tree import DecisionTreeClassifier\n",
    "from sklearn.ensemble import RandomForestClassifier, ExtraTreesClassifier\n",
    "import lightgbm as lgb\n",
    "\n",
    "from sklearn.model_selection import train_test_split\n",
    "\n",
    "#Success metrics\n",
    "from sklearn.metrics import accuracy_score\n",
    "from sklearn.metrics import r2_score# <== our success metric\n",
    "from sklearn.metrics import log_loss\n",
    "from sklearn.model_selection import learning_curve\n",
    "from sklearn.metrics import make_scorer\n",
    "\n",
    "#Functions for time-data\n",
    "import time\n",
    "from datetime import datetime\n",
    "\n",
    "#Display columns in pandas dataframe\n",
    "pd.set_option('display.max_columns', None)\n",
    "pd.set_option('display.max_rows', None)\n",
    "#Display all outputs of the cell not only last one\n",
    "from IPython.core.interactiveshell import InteractiveShell\n",
    "InteractiveShell.ast_node_interactivity = \"all\""
   ]
  },
  {
   "cell_type": "markdown",
   "metadata": {},
   "source": [
    "### 1.2 Data loading"
   ]
  },
  {
   "cell_type": "code",
   "execution_count": 2,
   "metadata": {},
   "outputs": [],
   "source": [
    "df_members = pd.read_csv(\"members_v3.csv\")\n",
    "df_train = pd.read_csv(\"train_v2.csv\")\n",
    "df_transaction = pd.read_csv(\"transactions_v2.csv\")\n",
    "df_user_logs = pd.read_csv(\"user_logs_v2.csv\")\n",
    "df_test = pd.read_csv(\"sample_submission_v2.csv\")"
   ]
  },
  {
   "cell_type": "markdown",
   "metadata": {},
   "source": [
    "# 2. Exploration Data Analysis"
   ]
  },
  {
   "cell_type": "markdown",
   "metadata": {},
   "source": [
    "### 2.1 Train dataset"
   ]
  },
  {
   "cell_type": "code",
   "execution_count": 3,
   "metadata": {
    "scrolled": false
   },
   "outputs": [
    {
     "data": {
      "text/html": [
       "<div>\n",
       "<style scoped>\n",
       "    .dataframe tbody tr th:only-of-type {\n",
       "        vertical-align: middle;\n",
       "    }\n",
       "\n",
       "    .dataframe tbody tr th {\n",
       "        vertical-align: top;\n",
       "    }\n",
       "\n",
       "    .dataframe thead th {\n",
       "        text-align: right;\n",
       "    }\n",
       "</style>\n",
       "<table border=\"1\" class=\"dataframe\">\n",
       "  <thead>\n",
       "    <tr style=\"text-align: right;\">\n",
       "      <th></th>\n",
       "      <th>msno</th>\n",
       "      <th>is_churn</th>\n",
       "    </tr>\n",
       "  </thead>\n",
       "  <tbody>\n",
       "    <tr>\n",
       "      <th>0</th>\n",
       "      <td>ugx0CjOMzazClkFzU2xasmDZaoIqOUAZPsH1q0teWCg=</td>\n",
       "      <td>1</td>\n",
       "    </tr>\n",
       "    <tr>\n",
       "      <th>1</th>\n",
       "      <td>f/NmvEzHfhINFEYZTR05prUdr+E+3+oewvweYz9cCQE=</td>\n",
       "      <td>1</td>\n",
       "    </tr>\n",
       "    <tr>\n",
       "      <th>2</th>\n",
       "      <td>zLo9f73nGGT1p21ltZC3ChiRnAVvgibMyazbCxvWPcg=</td>\n",
       "      <td>1</td>\n",
       "    </tr>\n",
       "    <tr>\n",
       "      <th>3</th>\n",
       "      <td>8iF/+8HY8lJKFrTc7iR9ZYGCG2Ecrogbc2Vy5YhsfhQ=</td>\n",
       "      <td>1</td>\n",
       "    </tr>\n",
       "    <tr>\n",
       "      <th>4</th>\n",
       "      <td>K6fja4+jmoZ5xG6BypqX80Uw/XKpMgrEMdG2edFOxnA=</td>\n",
       "      <td>1</td>\n",
       "    </tr>\n",
       "  </tbody>\n",
       "</table>\n",
       "</div>"
      ],
      "text/plain": [
       "                                           msno  is_churn\n",
       "0  ugx0CjOMzazClkFzU2xasmDZaoIqOUAZPsH1q0teWCg=         1\n",
       "1  f/NmvEzHfhINFEYZTR05prUdr+E+3+oewvweYz9cCQE=         1\n",
       "2  zLo9f73nGGT1p21ltZC3ChiRnAVvgibMyazbCxvWPcg=         1\n",
       "3  8iF/+8HY8lJKFrTc7iR9ZYGCG2Ecrogbc2Vy5YhsfhQ=         1\n",
       "4  K6fja4+jmoZ5xG6BypqX80Uw/XKpMgrEMdG2edFOxnA=         1"
      ]
     },
     "execution_count": 3,
     "metadata": {},
     "output_type": "execute_result"
    },
    {
     "data": {
      "text/html": [
       "<div>\n",
       "<style scoped>\n",
       "    .dataframe tbody tr th:only-of-type {\n",
       "        vertical-align: middle;\n",
       "    }\n",
       "\n",
       "    .dataframe tbody tr th {\n",
       "        vertical-align: top;\n",
       "    }\n",
       "\n",
       "    .dataframe thead th {\n",
       "        text-align: right;\n",
       "    }\n",
       "</style>\n",
       "<table border=\"1\" class=\"dataframe\">\n",
       "  <thead>\n",
       "    <tr style=\"text-align: right;\">\n",
       "      <th></th>\n",
       "      <th>is_churn</th>\n",
       "    </tr>\n",
       "  </thead>\n",
       "  <tbody>\n",
       "    <tr>\n",
       "      <th>count</th>\n",
       "      <td>970960.000000</td>\n",
       "    </tr>\n",
       "    <tr>\n",
       "      <th>mean</th>\n",
       "      <td>0.089942</td>\n",
       "    </tr>\n",
       "    <tr>\n",
       "      <th>std</th>\n",
       "      <td>0.286099</td>\n",
       "    </tr>\n",
       "    <tr>\n",
       "      <th>min</th>\n",
       "      <td>0.000000</td>\n",
       "    </tr>\n",
       "    <tr>\n",
       "      <th>25%</th>\n",
       "      <td>0.000000</td>\n",
       "    </tr>\n",
       "    <tr>\n",
       "      <th>50%</th>\n",
       "      <td>0.000000</td>\n",
       "    </tr>\n",
       "    <tr>\n",
       "      <th>75%</th>\n",
       "      <td>0.000000</td>\n",
       "    </tr>\n",
       "    <tr>\n",
       "      <th>max</th>\n",
       "      <td>1.000000</td>\n",
       "    </tr>\n",
       "  </tbody>\n",
       "</table>\n",
       "</div>"
      ],
      "text/plain": [
       "            is_churn\n",
       "count  970960.000000\n",
       "mean        0.089942\n",
       "std         0.286099\n",
       "min         0.000000\n",
       "25%         0.000000\n",
       "50%         0.000000\n",
       "75%         0.000000\n",
       "max         1.000000"
      ]
     },
     "execution_count": 3,
     "metadata": {},
     "output_type": "execute_result"
    }
   ],
   "source": [
    "df_train.head()\n",
    "df_train.describe()"
   ]
  },
  {
   "cell_type": "code",
   "execution_count": 4,
   "metadata": {},
   "outputs": [
    {
     "data": {
      "text/plain": [
       "((970960,), (970960, 2))"
      ]
     },
     "execution_count": 4,
     "metadata": {},
     "output_type": "execute_result"
    }
   ],
   "source": [
    "df_train.msno.unique().shape, df_train.shape"
   ]
  },
  {
   "cell_type": "markdown",
   "metadata": {},
   "source": [
    "There is no duplicates in 'msno'"
   ]
  },
  {
   "cell_type": "code",
   "execution_count": 5,
   "metadata": {},
   "outputs": [
    {
     "data": {
      "text/plain": [
       "array([[<matplotlib.axes._subplots.AxesSubplot object at 0x000001AA180C0E80>]],\n",
       "      dtype=object)"
      ]
     },
     "execution_count": 5,
     "metadata": {},
     "output_type": "execute_result"
    },
    {
     "data": {
      "text/plain": [
       "0    883630\n",
       "1     87330\n",
       "Name: is_churn, dtype: int64"
      ]
     },
     "execution_count": 5,
     "metadata": {},
     "output_type": "execute_result"
    },
    {
     "data": {
      "image/png": "[encoded data removed]",
      "text/plain": [
       "<matplotlib.figure.Figure at 0x1aa180c0780>"
      ]
     },
     "metadata": {},
     "output_type": "display_data"
    }
   ],
   "source": [
    "df_train.hist(bins =2)\n",
    "df_train.is_churn.value_counts()"
   ]
  },
  {
   "cell_type": "code",
   "execution_count": 6,
   "metadata": {},
   "outputs": [
    {
     "data": {
      "text/plain": [
       "0.9100580868418885"
      ]
     },
     "execution_count": 6,
     "metadata": {},
     "output_type": "execute_result"
    }
   ],
   "source": [
    "883630/(883630+87330)"
   ]
  },
  {
   "cell_type": "markdown",
   "metadata": {},
   "source": [
    "We can see that 91% of users in training dataset is going for renewal. It can lead to bit of bias, let's keep it in mind for further analys. "
   ]
  },
  {
   "cell_type": "markdown",
   "metadata": {},
   "source": [
    "### 2.2 Members dataset"
   ]
  },
  {
   "cell_type": "markdown",
   "metadata": {},
   "source": [
    "Let's merge mebers dataset with train dataset."
   ]
  },
  {
   "cell_type": "code",
   "execution_count": 7,
   "metadata": {
    "scrolled": true
   },
   "outputs": [
    {
     "data": {
      "text/html": [
       "<div>\n",
       "<style scoped>\n",
       "    .dataframe tbody tr th:only-of-type {\n",
       "        vertical-align: middle;\n",
       "    }\n",
       "\n",
       "    .dataframe tbody tr th {\n",
       "        vertical-align: top;\n",
       "    }\n",
       "\n",
       "    .dataframe thead th {\n",
       "        text-align: right;\n",
       "    }\n",
       "</style>\n",
       "<table border=\"1\" class=\"dataframe\">\n",
       "  <thead>\n",
       "    <tr style=\"text-align: right;\">\n",
       "      <th></th>\n",
       "      <th>msno</th>\n",
       "      <th>is_churn</th>\n",
       "      <th>city</th>\n",
       "      <th>bd</th>\n",
       "      <th>gender</th>\n",
       "      <th>registered_via</th>\n",
       "      <th>registration_init_time</th>\n",
       "    </tr>\n",
       "  </thead>\n",
       "  <tbody>\n",
       "    <tr>\n",
       "      <th>0</th>\n",
       "      <td>ugx0CjOMzazClkFzU2xasmDZaoIqOUAZPsH1q0teWCg=</td>\n",
       "      <td>1</td>\n",
       "      <td>5</td>\n",
       "      <td>28</td>\n",
       "      <td>male</td>\n",
       "      <td>3</td>\n",
       "      <td>20131223</td>\n",
       "    </tr>\n",
       "    <tr>\n",
       "      <th>1</th>\n",
       "      <td>f/NmvEzHfhINFEYZTR05prUdr+E+3+oewvweYz9cCQE=</td>\n",
       "      <td>1</td>\n",
       "      <td>13</td>\n",
       "      <td>20</td>\n",
       "      <td>male</td>\n",
       "      <td>3</td>\n",
       "      <td>20131223</td>\n",
       "    </tr>\n",
       "    <tr>\n",
       "      <th>2</th>\n",
       "      <td>zLo9f73nGGT1p21ltZC3ChiRnAVvgibMyazbCxvWPcg=</td>\n",
       "      <td>1</td>\n",
       "      <td>13</td>\n",
       "      <td>18</td>\n",
       "      <td>male</td>\n",
       "      <td>3</td>\n",
       "      <td>20131227</td>\n",
       "    </tr>\n",
       "    <tr>\n",
       "      <th>3</th>\n",
       "      <td>8iF/+8HY8lJKFrTc7iR9ZYGCG2Ecrogbc2Vy5YhsfhQ=</td>\n",
       "      <td>1</td>\n",
       "      <td>1</td>\n",
       "      <td>0</td>\n",
       "      <td>NaN</td>\n",
       "      <td>7</td>\n",
       "      <td>20140109</td>\n",
       "    </tr>\n",
       "    <tr>\n",
       "      <th>4</th>\n",
       "      <td>K6fja4+jmoZ5xG6BypqX80Uw/XKpMgrEMdG2edFOxnA=</td>\n",
       "      <td>1</td>\n",
       "      <td>13</td>\n",
       "      <td>35</td>\n",
       "      <td>female</td>\n",
       "      <td>7</td>\n",
       "      <td>20140125</td>\n",
       "    </tr>\n",
       "  </tbody>\n",
       "</table>\n",
       "</div>"
      ],
      "text/plain": [
       "                                           msno  is_churn  city  bd  gender  \\\n",
       "0  ugx0CjOMzazClkFzU2xasmDZaoIqOUAZPsH1q0teWCg=         1     5  28    male   \n",
       "1  f/NmvEzHfhINFEYZTR05prUdr+E+3+oewvweYz9cCQE=         1    13  20    male   \n",
       "2  zLo9f73nGGT1p21ltZC3ChiRnAVvgibMyazbCxvWPcg=         1    13  18    male   \n",
       "3  8iF/+8HY8lJKFrTc7iR9ZYGCG2Ecrogbc2Vy5YhsfhQ=         1     1   0     NaN   \n",
       "4  K6fja4+jmoZ5xG6BypqX80Uw/XKpMgrEMdG2edFOxnA=         1    13  35  female   \n",
       "\n",
       "   registered_via  registration_init_time  \n",
       "0               3                20131223  \n",
       "1               3                20131223  \n",
       "2               3                20131227  \n",
       "3               7                20140109  \n",
       "4               7                20140125  "
      ]
     },
     "execution_count": 7,
     "metadata": {},
     "output_type": "execute_result"
    },
    {
     "name": "stdout",
     "output_type": "stream",
     "text": [
      "<class 'pandas.core.frame.DataFrame'>\n",
      "Int64Index: 860967 entries, 0 to 860966\n",
      "Data columns (total 7 columns):\n",
      "msno                      860967 non-null object\n",
      "is_churn                  860967 non-null int64\n",
      "city                      860967 non-null int64\n",
      "bd                        860967 non-null int64\n",
      "gender                    388905 non-null object\n",
      "registered_via            860967 non-null int64\n",
      "registration_init_time    860967 non-null int64\n",
      "dtypes: int64(5), object(2)\n",
      "memory usage: 52.5+ MB\n"
     ]
    }
   ],
   "source": [
    "train_members = pd.merge(left = df_train,right = df_members,how = 'inner',on=['msno'])\n",
    "train_members.head()\n",
    "train_members.info()"
   ]
  },
  {
   "cell_type": "code",
   "execution_count": 8,
   "metadata": {},
   "outputs": [
    {
     "data": {
      "text/plain": [
       "0.4517072082902132"
      ]
     },
     "execution_count": 8,
     "metadata": {},
     "output_type": "execute_result"
    }
   ],
   "source": [
    "388905/860967"
   ]
  },
  {
   "cell_type": "code",
   "execution_count": 9,
   "metadata": {},
   "outputs": [
    {
     "data": {
      "text/plain": [
       "NAN       472062\n",
       "male      204561\n",
       "female    184344\n",
       "Name: gender, dtype: int64"
      ]
     },
     "execution_count": 9,
     "metadata": {},
     "output_type": "execute_result"
    },
    {
     "name": "stdout",
     "output_type": "stream",
     "text": [
      "<class 'pandas.core.frame.DataFrame'>\n",
      "Int64Index: 860967 entries, 0 to 860966\n",
      "Data columns (total 7 columns):\n",
      "msno                      860967 non-null object\n",
      "is_churn                  860967 non-null int64\n",
      "city                      860967 non-null int64\n",
      "bd                        860967 non-null int64\n",
      "gender                    860967 non-null object\n",
      "registered_via            860967 non-null int64\n",
      "registration_init_time    860967 non-null int64\n",
      "dtypes: int64(5), object(2)\n",
      "memory usage: 52.5+ MB\n"
     ]
    }
   ],
   "source": [
    "train_members['gender']=train_members['gender'].fillna(\"NAN\")\n",
    "train_members.gender.value_counts()\n",
    "train_members.info()"
   ]
  },
  {
   "cell_type": "markdown",
   "metadata": {},
   "source": [
    "55% of gender data are missing.\n",
    "There is slightly more man than woman."
   ]
  },
  {
   "cell_type": "markdown",
   "metadata": {},
   "source": [
    "**Changing the format of dates to YYYY-MM-DD**"
   ]
  },
  {
   "cell_type": "code",
   "execution_count": 10,
   "metadata": {},
   "outputs": [],
   "source": [
    "train_members['registration_init_time'] = train_members.registration_init_time.apply(\n",
    "    lambda x: datetime.strptime(str(int(x)), \"%Y%m%d\").date() if pd.notnull(x) else \"NAN\")"
   ]
  },
  {
   "cell_type": "markdown",
   "metadata": {},
   "source": [
    "##### 2.2.1 Members ['city']"
   ]
  },
  {
   "cell_type": "code",
   "execution_count": 11,
   "metadata": {},
   "outputs": [
    {
     "data": {
      "text/plain": [
       "<matplotlib.figure.Figure at 0x1aa17a4e630>"
      ]
     },
     "execution_count": 11,
     "metadata": {},
     "output_type": "execute_result"
    },
    {
     "data": {
      "text/plain": [
       "<matplotlib.axes._subplots.AxesSubplot at 0x1aa179fbba8>"
      ]
     },
     "execution_count": 11,
     "metadata": {},
     "output_type": "execute_result"
    },
    {
     "data": {
      "text/plain": [
       "Text(0,0.5,'Count')"
      ]
     },
     "execution_count": 11,
     "metadata": {},
     "output_type": "execute_result"
    },
    {
     "data": {
      "text/plain": [
       "Text(0.5,0,'City')"
      ]
     },
     "execution_count": 11,
     "metadata": {},
     "output_type": "execute_result"
    },
    {
     "data": {
      "text/plain": [
       "(array([ 0,  1,  2,  3,  4,  5,  6,  7,  8,  9, 10, 11, 12, 13, 14, 15, 16,\n",
       "        17, 18, 19, 20]), <a list of 21 Text xticklabel objects>)"
      ]
     },
     "execution_count": 11,
     "metadata": {},
     "output_type": "execute_result"
    },
    {
     "data": {
      "text/plain": [
       "Text(0.5,1,'Frequency of City Count in train_members Data Set')"
      ]
     },
     "execution_count": 11,
     "metadata": {},
     "output_type": "execute_result"
    },
    {
     "data": {
      "image/png": "[encoded data removed]",
      "text/plain": [
       "<matplotlib.figure.Figure at 0x1aa17a4e630>"
      ]
     },
     "metadata": {},
     "output_type": "display_data"
    }
   ],
   "source": [
    "plt.figure(figsize=(18,6))\n",
    "sns.countplot(x=\"city\", data=train_members, palette=\"Set2\")\n",
    "plt.ylabel('Count', fontsize=12)\n",
    "plt.xlabel('City', fontsize=12)\n",
    "plt.xticks(rotation='vertical')\n",
    "plt.title(\"Frequency of City Count in train_members Data Set\", fontsize=12)\n",
    "plt.show()"
   ]
  },
  {
   "cell_type": "markdown",
   "metadata": {},
   "source": [
    "We can clearly see that majority of users are from city 1. We can think on possible assumption that the city 1 is capital while rest of the cities are smaller ones."
   ]
  },
  {
   "cell_type": "markdown",
   "metadata": {},
   "source": [
    "**Churn distribution per city**"
   ]
  },
  {
   "cell_type": "code",
   "execution_count": 12,
   "metadata": {},
   "outputs": [
    {
     "data": {
      "text/html": [
       "<div>\n",
       "<style scoped>\n",
       "    .dataframe tbody tr th:only-of-type {\n",
       "        vertical-align: middle;\n",
       "    }\n",
       "\n",
       "    .dataframe tbody tr th {\n",
       "        vertical-align: top;\n",
       "    }\n",
       "\n",
       "    .dataframe thead th {\n",
       "        text-align: right;\n",
       "    }\n",
       "</style>\n",
       "<table border=\"1\" class=\"dataframe\">\n",
       "  <thead>\n",
       "    <tr style=\"text-align: right;\">\n",
       "      <th>is_churn</th>\n",
       "      <th>0</th>\n",
       "      <th>1</th>\n",
       "      <th>0_%</th>\n",
       "      <th>1_%</th>\n",
       "    </tr>\n",
       "    <tr>\n",
       "      <th>city</th>\n",
       "      <th></th>\n",
       "      <th></th>\n",
       "      <th></th>\n",
       "      <th></th>\n",
       "    </tr>\n",
       "  </thead>\n",
       "  <tbody>\n",
       "    <tr>\n",
       "      <th>21</th>\n",
       "      <td>4434</td>\n",
       "      <td>765</td>\n",
       "      <td>85.29</td>\n",
       "      <td>14.71</td>\n",
       "    </tr>\n",
       "    <tr>\n",
       "      <th>12</th>\n",
       "      <td>9798</td>\n",
       "      <td>1585</td>\n",
       "      <td>86.08</td>\n",
       "      <td>13.92</td>\n",
       "    </tr>\n",
       "    <tr>\n",
       "      <th>8</th>\n",
       "      <td>6568</td>\n",
       "      <td>1021</td>\n",
       "      <td>86.55</td>\n",
       "      <td>13.45</td>\n",
       "    </tr>\n",
       "    <tr>\n",
       "      <th>3</th>\n",
       "      <td>4385</td>\n",
       "      <td>672</td>\n",
       "      <td>86.71</td>\n",
       "      <td>13.29</td>\n",
       "    </tr>\n",
       "    <tr>\n",
       "      <th>10</th>\n",
       "      <td>5612</td>\n",
       "      <td>858</td>\n",
       "      <td>86.74</td>\n",
       "      <td>13.26</td>\n",
       "    </tr>\n",
       "    <tr>\n",
       "      <th>5</th>\n",
       "      <td>61373</td>\n",
       "      <td>9333</td>\n",
       "      <td>86.80</td>\n",
       "      <td>13.20</td>\n",
       "    </tr>\n",
       "    <tr>\n",
       "      <th>4</th>\n",
       "      <td>41133</td>\n",
       "      <td>6094</td>\n",
       "      <td>87.10</td>\n",
       "      <td>12.90</td>\n",
       "    </tr>\n",
       "    <tr>\n",
       "      <th>6</th>\n",
       "      <td>22708</td>\n",
       "      <td>3358</td>\n",
       "      <td>87.12</td>\n",
       "      <td>12.88</td>\n",
       "    </tr>\n",
       "    <tr>\n",
       "      <th>15</th>\n",
       "      <td>37649</td>\n",
       "      <td>5538</td>\n",
       "      <td>87.18</td>\n",
       "      <td>12.82</td>\n",
       "    </tr>\n",
       "    <tr>\n",
       "      <th>9</th>\n",
       "      <td>8326</td>\n",
       "      <td>1200</td>\n",
       "      <td>87.40</td>\n",
       "      <td>12.60</td>\n",
       "    </tr>\n",
       "    <tr>\n",
       "      <th>22</th>\n",
       "      <td>36707</td>\n",
       "      <td>5284</td>\n",
       "      <td>87.42</td>\n",
       "      <td>12.58</td>\n",
       "    </tr>\n",
       "    <tr>\n",
       "      <th>13</th>\n",
       "      <td>85186</td>\n",
       "      <td>11950</td>\n",
       "      <td>87.70</td>\n",
       "      <td>12.30</td>\n",
       "    </tr>\n",
       "    <tr>\n",
       "      <th>19</th>\n",
       "      <td>123</td>\n",
       "      <td>17</td>\n",
       "      <td>87.86</td>\n",
       "      <td>12.14</td>\n",
       "    </tr>\n",
       "    <tr>\n",
       "      <th>11</th>\n",
       "      <td>8042</td>\n",
       "      <td>1096</td>\n",
       "      <td>88.01</td>\n",
       "      <td>11.99</td>\n",
       "    </tr>\n",
       "    <tr>\n",
       "      <th>14</th>\n",
       "      <td>17643</td>\n",
       "      <td>2370</td>\n",
       "      <td>88.16</td>\n",
       "      <td>11.84</td>\n",
       "    </tr>\n",
       "    <tr>\n",
       "      <th>18</th>\n",
       "      <td>6879</td>\n",
       "      <td>913</td>\n",
       "      <td>88.28</td>\n",
       "      <td>11.72</td>\n",
       "    </tr>\n",
       "    <tr>\n",
       "      <th>7</th>\n",
       "      <td>2356</td>\n",
       "      <td>296</td>\n",
       "      <td>88.84</td>\n",
       "      <td>11.16</td>\n",
       "    </tr>\n",
       "    <tr>\n",
       "      <th>16</th>\n",
       "      <td>840</td>\n",
       "      <td>104</td>\n",
       "      <td>88.98</td>\n",
       "      <td>11.02</td>\n",
       "    </tr>\n",
       "    <tr>\n",
       "      <th>20</th>\n",
       "      <td>605</td>\n",
       "      <td>72</td>\n",
       "      <td>89.36</td>\n",
       "      <td>10.64</td>\n",
       "    </tr>\n",
       "    <tr>\n",
       "      <th>17</th>\n",
       "      <td>4905</td>\n",
       "      <td>571</td>\n",
       "      <td>89.57</td>\n",
       "      <td>10.43</td>\n",
       "    </tr>\n",
       "    <tr>\n",
       "      <th>1</th>\n",
       "      <td>414247</td>\n",
       "      <td>28351</td>\n",
       "      <td>93.59</td>\n",
       "      <td>6.41</td>\n",
       "    </tr>\n",
       "  </tbody>\n",
       "</table>\n",
       "</div>"
      ],
      "text/plain": [
       "is_churn       0      1    0_%    1_%\n",
       "city                                 \n",
       "21          4434    765  85.29  14.71\n",
       "12          9798   1585  86.08  13.92\n",
       "8           6568   1021  86.55  13.45\n",
       "3           4385    672  86.71  13.29\n",
       "10          5612    858  86.74  13.26\n",
       "5          61373   9333  86.80  13.20\n",
       "4          41133   6094  87.10  12.90\n",
       "6          22708   3358  87.12  12.88\n",
       "15         37649   5538  87.18  12.82\n",
       "9           8326   1200  87.40  12.60\n",
       "22         36707   5284  87.42  12.58\n",
       "13         85186  11950  87.70  12.30\n",
       "19           123     17  87.86  12.14\n",
       "11          8042   1096  88.01  11.99\n",
       "14         17643   2370  88.16  11.84\n",
       "18          6879    913  88.28  11.72\n",
       "7           2356    296  88.84  11.16\n",
       "16           840    104  88.98  11.02\n",
       "20           605     72  89.36  10.64\n",
       "17          4905    571  89.57  10.43\n",
       "1         414247  28351  93.59   6.41"
      ]
     },
     "execution_count": 12,
     "metadata": {},
     "output_type": "execute_result"
    },
    {
     "data": {
      "image/png": "[encoded data removed]",
      "text/plain": [
       "<matplotlib.figure.Figure at 0x1aa17a4ed30>"
      ]
     },
     "metadata": {},
     "output_type": "display_data"
    }
   ],
   "source": [
    "city_crosstab=pd.crosstab(train_members['city'],train_members['is_churn'])\n",
    "city_crosstab[\"0_%\"] =  round(city_crosstab[0]/(city_crosstab[1]+city_crosstab[0])*100, 2)\n",
    "city_crosstab[\"1_%\"] =  round(city_crosstab[1]/(city_crosstab[1]+city_crosstab[0])*100, 2)\n",
    "city_crosstab.sort_values('1_%', ascending = False)\n",
    "\n",
    "sns.set_style(\"whitegrid\")\n",
    "ax = sns.barplot(x = city_crosstab.index.values, y = \"1_%\", data=city_crosstab, palette=\"Set2\").set_title(\"% of churn depend of values\")"
   ]
  },
  {
   "cell_type": "markdown",
   "metadata": {},
   "source": [
    "In feature engineering we can consider creation of new column with split for 2 clusters: capital and other cities."
   ]
  },
  {
   "cell_type": "markdown",
   "metadata": {},
   "source": [
    "##### 2.2.2 Members ['bd'] - AGE"
   ]
  },
  {
   "cell_type": "code",
   "execution_count": 13,
   "metadata": {
    "scrolled": true
   },
   "outputs": [
    {
     "data": {
      "text/plain": [
       "<matplotlib.figure.Figure at 0x1aa42c404a8>"
      ]
     },
     "execution_count": 13,
     "metadata": {},
     "output_type": "execute_result"
    },
    {
     "data": {
      "text/plain": [
       "<matplotlib.axes._subplots.AxesSubplot at 0x1ab2e6a00b8>"
      ]
     },
     "execution_count": 13,
     "metadata": {},
     "output_type": "execute_result"
    },
    {
     "data": {
      "text/plain": [
       "Text(0,0.5,'Count')"
      ]
     },
     "execution_count": 13,
     "metadata": {},
     "output_type": "execute_result"
    },
    {
     "data": {
      "text/plain": [
       "Text(0.5,0,'Age')"
      ]
     },
     "execution_count": 13,
     "metadata": {},
     "output_type": "execute_result"
    },
    {
     "data": {
      "text/plain": [
       "(array([  0,   1,   2,   3,   4,   5,   6,   7,   8,   9,  10,  11,  12,\n",
       "         13,  14,  15,  16,  17,  18,  19,  20,  21,  22,  23,  24,  25,\n",
       "         26,  27,  28,  29,  30,  31,  32,  33,  34,  35,  36,  37,  38,\n",
       "         39,  40,  41,  42,  43,  44,  45,  46,  47,  48,  49,  50,  51,\n",
       "         52,  53,  54,  55,  56,  57,  58,  59,  60,  61,  62,  63,  64,\n",
       "         65,  66,  67,  68,  69,  70,  71,  72,  73,  74,  75,  76,  77,\n",
       "         78,  79,  80,  81,  82,  83,  84,  85,  86,  87,  88,  89,  90,\n",
       "         91,  92,  93,  94,  95,  96,  97,  98,  99, 100, 101, 102, 103,\n",
       "        104, 105, 106, 107, 108, 109, 110, 111, 112, 113, 114, 115, 116,\n",
       "        117, 118, 119, 120, 121, 122, 123, 124, 125, 126, 127, 128, 129,\n",
       "        130, 131, 132, 133, 134, 135, 136, 137, 138, 139, 140, 141, 142,\n",
       "        143, 144, 145, 146, 147, 148, 149, 150, 151, 152, 153, 154, 155,\n",
       "        156, 157, 158, 159, 160, 161, 162, 163, 164, 165, 166, 167, 168,\n",
       "        169, 170, 171, 172, 173, 174, 175, 176, 177, 178, 179, 180, 181,\n",
       "        182, 183, 184, 185, 186, 187, 188, 189, 190, 191, 192, 193, 194,\n",
       "        195, 196, 197, 198, 199, 200, 201, 202, 203, 204, 205, 206, 207,\n",
       "        208, 209, 210, 211, 212, 213, 214, 215, 216, 217, 218, 219, 220,\n",
       "        221, 222, 223, 224, 225, 226, 227, 228, 229, 230]),\n",
       " <a list of 231 Text xticklabel objects>)"
      ]
     },
     "execution_count": 13,
     "metadata": {},
     "output_type": "execute_result"
    },
    {
     "data": {
      "text/plain": [
       "Text(0.5,1,'Frequency of City Count in train_members Data Set')"
      ]
     },
     "execution_count": 13,
     "metadata": {},
     "output_type": "execute_result"
    },
    {
     "data": {
      "image/png": "[encoded data removed]",
      "text/plain": [
       "<matplotlib.figure.Figure at 0x1aa42c404a8>"
      ]
     },
     "metadata": {},
     "output_type": "display_data"
    }
   ],
   "source": [
    "plt.figure(figsize=(18,6))\n",
    "sns.countplot(x=\"bd\", data=train_members, palette=\"Set2\")\n",
    "plt.ylabel('Count', fontsize=12)\n",
    "plt.xlabel('Age', fontsize=12)\n",
    "plt.xticks(rotation='vertical')\n",
    "plt.title(\"Frequency of City Count in train_members Data Set\", fontsize=12)\n",
    "plt.show()"
   ]
  },
  {
   "cell_type": "code",
   "execution_count": 14,
   "metadata": {},
   "outputs": [
    {
     "data": {
      "text/plain": [
       " 0       473729\n",
       " 27       22786\n",
       " 26       21829\n",
       " 25       20651\n",
       " 24       20296\n",
       " 28       20244\n",
       " 29       19533\n",
       " 23       19238\n",
       " 22       18035\n",
       " 30       17175\n",
       " 21       15633\n",
       " 31       15123\n",
       " 32       14406\n",
       " 20       13678\n",
       " 33       13229\n",
       " 34       12154\n",
       " 35       10959\n",
       " 36        9985\n",
       " 19        9861\n",
       " 37        8858\n",
       " 18        8207\n",
       " 38        7679\n",
       " 39        6651\n",
       " 17        5913\n",
       " 40        5663\n",
       " 41        5221\n",
       " 42        4305\n",
       " 43        3723\n",
       " 44        3266\n",
       " 46        3015\n",
       " 45        3010\n",
       " 47        2889\n",
       " 16        2544\n",
       " 48        2539\n",
       " 49        2320\n",
       " 50        2027\n",
       " 51        1970\n",
       " 52        1748\n",
       " 53        1445\n",
       " 54        1159\n",
       " 55        1021\n",
       " 15         848\n",
       " 56         844\n",
       " 57         736\n",
       " 58         541\n",
       " 59         510\n",
       " 60         455\n",
       " 61         390\n",
       " 62         309\n",
       " 14         282\n",
       " 63         258\n",
       " 64         193\n",
       " 65         171\n",
       " 66         147\n",
       " 67         140\n",
       " 68          90\n",
       " 106         81\n",
       " 69          67\n",
       " 117         65\n",
       " 13          63\n",
       " 70          57\n",
       " 112         52\n",
       " 72          42\n",
       " 71          40\n",
       " 73          37\n",
       " 74          31\n",
       " 77          30\n",
       " 12          23\n",
       " 76          23\n",
       " 75          23\n",
       " 102         23\n",
       " 84          22\n",
       " 105         21\n",
       " 1           21\n",
       " 95          19\n",
       " 91          18\n",
       " 89          16\n",
       " 5           16\n",
       " 6           15\n",
       " 103         15\n",
       " 104         14\n",
       " 101         14\n",
       " 92          14\n",
       " 107         14\n",
       " 81          13\n",
       " 7           13\n",
       " 79          13\n",
       " 78          12\n",
       " 100         11\n",
       " 97          11\n",
       " 10          11\n",
       " 4           10\n",
       " 80          10\n",
       " 90          10\n",
       " 94          10\n",
       " 83          10\n",
       " 11           9\n",
       " 98           9\n",
       " 3            9\n",
       " 2            9\n",
       " 87           9\n",
       " 93           9\n",
       "-51           8\n",
       " 1032         8\n",
       " 96           8\n",
       " 86           8\n",
       " 88           7\n",
       " 111          7\n",
       "-49           7\n",
       "-48           7\n",
       " 82           7\n",
       "-50           6\n",
       " 1033         6\n",
       " 9            6\n",
       " 85           6\n",
       " 109          6\n",
       "-42           5\n",
       " 8            4\n",
       " 116          4\n",
       " 1030         4\n",
       " 1031         4\n",
       " 110          3\n",
       "-44           3\n",
       "-47           3\n",
       " 128          3\n",
       " 119          3\n",
       "-45           3\n",
       "-43           3\n",
       " 122          3\n",
       " 1043         3\n",
       " 1029         3\n",
       " 1037         3\n",
       " 1820         2\n",
       " 931          2\n",
       " 1041         2\n",
       "-39           2\n",
       "-46           2\n",
       " 1038         2\n",
       "-40           2\n",
       "-41           2\n",
       "-34           2\n",
       " 1028         2\n",
       " 941          2\n",
       " 99           2\n",
       " 113          2\n",
       " 950          2\n",
       " 948          2\n",
       " 1052         2\n",
       " 1036         2\n",
       " 139          2\n",
       " 153          2\n",
       " 1034         2\n",
       " 1035         2\n",
       " 220          2\n",
       " 1049         1\n",
       " 1048         1\n",
       " 1017         1\n",
       " 1053         1\n",
       " 1051         1\n",
       "-35           1\n",
       " 1042         1\n",
       "-7            1\n",
       " 1009         1\n",
       " 1011         1\n",
       " 1008         1\n",
       "-9            1\n",
       "-19           1\n",
       " 1026         1\n",
       "-23           1\n",
       "-38           1\n",
       "-30           1\n",
       " 964          1\n",
       "-32           1\n",
       "-36           1\n",
       " 1040         1\n",
       "-37           1\n",
       " 2016         1\n",
       " 942          1\n",
       " 961          1\n",
       " 821          1\n",
       " 786          1\n",
       " 778          1\n",
       "-2828         1\n",
       " 743          1\n",
       " 197          1\n",
       " 1213         1\n",
       " 160          1\n",
       " 148          1\n",
       " 144          1\n",
       " 138          1\n",
       " 137          1\n",
       " 133          1\n",
       " 132          1\n",
       " 131          1\n",
       " 1111         1\n",
       " 130          1\n",
       " 129          1\n",
       " 126          1\n",
       "-5            1\n",
       " 123          1\n",
       " 121          1\n",
       " 120          1\n",
       " 115          1\n",
       " 820          1\n",
       " 823          1\n",
       " 951          1\n",
       " 824          1\n",
       " 947          1\n",
       " 1970         1\n",
       " 946          1\n",
       "-3152         1\n",
       " 945          1\n",
       " 944          1\n",
       " 939          1\n",
       " 936          1\n",
       " 934          1\n",
       " 933          1\n",
       " 930          1\n",
       " 1421         1\n",
       " 906          1\n",
       " 340          1\n",
       "-178          1\n",
       " 332          1\n",
       " 328          1\n",
       " 837          1\n",
       " 323          1\n",
       " 321          1\n",
       " 320          1\n",
       " 319          1\n",
       " 826          1\n",
       " 1022         1\n",
       "Name: bd, dtype: int64"
      ]
     },
     "execution_count": 14,
     "metadata": {},
     "output_type": "execute_result"
    }
   ],
   "source": [
    "train_members.bd.value_counts()"
   ]
  },
  {
   "cell_type": "markdown",
   "metadata": {},
   "source": [
    "We can see that there are many of unreal data like negative age and very high age. We can see as well that a lot of members have 0 as age. Let's clear this to get better insights and more valuable data."
   ]
  },
  {
   "cell_type": "code",
   "execution_count": 15,
   "metadata": {},
   "outputs": [],
   "source": [
    "train_members['bd'] = train_members.bd.apply(lambda x: -1 if x<0 else x )\n",
    "train_members['bd'] = train_members.bd.apply(lambda x: 101 if x>100 else x )"
   ]
  },
  {
   "cell_type": "code",
   "execution_count": 16,
   "metadata": {},
   "outputs": [
    {
     "data": {
      "text/plain": [
       "<matplotlib.figure.Figure at 0x1aa183749e8>"
      ]
     },
     "execution_count": 16,
     "metadata": {},
     "output_type": "execute_result"
    },
    {
     "data": {
      "text/plain": [
       "<matplotlib.axes._subplots.AxesSubplot at 0x1aa183b7748>"
      ]
     },
     "execution_count": 16,
     "metadata": {},
     "output_type": "execute_result"
    },
    {
     "data": {
      "text/plain": [
       "Text(0,0.5,'Age')"
      ]
     },
     "execution_count": 16,
     "metadata": {},
     "output_type": "execute_result"
    },
    {
     "data": {
      "image/png": "[encoded data removed]",
      "text/plain": [
       "<matplotlib.figure.Figure at 0x1aa183749e8>"
      ]
     },
     "metadata": {},
     "output_type": "display_data"
    },
    {
     "data": {
      "text/plain": [
       "count    386715.000000\n",
       "mean         29.904216\n",
       "std           8.920391\n",
       "min           1.000000\n",
       "25%          24.000000\n",
       "50%          28.000000\n",
       "75%          34.000000\n",
       "max         100.000000\n",
       "Name: bd, dtype: float64"
      ]
     },
     "execution_count": 16,
     "metadata": {},
     "output_type": "execute_result"
    },
    {
     "data": {
      "text/plain": [
       "<matplotlib.figure.Figure at 0x1aa183a8dd8>"
      ]
     },
     "execution_count": 16,
     "metadata": {},
     "output_type": "execute_result"
    },
    {
     "data": {
      "text/plain": [
       "<matplotlib.axes._subplots.AxesSubplot at 0x1aa17ffa978>"
      ]
     },
     "execution_count": 16,
     "metadata": {},
     "output_type": "execute_result"
    },
    {
     "data": {
      "text/plain": [
       "Text(0,0.5,'Count')"
      ]
     },
     "execution_count": 16,
     "metadata": {},
     "output_type": "execute_result"
    },
    {
     "data": {
      "text/plain": [
       "Text(0.5,0,'Age')"
      ]
     },
     "execution_count": 16,
     "metadata": {},
     "output_type": "execute_result"
    },
    {
     "data": {
      "text/plain": [
       "(array([ 0,  1,  2,  3,  4,  5,  6,  7,  8,  9, 10, 11, 12, 13, 14, 15, 16,\n",
       "        17, 18, 19, 20, 21, 22, 23, 24, 25, 26, 27, 28, 29, 30, 31, 32, 33,\n",
       "        34, 35, 36, 37, 38, 39, 40, 41, 42, 43, 44, 45, 46, 47, 48, 49, 50,\n",
       "        51, 52, 53, 54, 55, 56, 57, 58, 59, 60, 61, 62, 63, 64, 65, 66, 67,\n",
       "        68, 69, 70, 71, 72, 73, 74, 75, 76, 77, 78, 79, 80, 81, 82, 83, 84,\n",
       "        85, 86, 87, 88, 89, 90, 91, 92, 93, 94, 95, 96, 97, 98, 99]),\n",
       " <a list of 100 Text xticklabel objects>)"
      ]
     },
     "execution_count": 16,
     "metadata": {},
     "output_type": "execute_result"
    },
    {
     "data": {
      "text/plain": [
       "Text(0.5,1,'Frequency of City Count in train_members Data Set')"
      ]
     },
     "execution_count": 16,
     "metadata": {},
     "output_type": "execute_result"
    },
    {
     "data": {
      "image/png": "[encoded data removed]",
      "text/plain": [
       "<matplotlib.figure.Figure at 0x1aa183a8dd8>"
      ]
     },
     "metadata": {},
     "output_type": "display_data"
    }
   ],
   "source": [
    "tmp_bd = train_members[(train_members.bd != 0) & (train_members.bd != -1) & (train_members.bd != 101)]\n",
    "plt.figure(figsize=(18,6))\n",
    "plt.rcParams['figure.figsize']=(20,10)\n",
    "sns.boxplot(y=\"bd\", data=tmp_bd);\n",
    "plt.ylabel('Age', fontsize=14);\n",
    "plt.show()\n",
    "\n",
    "tmp_bd.bd.describe()\n",
    "\n",
    "plt.figure(figsize=(18,6))\n",
    "sns.countplot(x=\"bd\", data=tmp_bd)\n",
    "plt.ylabel('Count', fontsize=12)\n",
    "plt.xlabel('Age', fontsize=12)\n",
    "plt.xticks(rotation='vertical')\n",
    "plt.title(\"Frequency of City Count in train_members Data Set\", fontsize=12)\n",
    "plt.show()"
   ]
  },
  {
   "cell_type": "markdown",
   "metadata": {},
   "source": [
    "After cleaning the data we see that majority of real data are from range of 24-34.\n",
    "<br>Average age is ~29."
   ]
  },
  {
   "cell_type": "markdown",
   "metadata": {},
   "source": [
    "**Churn distribution per age**"
   ]
  },
  {
   "cell_type": "code",
   "execution_count": 17,
   "metadata": {},
   "outputs": [
    {
     "data": {
      "text/html": [
       "<div>\n",
       "<style scoped>\n",
       "    .dataframe tbody tr th:only-of-type {\n",
       "        vertical-align: middle;\n",
       "    }\n",
       "\n",
       "    .dataframe tbody tr th {\n",
       "        vertical-align: top;\n",
       "    }\n",
       "\n",
       "    .dataframe thead th {\n",
       "        text-align: right;\n",
       "    }\n",
       "</style>\n",
       "<table border=\"1\" class=\"dataframe\">\n",
       "  <thead>\n",
       "    <tr style=\"text-align: right;\">\n",
       "      <th>is_churn</th>\n",
       "      <th>0</th>\n",
       "      <th>1</th>\n",
       "      <th>0_%</th>\n",
       "      <th>1_%</th>\n",
       "    </tr>\n",
       "    <tr>\n",
       "      <th>bd</th>\n",
       "      <th></th>\n",
       "      <th></th>\n",
       "      <th></th>\n",
       "      <th></th>\n",
       "    </tr>\n",
       "  </thead>\n",
       "  <tbody>\n",
       "    <tr>\n",
       "      <th>99</th>\n",
       "      <td>1</td>\n",
       "      <td>1</td>\n",
       "      <td>50.00</td>\n",
       "      <td>50.00</td>\n",
       "    </tr>\n",
       "    <tr>\n",
       "      <th>14</th>\n",
       "      <td>166</td>\n",
       "      <td>116</td>\n",
       "      <td>58.87</td>\n",
       "      <td>41.13</td>\n",
       "    </tr>\n",
       "    <tr>\n",
       "      <th>13</th>\n",
       "      <td>41</td>\n",
       "      <td>22</td>\n",
       "      <td>65.08</td>\n",
       "      <td>34.92</td>\n",
       "    </tr>\n",
       "    <tr>\n",
       "      <th>15</th>\n",
       "      <td>581</td>\n",
       "      <td>267</td>\n",
       "      <td>68.51</td>\n",
       "      <td>31.49</td>\n",
       "    </tr>\n",
       "    <tr>\n",
       "      <th>4</th>\n",
       "      <td>7</td>\n",
       "      <td>3</td>\n",
       "      <td>70.00</td>\n",
       "      <td>30.00</td>\n",
       "    </tr>\n",
       "    <tr>\n",
       "      <th>16</th>\n",
       "      <td>1809</td>\n",
       "      <td>735</td>\n",
       "      <td>71.11</td>\n",
       "      <td>28.89</td>\n",
       "    </tr>\n",
       "    <tr>\n",
       "      <th>17</th>\n",
       "      <td>4330</td>\n",
       "      <td>1583</td>\n",
       "      <td>73.23</td>\n",
       "      <td>26.77</td>\n",
       "    </tr>\n",
       "    <tr>\n",
       "      <th>18</th>\n",
       "      <td>6076</td>\n",
       "      <td>2131</td>\n",
       "      <td>74.03</td>\n",
       "      <td>25.97</td>\n",
       "    </tr>\n",
       "    <tr>\n",
       "      <th>19</th>\n",
       "      <td>7535</td>\n",
       "      <td>2326</td>\n",
       "      <td>76.41</td>\n",
       "      <td>23.59</td>\n",
       "    </tr>\n",
       "    <tr>\n",
       "      <th>79</th>\n",
       "      <td>10</td>\n",
       "      <td>3</td>\n",
       "      <td>76.92</td>\n",
       "      <td>23.08</td>\n",
       "    </tr>\n",
       "    <tr>\n",
       "      <th>98</th>\n",
       "      <td>7</td>\n",
       "      <td>2</td>\n",
       "      <td>77.78</td>\n",
       "      <td>22.22</td>\n",
       "    </tr>\n",
       "    <tr>\n",
       "      <th>20</th>\n",
       "      <td>10703</td>\n",
       "      <td>2975</td>\n",
       "      <td>78.25</td>\n",
       "      <td>21.75</td>\n",
       "    </tr>\n",
       "    <tr>\n",
       "      <th>21</th>\n",
       "      <td>12481</td>\n",
       "      <td>3152</td>\n",
       "      <td>79.84</td>\n",
       "      <td>20.16</td>\n",
       "    </tr>\n",
       "    <tr>\n",
       "      <th>80</th>\n",
       "      <td>8</td>\n",
       "      <td>2</td>\n",
       "      <td>80.00</td>\n",
       "      <td>20.00</td>\n",
       "    </tr>\n",
       "    <tr>\n",
       "      <th>83</th>\n",
       "      <td>8</td>\n",
       "      <td>2</td>\n",
       "      <td>80.00</td>\n",
       "      <td>20.00</td>\n",
       "    </tr>\n",
       "    <tr>\n",
       "      <th>6</th>\n",
       "      <td>12</td>\n",
       "      <td>3</td>\n",
       "      <td>80.00</td>\n",
       "      <td>20.00</td>\n",
       "    </tr>\n",
       "    <tr>\n",
       "      <th>97</th>\n",
       "      <td>9</td>\n",
       "      <td>2</td>\n",
       "      <td>81.82</td>\n",
       "      <td>18.18</td>\n",
       "    </tr>\n",
       "    <tr>\n",
       "      <th>10</th>\n",
       "      <td>9</td>\n",
       "      <td>2</td>\n",
       "      <td>81.82</td>\n",
       "      <td>18.18</td>\n",
       "    </tr>\n",
       "    <tr>\n",
       "      <th>22</th>\n",
       "      <td>14888</td>\n",
       "      <td>3147</td>\n",
       "      <td>82.55</td>\n",
       "      <td>17.45</td>\n",
       "    </tr>\n",
       "    <tr>\n",
       "      <th>12</th>\n",
       "      <td>19</td>\n",
       "      <td>4</td>\n",
       "      <td>82.61</td>\n",
       "      <td>17.39</td>\n",
       "    </tr>\n",
       "    <tr>\n",
       "      <th>91</th>\n",
       "      <td>15</td>\n",
       "      <td>3</td>\n",
       "      <td>83.33</td>\n",
       "      <td>16.67</td>\n",
       "    </tr>\n",
       "    <tr>\n",
       "      <th>67</th>\n",
       "      <td>118</td>\n",
       "      <td>22</td>\n",
       "      <td>84.29</td>\n",
       "      <td>15.71</td>\n",
       "    </tr>\n",
       "    <tr>\n",
       "      <th>101</th>\n",
       "      <td>385</td>\n",
       "      <td>69</td>\n",
       "      <td>84.80</td>\n",
       "      <td>15.20</td>\n",
       "    </tr>\n",
       "    <tr>\n",
       "      <th>23</th>\n",
       "      <td>16342</td>\n",
       "      <td>2896</td>\n",
       "      <td>84.95</td>\n",
       "      <td>15.05</td>\n",
       "    </tr>\n",
       "    <tr>\n",
       "      <th>71</th>\n",
       "      <td>34</td>\n",
       "      <td>6</td>\n",
       "      <td>85.00</td>\n",
       "      <td>15.00</td>\n",
       "    </tr>\n",
       "    <tr>\n",
       "      <th>1</th>\n",
       "      <td>18</td>\n",
       "      <td>3</td>\n",
       "      <td>85.71</td>\n",
       "      <td>14.29</td>\n",
       "    </tr>\n",
       "    <tr>\n",
       "      <th>72</th>\n",
       "      <td>36</td>\n",
       "      <td>6</td>\n",
       "      <td>85.71</td>\n",
       "      <td>14.29</td>\n",
       "    </tr>\n",
       "    <tr>\n",
       "      <th>82</th>\n",
       "      <td>6</td>\n",
       "      <td>1</td>\n",
       "      <td>85.71</td>\n",
       "      <td>14.29</td>\n",
       "    </tr>\n",
       "    <tr>\n",
       "      <th>92</th>\n",
       "      <td>12</td>\n",
       "      <td>2</td>\n",
       "      <td>85.71</td>\n",
       "      <td>14.29</td>\n",
       "    </tr>\n",
       "    <tr>\n",
       "      <th>65</th>\n",
       "      <td>148</td>\n",
       "      <td>23</td>\n",
       "      <td>86.55</td>\n",
       "      <td>13.45</td>\n",
       "    </tr>\n",
       "    <tr>\n",
       "      <th>68</th>\n",
       "      <td>78</td>\n",
       "      <td>12</td>\n",
       "      <td>86.67</td>\n",
       "      <td>13.33</td>\n",
       "    </tr>\n",
       "    <tr>\n",
       "      <th>24</th>\n",
       "      <td>17619</td>\n",
       "      <td>2677</td>\n",
       "      <td>86.81</td>\n",
       "      <td>13.19</td>\n",
       "    </tr>\n",
       "    <tr>\n",
       "      <th>76</th>\n",
       "      <td>20</td>\n",
       "      <td>3</td>\n",
       "      <td>86.96</td>\n",
       "      <td>13.04</td>\n",
       "    </tr>\n",
       "    <tr>\n",
       "      <th>75</th>\n",
       "      <td>20</td>\n",
       "      <td>3</td>\n",
       "      <td>86.96</td>\n",
       "      <td>13.04</td>\n",
       "    </tr>\n",
       "    <tr>\n",
       "      <th>74</th>\n",
       "      <td>27</td>\n",
       "      <td>4</td>\n",
       "      <td>87.10</td>\n",
       "      <td>12.90</td>\n",
       "    </tr>\n",
       "    <tr>\n",
       "      <th>89</th>\n",
       "      <td>14</td>\n",
       "      <td>2</td>\n",
       "      <td>87.50</td>\n",
       "      <td>12.50</td>\n",
       "    </tr>\n",
       "    <tr>\n",
       "      <th>5</th>\n",
       "      <td>14</td>\n",
       "      <td>2</td>\n",
       "      <td>87.50</td>\n",
       "      <td>12.50</td>\n",
       "    </tr>\n",
       "    <tr>\n",
       "      <th>96</th>\n",
       "      <td>7</td>\n",
       "      <td>1</td>\n",
       "      <td>87.50</td>\n",
       "      <td>12.50</td>\n",
       "    </tr>\n",
       "    <tr>\n",
       "      <th>25</th>\n",
       "      <td>18141</td>\n",
       "      <td>2510</td>\n",
       "      <td>87.85</td>\n",
       "      <td>12.15</td>\n",
       "    </tr>\n",
       "    <tr>\n",
       "      <th>27</th>\n",
       "      <td>20208</td>\n",
       "      <td>2578</td>\n",
       "      <td>88.69</td>\n",
       "      <td>11.31</td>\n",
       "    </tr>\n",
       "    <tr>\n",
       "      <th>63</th>\n",
       "      <td>229</td>\n",
       "      <td>29</td>\n",
       "      <td>88.76</td>\n",
       "      <td>11.24</td>\n",
       "    </tr>\n",
       "    <tr>\n",
       "      <th>26</th>\n",
       "      <td>19381</td>\n",
       "      <td>2448</td>\n",
       "      <td>88.79</td>\n",
       "      <td>11.21</td>\n",
       "    </tr>\n",
       "    <tr>\n",
       "      <th>47</th>\n",
       "      <td>2567</td>\n",
       "      <td>322</td>\n",
       "      <td>88.85</td>\n",
       "      <td>11.15</td>\n",
       "    </tr>\n",
       "    <tr>\n",
       "      <th>2</th>\n",
       "      <td>8</td>\n",
       "      <td>1</td>\n",
       "      <td>88.89</td>\n",
       "      <td>11.11</td>\n",
       "    </tr>\n",
       "    <tr>\n",
       "      <th>32</th>\n",
       "      <td>12811</td>\n",
       "      <td>1595</td>\n",
       "      <td>88.93</td>\n",
       "      <td>11.07</td>\n",
       "    </tr>\n",
       "    <tr>\n",
       "      <th>62</th>\n",
       "      <td>275</td>\n",
       "      <td>34</td>\n",
       "      <td>89.00</td>\n",
       "      <td>11.00</td>\n",
       "    </tr>\n",
       "    <tr>\n",
       "      <th>34</th>\n",
       "      <td>10826</td>\n",
       "      <td>1328</td>\n",
       "      <td>89.07</td>\n",
       "      <td>10.93</td>\n",
       "    </tr>\n",
       "    <tr>\n",
       "      <th>31</th>\n",
       "      <td>13471</td>\n",
       "      <td>1652</td>\n",
       "      <td>89.08</td>\n",
       "      <td>10.92</td>\n",
       "    </tr>\n",
       "    <tr>\n",
       "      <th>66</th>\n",
       "      <td>131</td>\n",
       "      <td>16</td>\n",
       "      <td>89.12</td>\n",
       "      <td>10.88</td>\n",
       "    </tr>\n",
       "    <tr>\n",
       "      <th>28</th>\n",
       "      <td>18060</td>\n",
       "      <td>2184</td>\n",
       "      <td>89.21</td>\n",
       "      <td>10.79</td>\n",
       "    </tr>\n",
       "    <tr>\n",
       "      <th>33</th>\n",
       "      <td>11801</td>\n",
       "      <td>1428</td>\n",
       "      <td>89.21</td>\n",
       "      <td>10.79</td>\n",
       "    </tr>\n",
       "    <tr>\n",
       "      <th>35</th>\n",
       "      <td>9780</td>\n",
       "      <td>1179</td>\n",
       "      <td>89.24</td>\n",
       "      <td>10.76</td>\n",
       "    </tr>\n",
       "    <tr>\n",
       "      <th>37</th>\n",
       "      <td>7906</td>\n",
       "      <td>952</td>\n",
       "      <td>89.25</td>\n",
       "      <td>10.75</td>\n",
       "    </tr>\n",
       "    <tr>\n",
       "      <th>29</th>\n",
       "      <td>17456</td>\n",
       "      <td>2077</td>\n",
       "      <td>89.37</td>\n",
       "      <td>10.63</td>\n",
       "    </tr>\n",
       "    <tr>\n",
       "      <th>44</th>\n",
       "      <td>2919</td>\n",
       "      <td>347</td>\n",
       "      <td>89.38</td>\n",
       "      <td>10.62</td>\n",
       "    </tr>\n",
       "    <tr>\n",
       "      <th>57</th>\n",
       "      <td>658</td>\n",
       "      <td>78</td>\n",
       "      <td>89.40</td>\n",
       "      <td>10.60</td>\n",
       "    </tr>\n",
       "    <tr>\n",
       "      <th>30</th>\n",
       "      <td>15361</td>\n",
       "      <td>1814</td>\n",
       "      <td>89.44</td>\n",
       "      <td>10.56</td>\n",
       "    </tr>\n",
       "    <tr>\n",
       "      <th>40</th>\n",
       "      <td>5065</td>\n",
       "      <td>598</td>\n",
       "      <td>89.44</td>\n",
       "      <td>10.56</td>\n",
       "    </tr>\n",
       "    <tr>\n",
       "      <th>46</th>\n",
       "      <td>2697</td>\n",
       "      <td>318</td>\n",
       "      <td>89.45</td>\n",
       "      <td>10.55</td>\n",
       "    </tr>\n",
       "    <tr>\n",
       "      <th>39</th>\n",
       "      <td>5951</td>\n",
       "      <td>700</td>\n",
       "      <td>89.48</td>\n",
       "      <td>10.52</td>\n",
       "    </tr>\n",
       "    <tr>\n",
       "      <th>38</th>\n",
       "      <td>6872</td>\n",
       "      <td>807</td>\n",
       "      <td>89.49</td>\n",
       "      <td>10.51</td>\n",
       "    </tr>\n",
       "    <tr>\n",
       "      <th>41</th>\n",
       "      <td>4675</td>\n",
       "      <td>546</td>\n",
       "      <td>89.54</td>\n",
       "      <td>10.46</td>\n",
       "    </tr>\n",
       "    <tr>\n",
       "      <th>36</th>\n",
       "      <td>8944</td>\n",
       "      <td>1041</td>\n",
       "      <td>89.57</td>\n",
       "      <td>10.43</td>\n",
       "    </tr>\n",
       "    <tr>\n",
       "      <th>43</th>\n",
       "      <td>3338</td>\n",
       "      <td>385</td>\n",
       "      <td>89.66</td>\n",
       "      <td>10.34</td>\n",
       "    </tr>\n",
       "    <tr>\n",
       "      <th>42</th>\n",
       "      <td>3861</td>\n",
       "      <td>444</td>\n",
       "      <td>89.69</td>\n",
       "      <td>10.31</td>\n",
       "    </tr>\n",
       "    <tr>\n",
       "      <th>77</th>\n",
       "      <td>27</td>\n",
       "      <td>3</td>\n",
       "      <td>90.00</td>\n",
       "      <td>10.00</td>\n",
       "    </tr>\n",
       "    <tr>\n",
       "      <th>90</th>\n",
       "      <td>9</td>\n",
       "      <td>1</td>\n",
       "      <td>90.00</td>\n",
       "      <td>10.00</td>\n",
       "    </tr>\n",
       "    <tr>\n",
       "      <th>48</th>\n",
       "      <td>2288</td>\n",
       "      <td>251</td>\n",
       "      <td>90.11</td>\n",
       "      <td>9.89</td>\n",
       "    </tr>\n",
       "    <tr>\n",
       "      <th>45</th>\n",
       "      <td>2726</td>\n",
       "      <td>284</td>\n",
       "      <td>90.56</td>\n",
       "      <td>9.44</td>\n",
       "    </tr>\n",
       "    <tr>\n",
       "      <th>49</th>\n",
       "      <td>2105</td>\n",
       "      <td>215</td>\n",
       "      <td>90.73</td>\n",
       "      <td>9.27</td>\n",
       "    </tr>\n",
       "    <tr>\n",
       "      <th>52</th>\n",
       "      <td>1589</td>\n",
       "      <td>159</td>\n",
       "      <td>90.90</td>\n",
       "      <td>9.10</td>\n",
       "    </tr>\n",
       "    <tr>\n",
       "      <th>100</th>\n",
       "      <td>10</td>\n",
       "      <td>1</td>\n",
       "      <td>90.91</td>\n",
       "      <td>9.09</td>\n",
       "    </tr>\n",
       "    <tr>\n",
       "      <th>55</th>\n",
       "      <td>930</td>\n",
       "      <td>91</td>\n",
       "      <td>91.09</td>\n",
       "      <td>8.91</td>\n",
       "    </tr>\n",
       "    <tr>\n",
       "      <th>50</th>\n",
       "      <td>1848</td>\n",
       "      <td>179</td>\n",
       "      <td>91.17</td>\n",
       "      <td>8.83</td>\n",
       "    </tr>\n",
       "    <tr>\n",
       "      <th>58</th>\n",
       "      <td>494</td>\n",
       "      <td>47</td>\n",
       "      <td>91.31</td>\n",
       "      <td>8.69</td>\n",
       "    </tr>\n",
       "    <tr>\n",
       "      <th>59</th>\n",
       "      <td>467</td>\n",
       "      <td>43</td>\n",
       "      <td>91.57</td>\n",
       "      <td>8.43</td>\n",
       "    </tr>\n",
       "    <tr>\n",
       "      <th>61</th>\n",
       "      <td>358</td>\n",
       "      <td>32</td>\n",
       "      <td>91.79</td>\n",
       "      <td>8.21</td>\n",
       "    </tr>\n",
       "    <tr>\n",
       "      <th>53</th>\n",
       "      <td>1331</td>\n",
       "      <td>114</td>\n",
       "      <td>92.11</td>\n",
       "      <td>7.89</td>\n",
       "    </tr>\n",
       "    <tr>\n",
       "      <th>64</th>\n",
       "      <td>178</td>\n",
       "      <td>15</td>\n",
       "      <td>92.23</td>\n",
       "      <td>7.77</td>\n",
       "    </tr>\n",
       "    <tr>\n",
       "      <th>7</th>\n",
       "      <td>12</td>\n",
       "      <td>1</td>\n",
       "      <td>92.31</td>\n",
       "      <td>7.69</td>\n",
       "    </tr>\n",
       "    <tr>\n",
       "      <th>81</th>\n",
       "      <td>12</td>\n",
       "      <td>1</td>\n",
       "      <td>92.31</td>\n",
       "      <td>7.69</td>\n",
       "    </tr>\n",
       "    <tr>\n",
       "      <th>54</th>\n",
       "      <td>1073</td>\n",
       "      <td>86</td>\n",
       "      <td>92.58</td>\n",
       "      <td>7.42</td>\n",
       "    </tr>\n",
       "    <tr>\n",
       "      <th>51</th>\n",
       "      <td>1824</td>\n",
       "      <td>146</td>\n",
       "      <td>92.59</td>\n",
       "      <td>7.41</td>\n",
       "    </tr>\n",
       "    <tr>\n",
       "      <th>-1</th>\n",
       "      <td>64</td>\n",
       "      <td>5</td>\n",
       "      <td>92.75</td>\n",
       "      <td>7.25</td>\n",
       "    </tr>\n",
       "    <tr>\n",
       "      <th>60</th>\n",
       "      <td>422</td>\n",
       "      <td>33</td>\n",
       "      <td>92.75</td>\n",
       "      <td>7.25</td>\n",
       "    </tr>\n",
       "    <tr>\n",
       "      <th>56</th>\n",
       "      <td>784</td>\n",
       "      <td>60</td>\n",
       "      <td>92.89</td>\n",
       "      <td>7.11</td>\n",
       "    </tr>\n",
       "    <tr>\n",
       "      <th>70</th>\n",
       "      <td>53</td>\n",
       "      <td>4</td>\n",
       "      <td>92.98</td>\n",
       "      <td>7.02</td>\n",
       "    </tr>\n",
       "    <tr>\n",
       "      <th>0</th>\n",
       "      <td>443679</td>\n",
       "      <td>30050</td>\n",
       "      <td>93.66</td>\n",
       "      <td>6.34</td>\n",
       "    </tr>\n",
       "    <tr>\n",
       "      <th>95</th>\n",
       "      <td>18</td>\n",
       "      <td>1</td>\n",
       "      <td>94.74</td>\n",
       "      <td>5.26</td>\n",
       "    </tr>\n",
       "    <tr>\n",
       "      <th>69</th>\n",
       "      <td>65</td>\n",
       "      <td>2</td>\n",
       "      <td>97.01</td>\n",
       "      <td>2.99</td>\n",
       "    </tr>\n",
       "    <tr>\n",
       "      <th>8</th>\n",
       "      <td>4</td>\n",
       "      <td>0</td>\n",
       "      <td>100.00</td>\n",
       "      <td>0.00</td>\n",
       "    </tr>\n",
       "    <tr>\n",
       "      <th>9</th>\n",
       "      <td>6</td>\n",
       "      <td>0</td>\n",
       "      <td>100.00</td>\n",
       "      <td>0.00</td>\n",
       "    </tr>\n",
       "    <tr>\n",
       "      <th>11</th>\n",
       "      <td>9</td>\n",
       "      <td>0</td>\n",
       "      <td>100.00</td>\n",
       "      <td>0.00</td>\n",
       "    </tr>\n",
       "    <tr>\n",
       "      <th>94</th>\n",
       "      <td>10</td>\n",
       "      <td>0</td>\n",
       "      <td>100.00</td>\n",
       "      <td>0.00</td>\n",
       "    </tr>\n",
       "    <tr>\n",
       "      <th>3</th>\n",
       "      <td>9</td>\n",
       "      <td>0</td>\n",
       "      <td>100.00</td>\n",
       "      <td>0.00</td>\n",
       "    </tr>\n",
       "    <tr>\n",
       "      <th>73</th>\n",
       "      <td>37</td>\n",
       "      <td>0</td>\n",
       "      <td>100.00</td>\n",
       "      <td>0.00</td>\n",
       "    </tr>\n",
       "    <tr>\n",
       "      <th>93</th>\n",
       "      <td>9</td>\n",
       "      <td>0</td>\n",
       "      <td>100.00</td>\n",
       "      <td>0.00</td>\n",
       "    </tr>\n",
       "    <tr>\n",
       "      <th>88</th>\n",
       "      <td>7</td>\n",
       "      <td>0</td>\n",
       "      <td>100.00</td>\n",
       "      <td>0.00</td>\n",
       "    </tr>\n",
       "    <tr>\n",
       "      <th>86</th>\n",
       "      <td>8</td>\n",
       "      <td>0</td>\n",
       "      <td>100.00</td>\n",
       "      <td>0.00</td>\n",
       "    </tr>\n",
       "    <tr>\n",
       "      <th>85</th>\n",
       "      <td>6</td>\n",
       "      <td>0</td>\n",
       "      <td>100.00</td>\n",
       "      <td>0.00</td>\n",
       "    </tr>\n",
       "    <tr>\n",
       "      <th>84</th>\n",
       "      <td>22</td>\n",
       "      <td>0</td>\n",
       "      <td>100.00</td>\n",
       "      <td>0.00</td>\n",
       "    </tr>\n",
       "    <tr>\n",
       "      <th>78</th>\n",
       "      <td>12</td>\n",
       "      <td>0</td>\n",
       "      <td>100.00</td>\n",
       "      <td>0.00</td>\n",
       "    </tr>\n",
       "    <tr>\n",
       "      <th>87</th>\n",
       "      <td>9</td>\n",
       "      <td>0</td>\n",
       "      <td>100.00</td>\n",
       "      <td>0.00</td>\n",
       "    </tr>\n",
       "  </tbody>\n",
       "</table>\n",
       "</div>"
      ],
      "text/plain": [
       "is_churn       0      1     0_%    1_%\n",
       "bd                                    \n",
       " 99            1      1   50.00  50.00\n",
       " 14          166    116   58.87  41.13\n",
       " 13           41     22   65.08  34.92\n",
       " 15          581    267   68.51  31.49\n",
       " 4             7      3   70.00  30.00\n",
       " 16         1809    735   71.11  28.89\n",
       " 17         4330   1583   73.23  26.77\n",
       " 18         6076   2131   74.03  25.97\n",
       " 19         7535   2326   76.41  23.59\n",
       " 79           10      3   76.92  23.08\n",
       " 98            7      2   77.78  22.22\n",
       " 20        10703   2975   78.25  21.75\n",
       " 21        12481   3152   79.84  20.16\n",
       " 80            8      2   80.00  20.00\n",
       " 83            8      2   80.00  20.00\n",
       " 6            12      3   80.00  20.00\n",
       " 97            9      2   81.82  18.18\n",
       " 10            9      2   81.82  18.18\n",
       " 22        14888   3147   82.55  17.45\n",
       " 12           19      4   82.61  17.39\n",
       " 91           15      3   83.33  16.67\n",
       " 67          118     22   84.29  15.71\n",
       " 101         385     69   84.80  15.20\n",
       " 23        16342   2896   84.95  15.05\n",
       " 71           34      6   85.00  15.00\n",
       " 1            18      3   85.71  14.29\n",
       " 72           36      6   85.71  14.29\n",
       " 82            6      1   85.71  14.29\n",
       " 92           12      2   85.71  14.29\n",
       " 65          148     23   86.55  13.45\n",
       " 68           78     12   86.67  13.33\n",
       " 24        17619   2677   86.81  13.19\n",
       " 76           20      3   86.96  13.04\n",
       " 75           20      3   86.96  13.04\n",
       " 74           27      4   87.10  12.90\n",
       " 89           14      2   87.50  12.50\n",
       " 5            14      2   87.50  12.50\n",
       " 96            7      1   87.50  12.50\n",
       " 25        18141   2510   87.85  12.15\n",
       " 27        20208   2578   88.69  11.31\n",
       " 63          229     29   88.76  11.24\n",
       " 26        19381   2448   88.79  11.21\n",
       " 47         2567    322   88.85  11.15\n",
       " 2             8      1   88.89  11.11\n",
       " 32        12811   1595   88.93  11.07\n",
       " 62          275     34   89.00  11.00\n",
       " 34        10826   1328   89.07  10.93\n",
       " 31        13471   1652   89.08  10.92\n",
       " 66          131     16   89.12  10.88\n",
       " 28        18060   2184   89.21  10.79\n",
       " 33        11801   1428   89.21  10.79\n",
       " 35         9780   1179   89.24  10.76\n",
       " 37         7906    952   89.25  10.75\n",
       " 29        17456   2077   89.37  10.63\n",
       " 44         2919    347   89.38  10.62\n",
       " 57          658     78   89.40  10.60\n",
       " 30        15361   1814   89.44  10.56\n",
       " 40         5065    598   89.44  10.56\n",
       " 46         2697    318   89.45  10.55\n",
       " 39         5951    700   89.48  10.52\n",
       " 38         6872    807   89.49  10.51\n",
       " 41         4675    546   89.54  10.46\n",
       " 36         8944   1041   89.57  10.43\n",
       " 43         3338    385   89.66  10.34\n",
       " 42         3861    444   89.69  10.31\n",
       " 77           27      3   90.00  10.00\n",
       " 90            9      1   90.00  10.00\n",
       " 48         2288    251   90.11   9.89\n",
       " 45         2726    284   90.56   9.44\n",
       " 49         2105    215   90.73   9.27\n",
       " 52         1589    159   90.90   9.10\n",
       " 100          10      1   90.91   9.09\n",
       " 55          930     91   91.09   8.91\n",
       " 50         1848    179   91.17   8.83\n",
       " 58          494     47   91.31   8.69\n",
       " 59          467     43   91.57   8.43\n",
       " 61          358     32   91.79   8.21\n",
       " 53         1331    114   92.11   7.89\n",
       " 64          178     15   92.23   7.77\n",
       " 7            12      1   92.31   7.69\n",
       " 81           12      1   92.31   7.69\n",
       " 54         1073     86   92.58   7.42\n",
       " 51         1824    146   92.59   7.41\n",
       "-1            64      5   92.75   7.25\n",
       " 60          422     33   92.75   7.25\n",
       " 56          784     60   92.89   7.11\n",
       " 70           53      4   92.98   7.02\n",
       " 0        443679  30050   93.66   6.34\n",
       " 95           18      1   94.74   5.26\n",
       " 69           65      2   97.01   2.99\n",
       " 8             4      0  100.00   0.00\n",
       " 9             6      0  100.00   0.00\n",
       " 11            9      0  100.00   0.00\n",
       " 94           10      0  100.00   0.00\n",
       " 3             9      0  100.00   0.00\n",
       " 73           37      0  100.00   0.00\n",
       " 93            9      0  100.00   0.00\n",
       " 88            7      0  100.00   0.00\n",
       " 86            8      0  100.00   0.00\n",
       " 85            6      0  100.00   0.00\n",
       " 84           22      0  100.00   0.00\n",
       " 78           12      0  100.00   0.00\n",
       " 87            9      0  100.00   0.00"
      ]
     },
     "execution_count": 17,
     "metadata": {},
     "output_type": "execute_result"
    },
    {
     "data": {
      "image/png": "[encoded data removed]",
      "text/plain": [
       "<matplotlib.figure.Figure at 0x1aa182d8cf8>"
      ]
     },
     "metadata": {},
     "output_type": "display_data"
    }
   ],
   "source": [
    "bd_crosstab=pd.crosstab(train_members['bd'],train_members['is_churn'])\n",
    "bd_crosstab[\"0_%\"] =  round(bd_crosstab[0]/(bd_crosstab[1]+bd_crosstab[0])*100, 2)\n",
    "bd_crosstab[\"1_%\"] =  round(bd_crosstab[1]/(bd_crosstab[1]+bd_crosstab[0])*100, 2)\n",
    "bd_crosstab.sort_values('1_%', ascending = False)\n",
    "\n",
    "sns.set_style(\"whitegrid\")\n",
    "plt.rcParams['figure.figsize']=(20,10)\n",
    "ax = sns.barplot(x = bd_crosstab.index.values, y = \"1_%\", data=bd_crosstab).set_title(\"% of churn depend of values\")"
   ]
  },
  {
   "cell_type": "markdown",
   "metadata": {},
   "source": [
    "We can clearly see that teens(13-19) tend to churn more often. I would split for category teen and others in FE(Feature engineering) and consider to separate in other category fake information outliers from tails."
   ]
  },
  {
   "cell_type": "markdown",
   "metadata": {},
   "source": [
    "##### 2.2.3 Members ['gender']"
   ]
  },
  {
   "cell_type": "code",
   "execution_count": 18,
   "metadata": {},
   "outputs": [
    {
     "data": {
      "text/html": [
       "<div>\n",
       "<style scoped>\n",
       "    .dataframe tbody tr th:only-of-type {\n",
       "        vertical-align: middle;\n",
       "    }\n",
       "\n",
       "    .dataframe tbody tr th {\n",
       "        vertical-align: top;\n",
       "    }\n",
       "\n",
       "    .dataframe thead th {\n",
       "        text-align: right;\n",
       "    }\n",
       "</style>\n",
       "<table border=\"1\" class=\"dataframe\">\n",
       "  <thead>\n",
       "    <tr style=\"text-align: right;\">\n",
       "      <th>is_churn</th>\n",
       "      <th>0</th>\n",
       "      <th>1</th>\n",
       "      <th>0_%</th>\n",
       "      <th>1_%</th>\n",
       "    </tr>\n",
       "    <tr>\n",
       "      <th>gender</th>\n",
       "      <th></th>\n",
       "      <th></th>\n",
       "      <th></th>\n",
       "      <th></th>\n",
       "    </tr>\n",
       "  </thead>\n",
       "  <tbody>\n",
       "    <tr>\n",
       "      <th>female</th>\n",
       "      <td>160404</td>\n",
       "      <td>23940</td>\n",
       "      <td>87.01</td>\n",
       "      <td>12.99</td>\n",
       "    </tr>\n",
       "    <tr>\n",
       "      <th>male</th>\n",
       "      <td>178165</td>\n",
       "      <td>26396</td>\n",
       "      <td>87.10</td>\n",
       "      <td>12.90</td>\n",
       "    </tr>\n",
       "    <tr>\n",
       "      <th>NAN</th>\n",
       "      <td>440950</td>\n",
       "      <td>31112</td>\n",
       "      <td>93.41</td>\n",
       "      <td>6.59</td>\n",
       "    </tr>\n",
       "  </tbody>\n",
       "</table>\n",
       "</div>"
      ],
      "text/plain": [
       "is_churn       0      1    0_%    1_%\n",
       "gender                               \n",
       "female    160404  23940  87.01  12.99\n",
       "male      178165  26396  87.10  12.90\n",
       "NAN       440950  31112  93.41   6.59"
      ]
     },
     "execution_count": 18,
     "metadata": {},
     "output_type": "execute_result"
    },
    {
     "data": {
      "image/png": "[encoded data removed]",
      "text/plain": [
       "<matplotlib.figure.Figure at 0x1aa186f97b8>"
      ]
     },
     "metadata": {},
     "output_type": "display_data"
    }
   ],
   "source": [
    "gender_crosstab=pd.crosstab(train_members['gender'],train_members['is_churn'])\n",
    "gender_crosstab[\"0_%\"] =  round(gender_crosstab[0]/(gender_crosstab[1]+gender_crosstab[0])*100, 2)\n",
    "gender_crosstab[\"1_%\"] =  round(gender_crosstab[1]/(gender_crosstab[1]+gender_crosstab[0])*100, 2)\n",
    "gender_crosstab.sort_values('1_%', ascending = False)\n",
    "\n",
    "sns.set_style(\"whitegrid\")\n",
    "plt.rcParams['figure.figsize']=(20,10)\n",
    "ax = sns.barplot(x = gender_crosstab.index.values, y = \"1_%\", data=gender_crosstab, palette=\"Set2\").set_title(\"% of churn depend of values\")"
   ]
  },
  {
   "cell_type": "markdown",
   "metadata": {},
   "source": [
    "Distribution is almost equal for man and woman + we have missing values. In more deep analysis can be consider to try to predict gender of user. In this analysis we will rather treat this variable as not very informative and rather not use in model."
   ]
  },
  {
   "cell_type": "markdown",
   "metadata": {},
   "source": [
    "##### 2.2.4 Members ['registered_via']"
   ]
  },
  {
   "cell_type": "code",
   "execution_count": 19,
   "metadata": {},
   "outputs": [
    {
     "data": {
      "text/plain": [
       "<matplotlib.figure.Figure at 0x1aa1837e128>"
      ]
     },
     "execution_count": 19,
     "metadata": {},
     "output_type": "execute_result"
    },
    {
     "data": {
      "text/plain": [
       "<matplotlib.axes._subplots.AxesSubplot at 0x1aa17d0deb8>"
      ]
     },
     "execution_count": 19,
     "metadata": {},
     "output_type": "execute_result"
    },
    {
     "data": {
      "text/plain": [
       "Text(0,0.5,'Count')"
      ]
     },
     "execution_count": 19,
     "metadata": {},
     "output_type": "execute_result"
    },
    {
     "data": {
      "text/plain": [
       "Text(0.5,0,'registered_via')"
      ]
     },
     "execution_count": 19,
     "metadata": {},
     "output_type": "execute_result"
    },
    {
     "data": {
      "text/plain": [
       "(array([0, 1, 2, 3, 4]), <a list of 5 Text xticklabel objects>)"
      ]
     },
     "execution_count": 19,
     "metadata": {},
     "output_type": "execute_result"
    },
    {
     "data": {
      "text/plain": [
       "Text(0.5,1,'Frequency of registered_via in train_members Data Set')"
      ]
     },
     "execution_count": 19,
     "metadata": {},
     "output_type": "execute_result"
    },
    {
     "data": {
      "image/png": "[encoded data removed]",
      "text/plain": [
       "<matplotlib.figure.Figure at 0x1aa1837e128>"
      ]
     },
     "metadata": {},
     "output_type": "display_data"
    }
   ],
   "source": [
    "plt.figure(figsize=(18,6))\n",
    "sns.countplot(x=\"registered_via\", data=train_members, palette=\"Set2\")\n",
    "plt.ylabel('Count', fontsize=12)\n",
    "plt.xlabel('registered_via', fontsize=12)\n",
    "plt.xticks(rotation='vertical')\n",
    "plt.title(\"Frequency of registered_via in train_members Data Set\", fontsize=12)\n",
    "plt.show()"
   ]
  },
  {
   "cell_type": "code",
   "execution_count": 20,
   "metadata": {},
   "outputs": [
    {
     "data": {
      "text/html": [
       "<div>\n",
       "<style scoped>\n",
       "    .dataframe tbody tr th:only-of-type {\n",
       "        vertical-align: middle;\n",
       "    }\n",
       "\n",
       "    .dataframe tbody tr th {\n",
       "        vertical-align: top;\n",
       "    }\n",
       "\n",
       "    .dataframe thead th {\n",
       "        text-align: right;\n",
       "    }\n",
       "</style>\n",
       "<table border=\"1\" class=\"dataframe\">\n",
       "  <thead>\n",
       "    <tr style=\"text-align: right;\">\n",
       "      <th>is_churn</th>\n",
       "      <th>0</th>\n",
       "      <th>1</th>\n",
       "      <th>0_%</th>\n",
       "      <th>1_%</th>\n",
       "    </tr>\n",
       "    <tr>\n",
       "      <th>registered_via</th>\n",
       "      <th></th>\n",
       "      <th></th>\n",
       "      <th></th>\n",
       "      <th></th>\n",
       "    </tr>\n",
       "  </thead>\n",
       "  <tbody>\n",
       "    <tr>\n",
       "      <th>4</th>\n",
       "      <td>40559</td>\n",
       "      <td>12185</td>\n",
       "      <td>76.90</td>\n",
       "      <td>23.10</td>\n",
       "    </tr>\n",
       "    <tr>\n",
       "      <th>3</th>\n",
       "      <td>88121</td>\n",
       "      <td>18338</td>\n",
       "      <td>82.77</td>\n",
       "      <td>17.23</td>\n",
       "    </tr>\n",
       "    <tr>\n",
       "      <th>9</th>\n",
       "      <td>205796</td>\n",
       "      <td>29893</td>\n",
       "      <td>87.32</td>\n",
       "      <td>12.68</td>\n",
       "    </tr>\n",
       "    <tr>\n",
       "      <th>13</th>\n",
       "      <td>3056</td>\n",
       "      <td>335</td>\n",
       "      <td>90.12</td>\n",
       "      <td>9.88</td>\n",
       "    </tr>\n",
       "    <tr>\n",
       "      <th>7</th>\n",
       "      <td>441987</td>\n",
       "      <td>20697</td>\n",
       "      <td>95.53</td>\n",
       "      <td>4.47</td>\n",
       "    </tr>\n",
       "  </tbody>\n",
       "</table>\n",
       "</div>"
      ],
      "text/plain": [
       "is_churn             0      1    0_%    1_%\n",
       "registered_via                             \n",
       "4                40559  12185  76.90  23.10\n",
       "3                88121  18338  82.77  17.23\n",
       "9               205796  29893  87.32  12.68\n",
       "13                3056    335  90.12   9.88\n",
       "7               441987  20697  95.53   4.47"
      ]
     },
     "execution_count": 20,
     "metadata": {},
     "output_type": "execute_result"
    },
    {
     "data": {
      "image/png": "[encoded data removed]",
      "text/plain": [
       "<matplotlib.figure.Figure at 0x1aa26622c88>"
      ]
     },
     "metadata": {},
     "output_type": "display_data"
    }
   ],
   "source": [
    "registered_via_crosstab=pd.crosstab(train_members['registered_via'],train_members['is_churn'])\n",
    "registered_via_crosstab[\"0_%\"] =  round(registered_via_crosstab[0]/(registered_via_crosstab[1]+registered_via_crosstab[0])*100, 2)\n",
    "registered_via_crosstab[\"1_%\"] =  round(registered_via_crosstab[1]/(registered_via_crosstab[1]+registered_via_crosstab[0])*100, 2)\n",
    "registered_via_crosstab.sort_values('1_%', ascending = False)\n",
    "\n",
    "sns.set_style(\"whitegrid\")\n",
    "plt.rcParams['figure.figsize']=(20,10)\n",
    "ax = sns.barplot(x = registered_via_crosstab.index.values, y = \"1_%\", data=registered_via_crosstab, palette=\"Set2\").set_title(\"% of churn depend of values\")"
   ]
  },
  {
   "cell_type": "markdown",
   "metadata": {},
   "source": [
    "Majority users in given dataset register using method 7, which have as well lowest churn rate. We can consider building new feature with 3 clusters: 7; 9 and 13, 3 and 4."
   ]
  },
  {
   "cell_type": "markdown",
   "metadata": {},
   "source": [
    "##### 2.2.5 Members ['registration_init_time'] "
   ]
  },
  {
   "cell_type": "markdown",
   "metadata": {},
   "source": [
    "**Creation of 2 new feature containing information about month and weekday**"
   ]
  },
  {
   "cell_type": "code",
   "execution_count": 21,
   "metadata": {},
   "outputs": [],
   "source": [
    "#train_members['registration_init_time_weekday_cat'] = pd.DatetimeIndex(train_members['registration_init_time']).weekday_name\n",
    "train_members['registration_init_time_weekday'] = pd.DatetimeIndex(train_members['registration_init_time']).weekday\n",
    "train_members['registration_init_time_month'] = pd.DatetimeIndex(train_members['registration_init_time']).month"
   ]
  },
  {
   "cell_type": "code",
   "execution_count": 22,
   "metadata": {},
   "outputs": [
    {
     "data": {
      "text/html": [
       "<div>\n",
       "<style scoped>\n",
       "    .dataframe tbody tr th:only-of-type {\n",
       "        vertical-align: middle;\n",
       "    }\n",
       "\n",
       "    .dataframe tbody tr th {\n",
       "        vertical-align: top;\n",
       "    }\n",
       "\n",
       "    .dataframe thead th {\n",
       "        text-align: right;\n",
       "    }\n",
       "</style>\n",
       "<table border=\"1\" class=\"dataframe\">\n",
       "  <thead>\n",
       "    <tr style=\"text-align: right;\">\n",
       "      <th></th>\n",
       "      <th>msno</th>\n",
       "      <th>is_churn</th>\n",
       "      <th>city</th>\n",
       "      <th>bd</th>\n",
       "      <th>gender</th>\n",
       "      <th>registered_via</th>\n",
       "      <th>registration_init_time</th>\n",
       "      <th>registration_init_time_weekday</th>\n",
       "      <th>registration_init_time_month</th>\n",
       "    </tr>\n",
       "  </thead>\n",
       "  <tbody>\n",
       "    <tr>\n",
       "      <th>0</th>\n",
       "      <td>ugx0CjOMzazClkFzU2xasmDZaoIqOUAZPsH1q0teWCg=</td>\n",
       "      <td>1</td>\n",
       "      <td>5</td>\n",
       "      <td>28</td>\n",
       "      <td>male</td>\n",
       "      <td>3</td>\n",
       "      <td>2013-12-23</td>\n",
       "      <td>0</td>\n",
       "      <td>12</td>\n",
       "    </tr>\n",
       "    <tr>\n",
       "      <th>1</th>\n",
       "      <td>f/NmvEzHfhINFEYZTR05prUdr+E+3+oewvweYz9cCQE=</td>\n",
       "      <td>1</td>\n",
       "      <td>13</td>\n",
       "      <td>20</td>\n",
       "      <td>male</td>\n",
       "      <td>3</td>\n",
       "      <td>2013-12-23</td>\n",
       "      <td>0</td>\n",
       "      <td>12</td>\n",
       "    </tr>\n",
       "    <tr>\n",
       "      <th>2</th>\n",
       "      <td>zLo9f73nGGT1p21ltZC3ChiRnAVvgibMyazbCxvWPcg=</td>\n",
       "      <td>1</td>\n",
       "      <td>13</td>\n",
       "      <td>18</td>\n",
       "      <td>male</td>\n",
       "      <td>3</td>\n",
       "      <td>2013-12-27</td>\n",
       "      <td>4</td>\n",
       "      <td>12</td>\n",
       "    </tr>\n",
       "    <tr>\n",
       "      <th>3</th>\n",
       "      <td>8iF/+8HY8lJKFrTc7iR9ZYGCG2Ecrogbc2Vy5YhsfhQ=</td>\n",
       "      <td>1</td>\n",
       "      <td>1</td>\n",
       "      <td>0</td>\n",
       "      <td>NAN</td>\n",
       "      <td>7</td>\n",
       "      <td>2014-01-09</td>\n",
       "      <td>3</td>\n",
       "      <td>1</td>\n",
       "    </tr>\n",
       "    <tr>\n",
       "      <th>4</th>\n",
       "      <td>K6fja4+jmoZ5xG6BypqX80Uw/XKpMgrEMdG2edFOxnA=</td>\n",
       "      <td>1</td>\n",
       "      <td>13</td>\n",
       "      <td>35</td>\n",
       "      <td>female</td>\n",
       "      <td>7</td>\n",
       "      <td>2014-01-25</td>\n",
       "      <td>5</td>\n",
       "      <td>1</td>\n",
       "    </tr>\n",
       "  </tbody>\n",
       "</table>\n",
       "</div>"
      ],
      "text/plain": [
       "                                           msno  is_churn  city  bd  gender  \\\n",
       "0  ugx0CjOMzazClkFzU2xasmDZaoIqOUAZPsH1q0teWCg=         1     5  28    male   \n",
       "1  f/NmvEzHfhINFEYZTR05prUdr+E+3+oewvweYz9cCQE=         1    13  20    male   \n",
       "2  zLo9f73nGGT1p21ltZC3ChiRnAVvgibMyazbCxvWPcg=         1    13  18    male   \n",
       "3  8iF/+8HY8lJKFrTc7iR9ZYGCG2Ecrogbc2Vy5YhsfhQ=         1     1   0     NAN   \n",
       "4  K6fja4+jmoZ5xG6BypqX80Uw/XKpMgrEMdG2edFOxnA=         1    13  35  female   \n",
       "\n",
       "   registered_via registration_init_time  registration_init_time_weekday  \\\n",
       "0               3             2013-12-23                               0   \n",
       "1               3             2013-12-23                               0   \n",
       "2               3             2013-12-27                               4   \n",
       "3               7             2014-01-09                               3   \n",
       "4               7             2014-01-25                               5   \n",
       "\n",
       "   registration_init_time_month  \n",
       "0                            12  \n",
       "1                            12  \n",
       "2                            12  \n",
       "3                             1  \n",
       "4                             1  "
      ]
     },
     "execution_count": 22,
     "metadata": {},
     "output_type": "execute_result"
    }
   ],
   "source": [
    "train_members.head()"
   ]
  },
  {
   "cell_type": "code",
   "execution_count": 23,
   "metadata": {},
   "outputs": [
    {
     "data": {
      "text/plain": [
       "<matplotlib.figure.Figure at 0x1aa18385a58>"
      ]
     },
     "execution_count": 23,
     "metadata": {},
     "output_type": "execute_result"
    },
    {
     "data": {
      "text/plain": [
       "<matplotlib.axes._subplots.AxesSubplot at 0x1aa18dfe518>"
      ]
     },
     "execution_count": 23,
     "metadata": {},
     "output_type": "execute_result"
    },
    {
     "data": {
      "text/plain": [
       "Text(0,0.5,'Count')"
      ]
     },
     "execution_count": 23,
     "metadata": {},
     "output_type": "execute_result"
    },
    {
     "data": {
      "text/plain": [
       "Text(0.5,0,'registration_init_time_month')"
      ]
     },
     "execution_count": 23,
     "metadata": {},
     "output_type": "execute_result"
    },
    {
     "data": {
      "text/plain": [
       "(array([ 0,  1,  2,  3,  4,  5,  6,  7,  8,  9, 10, 11]),\n",
       " <a list of 12 Text xticklabel objects>)"
      ]
     },
     "execution_count": 23,
     "metadata": {},
     "output_type": "execute_result"
    },
    {
     "data": {
      "text/plain": [
       "Text(0.5,1,'Frequency of registration_init_time_month in train_members Data Set')"
      ]
     },
     "execution_count": 23,
     "metadata": {},
     "output_type": "execute_result"
    },
    {
     "data": {
      "image/png": "[encoded data removed]",
      "text/plain": [
       "<matplotlib.figure.Figure at 0x1aa18385a58>"
      ]
     },
     "metadata": {},
     "output_type": "display_data"
    }
   ],
   "source": [
    "plt.figure(figsize=(18,6))\n",
    "sns.countplot(x=\"registration_init_time_month\", data=train_members, palette=\"Set2\")\n",
    "plt.ylabel('Count', fontsize=12)\n",
    "plt.xlabel('registration_init_time_month', fontsize=12)\n",
    "plt.xticks(rotation='vertical')\n",
    "plt.title(\"Frequency of registration_init_time_month in train_members Data Set\", fontsize=12)\n",
    "plt.show()"
   ]
  },
  {
   "cell_type": "code",
   "execution_count": 24,
   "metadata": {},
   "outputs": [
    {
     "data": {
      "text/html": [
       "<div>\n",
       "<style scoped>\n",
       "    .dataframe tbody tr th:only-of-type {\n",
       "        vertical-align: middle;\n",
       "    }\n",
       "\n",
       "    .dataframe tbody tr th {\n",
       "        vertical-align: top;\n",
       "    }\n",
       "\n",
       "    .dataframe thead th {\n",
       "        text-align: right;\n",
       "    }\n",
       "</style>\n",
       "<table border=\"1\" class=\"dataframe\">\n",
       "  <thead>\n",
       "    <tr style=\"text-align: right;\">\n",
       "      <th>is_churn</th>\n",
       "      <th>0</th>\n",
       "      <th>1</th>\n",
       "      <th>0_%</th>\n",
       "      <th>1_%</th>\n",
       "    </tr>\n",
       "    <tr>\n",
       "      <th>registration_init_time_month</th>\n",
       "      <th></th>\n",
       "      <th></th>\n",
       "      <th></th>\n",
       "      <th></th>\n",
       "    </tr>\n",
       "  </thead>\n",
       "  <tbody>\n",
       "    <tr>\n",
       "      <th>3</th>\n",
       "      <td>58027</td>\n",
       "      <td>7911</td>\n",
       "      <td>88.00</td>\n",
       "      <td>12.00</td>\n",
       "    </tr>\n",
       "    <tr>\n",
       "      <th>2</th>\n",
       "      <td>76593</td>\n",
       "      <td>9035</td>\n",
       "      <td>89.45</td>\n",
       "      <td>10.55</td>\n",
       "    </tr>\n",
       "    <tr>\n",
       "      <th>1</th>\n",
       "      <td>80691</td>\n",
       "      <td>8949</td>\n",
       "      <td>90.02</td>\n",
       "      <td>9.98</td>\n",
       "    </tr>\n",
       "    <tr>\n",
       "      <th>9</th>\n",
       "      <td>61383</td>\n",
       "      <td>6602</td>\n",
       "      <td>90.29</td>\n",
       "      <td>9.71</td>\n",
       "    </tr>\n",
       "    <tr>\n",
       "      <th>4</th>\n",
       "      <td>45004</td>\n",
       "      <td>4728</td>\n",
       "      <td>90.49</td>\n",
       "      <td>9.51</td>\n",
       "    </tr>\n",
       "    <tr>\n",
       "      <th>6</th>\n",
       "      <td>53218</td>\n",
       "      <td>5364</td>\n",
       "      <td>90.84</td>\n",
       "      <td>9.16</td>\n",
       "    </tr>\n",
       "    <tr>\n",
       "      <th>5</th>\n",
       "      <td>50419</td>\n",
       "      <td>5025</td>\n",
       "      <td>90.94</td>\n",
       "      <td>9.06</td>\n",
       "    </tr>\n",
       "    <tr>\n",
       "      <th>12</th>\n",
       "      <td>73885</td>\n",
       "      <td>7345</td>\n",
       "      <td>90.96</td>\n",
       "      <td>9.04</td>\n",
       "    </tr>\n",
       "    <tr>\n",
       "      <th>10</th>\n",
       "      <td>73268</td>\n",
       "      <td>7260</td>\n",
       "      <td>90.98</td>\n",
       "      <td>9.02</td>\n",
       "    </tr>\n",
       "    <tr>\n",
       "      <th>8</th>\n",
       "      <td>68437</td>\n",
       "      <td>6631</td>\n",
       "      <td>91.17</td>\n",
       "      <td>8.83</td>\n",
       "    </tr>\n",
       "    <tr>\n",
       "      <th>11</th>\n",
       "      <td>71233</td>\n",
       "      <td>6755</td>\n",
       "      <td>91.34</td>\n",
       "      <td>8.66</td>\n",
       "    </tr>\n",
       "    <tr>\n",
       "      <th>7</th>\n",
       "      <td>67361</td>\n",
       "      <td>5843</td>\n",
       "      <td>92.02</td>\n",
       "      <td>7.98</td>\n",
       "    </tr>\n",
       "  </tbody>\n",
       "</table>\n",
       "</div>"
      ],
      "text/plain": [
       "is_churn                          0     1    0_%    1_%\n",
       "registration_init_time_month                           \n",
       "3                             58027  7911  88.00  12.00\n",
       "2                             76593  9035  89.45  10.55\n",
       "1                             80691  8949  90.02   9.98\n",
       "9                             61383  6602  90.29   9.71\n",
       "4                             45004  4728  90.49   9.51\n",
       "6                             53218  5364  90.84   9.16\n",
       "5                             50419  5025  90.94   9.06\n",
       "12                            73885  7345  90.96   9.04\n",
       "10                            73268  7260  90.98   9.02\n",
       "8                             68437  6631  91.17   8.83\n",
       "11                            71233  6755  91.34   8.66\n",
       "7                             67361  5843  92.02   7.98"
      ]
     },
     "execution_count": 24,
     "metadata": {},
     "output_type": "execute_result"
    },
    {
     "data": {
      "image/png": "[encoded data removed]",
      "text/plain": [
       "<matplotlib.figure.Figure at 0x1ab280cf080>"
      ]
     },
     "metadata": {},
     "output_type": "display_data"
    }
   ],
   "source": [
    "month_crosstab=pd.crosstab(train_members['registration_init_time_month'],train_members['is_churn'])\n",
    "month_crosstab[\"0_%\"] =  round(month_crosstab[0]/(month_crosstab[1]+month_crosstab[0])*100, 2)\n",
    "month_crosstab[\"1_%\"] =  round(month_crosstab[1]/(month_crosstab[1]+month_crosstab[0])*100, 2)\n",
    "month_crosstab.sort_values('1_%', ascending = False)\n",
    "\n",
    "sns.set_style(\"whitegrid\")\n",
    "plt.rcParams['figure.figsize']=(20,10)\n",
    "ax = sns.barplot(x = month_crosstab.index.values, y = \"1_%\", data=month_crosstab, palette=\"Set2\").set_title(\"% of churn depend of values\")"
   ]
  },
  {
   "cell_type": "markdown",
   "metadata": {},
   "source": [
    "More users tend to churn at the first quarter of the year. Seasons split can be consider but there is no visible tendency besides already desribed one."
   ]
  },
  {
   "cell_type": "code",
   "execution_count": 25,
   "metadata": {},
   "outputs": [
    {
     "data": {
      "text/plain": [
       "<matplotlib.figure.Figure at 0x1ab280c8128>"
      ]
     },
     "execution_count": 25,
     "metadata": {},
     "output_type": "execute_result"
    },
    {
     "data": {
      "text/plain": [
       "<matplotlib.axes._subplots.AxesSubplot at 0x1aa265ccbe0>"
      ]
     },
     "execution_count": 25,
     "metadata": {},
     "output_type": "execute_result"
    },
    {
     "data": {
      "text/plain": [
       "Text(0,0.5,'Count')"
      ]
     },
     "execution_count": 25,
     "metadata": {},
     "output_type": "execute_result"
    },
    {
     "data": {
      "text/plain": [
       "Text(0.5,0,'registration_init_time_weekday')"
      ]
     },
     "execution_count": 25,
     "metadata": {},
     "output_type": "execute_result"
    },
    {
     "data": {
      "text/plain": [
       "(array([0, 1, 2, 3, 4, 5, 6]), <a list of 7 Text xticklabel objects>)"
      ]
     },
     "execution_count": 25,
     "metadata": {},
     "output_type": "execute_result"
    },
    {
     "data": {
      "text/plain": [
       "Text(0.5,1,'Frequency of registration_init_time_weekday in train_members Data Set')"
      ]
     },
     "execution_count": 25,
     "metadata": {},
     "output_type": "execute_result"
    },
    {
     "data": {
      "image/png": "[encoded data removed]",
      "text/plain": [
       "<matplotlib.figure.Figure at 0x1ab280c8128>"
      ]
     },
     "metadata": {},
     "output_type": "display_data"
    }
   ],
   "source": [
    "plt.figure(figsize=(18,6))\n",
    "sns.countplot(x=\"registration_init_time_weekday\", data=train_members, palette=\"Set2\")\n",
    "plt.ylabel('Count', fontsize=12)\n",
    "plt.xlabel('registration_init_time_weekday', fontsize=12)\n",
    "plt.xticks(rotation='vertical')\n",
    "plt.title(\"Frequency of registration_init_time_weekday in train_members Data Set\", fontsize=12)\n",
    "plt.show()"
   ]
  },
  {
   "cell_type": "code",
   "execution_count": 26,
   "metadata": {
    "scrolled": true
   },
   "outputs": [
    {
     "data": {
      "text/html": [
       "<div>\n",
       "<style scoped>\n",
       "    .dataframe tbody tr th:only-of-type {\n",
       "        vertical-align: middle;\n",
       "    }\n",
       "\n",
       "    .dataframe tbody tr th {\n",
       "        vertical-align: top;\n",
       "    }\n",
       "\n",
       "    .dataframe thead th {\n",
       "        text-align: right;\n",
       "    }\n",
       "</style>\n",
       "<table border=\"1\" class=\"dataframe\">\n",
       "  <thead>\n",
       "    <tr style=\"text-align: right;\">\n",
       "      <th>is_churn</th>\n",
       "      <th>0</th>\n",
       "      <th>1</th>\n",
       "      <th>0_%</th>\n",
       "      <th>1_%</th>\n",
       "    </tr>\n",
       "    <tr>\n",
       "      <th>registration_init_time_weekday</th>\n",
       "      <th></th>\n",
       "      <th></th>\n",
       "      <th></th>\n",
       "      <th></th>\n",
       "    </tr>\n",
       "  </thead>\n",
       "  <tbody>\n",
       "    <tr>\n",
       "      <th>6</th>\n",
       "      <td>109904</td>\n",
       "      <td>12283</td>\n",
       "      <td>89.95</td>\n",
       "      <td>10.05</td>\n",
       "    </tr>\n",
       "    <tr>\n",
       "      <th>4</th>\n",
       "      <td>111931</td>\n",
       "      <td>11707</td>\n",
       "      <td>90.53</td>\n",
       "      <td>9.47</td>\n",
       "    </tr>\n",
       "    <tr>\n",
       "      <th>2</th>\n",
       "      <td>106259</td>\n",
       "      <td>11057</td>\n",
       "      <td>90.58</td>\n",
       "      <td>9.42</td>\n",
       "    </tr>\n",
       "    <tr>\n",
       "      <th>3</th>\n",
       "      <td>107685</td>\n",
       "      <td>11196</td>\n",
       "      <td>90.58</td>\n",
       "      <td>9.42</td>\n",
       "    </tr>\n",
       "    <tr>\n",
       "      <th>0</th>\n",
       "      <td>108717</td>\n",
       "      <td>11176</td>\n",
       "      <td>90.68</td>\n",
       "      <td>9.32</td>\n",
       "    </tr>\n",
       "    <tr>\n",
       "      <th>5</th>\n",
       "      <td>126299</td>\n",
       "      <td>12969</td>\n",
       "      <td>90.69</td>\n",
       "      <td>9.31</td>\n",
       "    </tr>\n",
       "    <tr>\n",
       "      <th>1</th>\n",
       "      <td>108724</td>\n",
       "      <td>11060</td>\n",
       "      <td>90.77</td>\n",
       "      <td>9.23</td>\n",
       "    </tr>\n",
       "  </tbody>\n",
       "</table>\n",
       "</div>"
      ],
      "text/plain": [
       "is_churn                             0      1    0_%    1_%\n",
       "registration_init_time_weekday                             \n",
       "6                               109904  12283  89.95  10.05\n",
       "4                               111931  11707  90.53   9.47\n",
       "2                               106259  11057  90.58   9.42\n",
       "3                               107685  11196  90.58   9.42\n",
       "0                               108717  11176  90.68   9.32\n",
       "5                               126299  12969  90.69   9.31\n",
       "1                               108724  11060  90.77   9.23"
      ]
     },
     "execution_count": 26,
     "metadata": {},
     "output_type": "execute_result"
    },
    {
     "data": {
      "image/png": "[encoded data removed]",
      "text/plain": [
       "<matplotlib.figure.Figure at 0x1aa18756a90>"
      ]
     },
     "metadata": {},
     "output_type": "display_data"
    }
   ],
   "source": [
    "week_crosstab=pd.crosstab(train_members['registration_init_time_weekday'],train_members['is_churn'])\n",
    "week_crosstab[\"0_%\"] =  round(week_crosstab[0]/(week_crosstab[1]+week_crosstab[0])*100, 2)\n",
    "week_crosstab[\"1_%\"] =  round(week_crosstab[1]/(week_crosstab[1]+week_crosstab[0])*100, 2)\n",
    "week_crosstab.sort_values('1_%', ascending = False)\n",
    "\n",
    "sns.set_style(\"whitegrid\")\n",
    "plt.rcParams['figure.figsize']=(20,10)\n",
    "ax = sns.barplot(x = week_crosstab.index.values, y = \"1_%\", data=week_crosstab, palette=\"Set2\").set_title(\"% of churn depend of values\")"
   ]
  },
  {
   "cell_type": "markdown",
   "metadata": {},
   "source": [
    "Distribution of churn per weekday is almost flat. This feature is not consider as very informative."
   ]
  },
  {
   "cell_type": "markdown",
   "metadata": {},
   "source": [
    "====================================================================================================\n",
    "### 2.3 Transaction dataset"
   ]
  },
  {
   "cell_type": "code",
   "execution_count": 27,
   "metadata": {},
   "outputs": [
    {
     "data": {
      "text/html": [
       "<div>\n",
       "<style scoped>\n",
       "    .dataframe tbody tr th:only-of-type {\n",
       "        vertical-align: middle;\n",
       "    }\n",
       "\n",
       "    .dataframe tbody tr th {\n",
       "        vertical-align: top;\n",
       "    }\n",
       "\n",
       "    .dataframe thead th {\n",
       "        text-align: right;\n",
       "    }\n",
       "</style>\n",
       "<table border=\"1\" class=\"dataframe\">\n",
       "  <thead>\n",
       "    <tr style=\"text-align: right;\">\n",
       "      <th></th>\n",
       "      <th>msno</th>\n",
       "      <th>is_churn</th>\n",
       "      <th>payment_method_id</th>\n",
       "      <th>payment_plan_days</th>\n",
       "      <th>plan_list_price</th>\n",
       "      <th>actual_amount_paid</th>\n",
       "      <th>is_auto_renew</th>\n",
       "      <th>transaction_date</th>\n",
       "      <th>membership_expire_date</th>\n",
       "      <th>is_cancel</th>\n",
       "    </tr>\n",
       "  </thead>\n",
       "  <tbody>\n",
       "    <tr>\n",
       "      <th>0</th>\n",
       "      <td>f/NmvEzHfhINFEYZTR05prUdr+E+3+oewvweYz9cCQE=</td>\n",
       "      <td>1</td>\n",
       "      <td>36</td>\n",
       "      <td>30</td>\n",
       "      <td>180</td>\n",
       "      <td>180</td>\n",
       "      <td>0</td>\n",
       "      <td>20170311</td>\n",
       "      <td>20170411</td>\n",
       "      <td>0</td>\n",
       "    </tr>\n",
       "    <tr>\n",
       "      <th>1</th>\n",
       "      <td>zLo9f73nGGT1p21ltZC3ChiRnAVvgibMyazbCxvWPcg=</td>\n",
       "      <td>1</td>\n",
       "      <td>17</td>\n",
       "      <td>60</td>\n",
       "      <td>0</td>\n",
       "      <td>0</td>\n",
       "      <td>0</td>\n",
       "      <td>20170311</td>\n",
       "      <td>20170314</td>\n",
       "      <td>0</td>\n",
       "    </tr>\n",
       "    <tr>\n",
       "      <th>2</th>\n",
       "      <td>zLo9f73nGGT1p21ltZC3ChiRnAVvgibMyazbCxvWPcg=</td>\n",
       "      <td>1</td>\n",
       "      <td>15</td>\n",
       "      <td>90</td>\n",
       "      <td>300</td>\n",
       "      <td>300</td>\n",
       "      <td>0</td>\n",
       "      <td>20170314</td>\n",
       "      <td>20170615</td>\n",
       "      <td>0</td>\n",
       "    </tr>\n",
       "    <tr>\n",
       "      <th>3</th>\n",
       "      <td>8iF/+8HY8lJKFrTc7iR9ZYGCG2Ecrogbc2Vy5YhsfhQ=</td>\n",
       "      <td>1</td>\n",
       "      <td>41</td>\n",
       "      <td>30</td>\n",
       "      <td>149</td>\n",
       "      <td>149</td>\n",
       "      <td>1</td>\n",
       "      <td>20150908</td>\n",
       "      <td>20170608</td>\n",
       "      <td>0</td>\n",
       "    </tr>\n",
       "    <tr>\n",
       "      <th>4</th>\n",
       "      <td>8iF/+8HY8lJKFrTc7iR9ZYGCG2Ecrogbc2Vy5YhsfhQ=</td>\n",
       "      <td>1</td>\n",
       "      <td>41</td>\n",
       "      <td>30</td>\n",
       "      <td>149</td>\n",
       "      <td>149</td>\n",
       "      <td>1</td>\n",
       "      <td>20150908</td>\n",
       "      <td>20170708</td>\n",
       "      <td>0</td>\n",
       "    </tr>\n",
       "  </tbody>\n",
       "</table>\n",
       "</div>"
      ],
      "text/plain": [
       "                                           msno  is_churn  payment_method_id  \\\n",
       "0  f/NmvEzHfhINFEYZTR05prUdr+E+3+oewvweYz9cCQE=         1                 36   \n",
       "1  zLo9f73nGGT1p21ltZC3ChiRnAVvgibMyazbCxvWPcg=         1                 17   \n",
       "2  zLo9f73nGGT1p21ltZC3ChiRnAVvgibMyazbCxvWPcg=         1                 15   \n",
       "3  8iF/+8HY8lJKFrTc7iR9ZYGCG2Ecrogbc2Vy5YhsfhQ=         1                 41   \n",
       "4  8iF/+8HY8lJKFrTc7iR9ZYGCG2Ecrogbc2Vy5YhsfhQ=         1                 41   \n",
       "\n",
       "   payment_plan_days  plan_list_price  actual_amount_paid  is_auto_renew  \\\n",
       "0                 30              180                 180              0   \n",
       "1                 60                0                   0              0   \n",
       "2                 90              300                 300              0   \n",
       "3                 30              149                 149              1   \n",
       "4                 30              149                 149              1   \n",
       "\n",
       "   transaction_date  membership_expire_date  is_cancel  \n",
       "0          20170311                20170411          0  \n",
       "1          20170311                20170314          0  \n",
       "2          20170314                20170615          0  \n",
       "3          20150908                20170608          0  \n",
       "4          20150908                20170708          0  "
      ]
     },
     "execution_count": 27,
     "metadata": {},
     "output_type": "execute_result"
    },
    {
     "name": "stdout",
     "output_type": "stream",
     "text": [
      "<class 'pandas.core.frame.DataFrame'>\n",
      "Int64Index: 1132036 entries, 0 to 1132035\n",
      "Data columns (total 10 columns):\n",
      "msno                      1132036 non-null object\n",
      "is_churn                  1132036 non-null int64\n",
      "payment_method_id         1132036 non-null int64\n",
      "payment_plan_days         1132036 non-null int64\n",
      "plan_list_price           1132036 non-null int64\n",
      "actual_amount_paid        1132036 non-null int64\n",
      "is_auto_renew             1132036 non-null int64\n",
      "transaction_date          1132036 non-null int64\n",
      "membership_expire_date    1132036 non-null int64\n",
      "is_cancel                 1132036 non-null int64\n",
      "dtypes: int64(9), object(1)\n",
      "memory usage: 95.0+ MB\n"
     ]
    }
   ],
   "source": [
    "train_trans = pd.merge(left = df_train,right = df_transaction,how = 'inner',on=['msno'])\n",
    "train_trans.head()\n",
    "train_trans.info()"
   ]
  },
  {
   "cell_type": "markdown",
   "metadata": {},
   "source": [
    "**Changing the format of the dates**"
   ]
  },
  {
   "cell_type": "code",
   "execution_count": 28,
   "metadata": {},
   "outputs": [],
   "source": [
    "train_trans['transaction_date'] = train_trans.transaction_date.apply(\n",
    "    lambda x: datetime.strptime(str(int(x)), \"%Y%m%d\").date() if pd.notnull(x) else \"NAN\" )\n",
    "train_trans['membership_expire_date'] = train_trans.membership_expire_date.apply(\n",
    "    lambda x: datetime.strptime(str(int(x)), \"%Y%m%d\").date() if pd.notnull(x) else \"NAN\")"
   ]
  },
  {
   "cell_type": "code",
   "execution_count": 29,
   "metadata": {},
   "outputs": [
    {
     "data": {
      "text/plain": [
       "((933578,), (1132036,))"
      ]
     },
     "execution_count": 29,
     "metadata": {},
     "output_type": "execute_result"
    }
   ],
   "source": [
    "train_trans.msno.unique().shape, train_trans.msno.shape"
   ]
  },
  {
   "cell_type": "markdown",
   "metadata": {},
   "source": [
    "##### 2.3.1 Transactions['payment_method_id'] "
   ]
  },
  {
   "cell_type": "code",
   "execution_count": 30,
   "metadata": {},
   "outputs": [
    {
     "data": {
      "text/plain": [
       "<matplotlib.figure.Figure at 0x1aa18605048>"
      ]
     },
     "execution_count": 30,
     "metadata": {},
     "output_type": "execute_result"
    },
    {
     "data": {
      "text/plain": [
       "<matplotlib.axes._subplots.AxesSubplot at 0x1aa183469e8>"
      ]
     },
     "execution_count": 30,
     "metadata": {},
     "output_type": "execute_result"
    },
    {
     "data": {
      "text/plain": [
       "Text(0,0.5,'Count')"
      ]
     },
     "execution_count": 30,
     "metadata": {},
     "output_type": "execute_result"
    },
    {
     "data": {
      "text/plain": [
       "Text(0.5,0,'payment_method_id')"
      ]
     },
     "execution_count": 30,
     "metadata": {},
     "output_type": "execute_result"
    },
    {
     "data": {
      "text/plain": [
       "(array([ 0,  1,  2,  3,  4,  5,  6,  7,  8,  9, 10, 11, 12, 13, 14, 15, 16,\n",
       "        17, 18, 19, 20, 21, 22, 23, 24, 25, 26, 27, 28, 29, 30, 31, 32]),\n",
       " <a list of 33 Text xticklabel objects>)"
      ]
     },
     "execution_count": 30,
     "metadata": {},
     "output_type": "execute_result"
    },
    {
     "data": {
      "text/plain": [
       "Text(0.5,1,'Frequency of payment_method_id in train_members Data Set')"
      ]
     },
     "execution_count": 30,
     "metadata": {},
     "output_type": "execute_result"
    },
    {
     "data": {
      "image/png": "[encoded data removed]",
      "text/plain": [
       "<matplotlib.figure.Figure at 0x1aa18605048>"
      ]
     },
     "metadata": {},
     "output_type": "display_data"
    },
    {
     "data": {
      "text/plain": [
       "41    636230\n",
       "39    131672\n",
       "40     77817\n",
       "36     76543\n",
       "38     47420\n",
       "37     38224\n",
       "34     30088\n",
       "29     19501\n",
       "30     18017\n",
       "33     15961\n",
       "31     11034\n",
       "32      8609\n",
       "15      3001\n",
       "23      2612\n",
       "17      2283\n",
       "19      2116\n",
       "27      1929\n",
       "21      1846\n",
       "28      1792\n",
       "16       918\n",
       "20       859\n",
       "35       807\n",
       "18       672\n",
       "14       666\n",
       "22       488\n",
       "13       307\n",
       "12       267\n",
       "26       214\n",
       "11        79\n",
       "10        40\n",
       "8         10\n",
       "3          9\n",
       "6          5\n",
       "Name: payment_method_id, dtype: int64"
      ]
     },
     "execution_count": 30,
     "metadata": {},
     "output_type": "execute_result"
    }
   ],
   "source": [
    "plt.figure(figsize=(18,6))\n",
    "sns.countplot(x=\"payment_method_id\", data=train_trans, palette=\"Set2\")\n",
    "plt.ylabel('Count', fontsize=12)\n",
    "plt.xlabel('payment_method_id', fontsize=12)\n",
    "plt.xticks(rotation='vertical')\n",
    "plt.title(\"Frequency of payment_method_id in train_members Data Set\", fontsize=12)\n",
    "plt.show()\n",
    "\n",
    "train_trans.payment_method_id.value_counts()"
   ]
  },
  {
   "cell_type": "code",
   "execution_count": 31,
   "metadata": {},
   "outputs": [
    {
     "data": {
      "text/plain": [
       "0.5620227625269868"
      ]
     },
     "execution_count": 31,
     "metadata": {},
     "output_type": "execute_result"
    }
   ],
   "source": [
    "636230/1132036"
   ]
  },
  {
   "cell_type": "code",
   "execution_count": 32,
   "metadata": {},
   "outputs": [
    {
     "data": {
      "text/html": [
       "<div>\n",
       "<style scoped>\n",
       "    .dataframe tbody tr th:only-of-type {\n",
       "        vertical-align: middle;\n",
       "    }\n",
       "\n",
       "    .dataframe tbody tr th {\n",
       "        vertical-align: top;\n",
       "    }\n",
       "\n",
       "    .dataframe thead th {\n",
       "        text-align: right;\n",
       "    }\n",
       "</style>\n",
       "<table border=\"1\" class=\"dataframe\">\n",
       "  <thead>\n",
       "    <tr style=\"text-align: right;\">\n",
       "      <th>is_churn</th>\n",
       "      <th>0</th>\n",
       "      <th>1</th>\n",
       "      <th>0_%</th>\n",
       "      <th>1_%</th>\n",
       "    </tr>\n",
       "    <tr>\n",
       "      <th>payment_method_id</th>\n",
       "      <th></th>\n",
       "      <th></th>\n",
       "      <th></th>\n",
       "      <th></th>\n",
       "    </tr>\n",
       "  </thead>\n",
       "  <tbody>\n",
       "    <tr>\n",
       "      <th>3</th>\n",
       "      <td>0</td>\n",
       "      <td>9</td>\n",
       "      <td>0.00</td>\n",
       "      <td>100.00</td>\n",
       "    </tr>\n",
       "    <tr>\n",
       "      <th>6</th>\n",
       "      <td>0</td>\n",
       "      <td>5</td>\n",
       "      <td>0.00</td>\n",
       "      <td>100.00</td>\n",
       "    </tr>\n",
       "    <tr>\n",
       "      <th>13</th>\n",
       "      <td>1</td>\n",
       "      <td>306</td>\n",
       "      <td>0.33</td>\n",
       "      <td>99.67</td>\n",
       "    </tr>\n",
       "    <tr>\n",
       "      <th>22</th>\n",
       "      <td>2</td>\n",
       "      <td>486</td>\n",
       "      <td>0.41</td>\n",
       "      <td>99.59</td>\n",
       "    </tr>\n",
       "    <tr>\n",
       "      <th>20</th>\n",
       "      <td>5</td>\n",
       "      <td>854</td>\n",
       "      <td>0.58</td>\n",
       "      <td>99.42</td>\n",
       "    </tr>\n",
       "    <tr>\n",
       "      <th>32</th>\n",
       "      <td>309</td>\n",
       "      <td>8300</td>\n",
       "      <td>3.59</td>\n",
       "      <td>96.41</td>\n",
       "    </tr>\n",
       "    <tr>\n",
       "      <th>12</th>\n",
       "      <td>13</td>\n",
       "      <td>254</td>\n",
       "      <td>4.87</td>\n",
       "      <td>95.13</td>\n",
       "    </tr>\n",
       "    <tr>\n",
       "      <th>17</th>\n",
       "      <td>224</td>\n",
       "      <td>2059</td>\n",
       "      <td>9.81</td>\n",
       "      <td>90.19</td>\n",
       "    </tr>\n",
       "    <tr>\n",
       "      <th>8</th>\n",
       "      <td>1</td>\n",
       "      <td>9</td>\n",
       "      <td>10.00</td>\n",
       "      <td>90.00</td>\n",
       "    </tr>\n",
       "    <tr>\n",
       "      <th>15</th>\n",
       "      <td>300</td>\n",
       "      <td>2701</td>\n",
       "      <td>10.00</td>\n",
       "      <td>90.00</td>\n",
       "    </tr>\n",
       "    <tr>\n",
       "      <th>35</th>\n",
       "      <td>104</td>\n",
       "      <td>703</td>\n",
       "      <td>12.89</td>\n",
       "      <td>87.11</td>\n",
       "    </tr>\n",
       "    <tr>\n",
       "      <th>26</th>\n",
       "      <td>86</td>\n",
       "      <td>128</td>\n",
       "      <td>40.19</td>\n",
       "      <td>59.81</td>\n",
       "    </tr>\n",
       "    <tr>\n",
       "      <th>38</th>\n",
       "      <td>33632</td>\n",
       "      <td>13788</td>\n",
       "      <td>70.92</td>\n",
       "      <td>29.08</td>\n",
       "    </tr>\n",
       "    <tr>\n",
       "      <th>28</th>\n",
       "      <td>1348</td>\n",
       "      <td>444</td>\n",
       "      <td>75.22</td>\n",
       "      <td>24.78</td>\n",
       "    </tr>\n",
       "    <tr>\n",
       "      <th>16</th>\n",
       "      <td>749</td>\n",
       "      <td>169</td>\n",
       "      <td>81.59</td>\n",
       "      <td>18.41</td>\n",
       "    </tr>\n",
       "    <tr>\n",
       "      <th>10</th>\n",
       "      <td>34</td>\n",
       "      <td>6</td>\n",
       "      <td>85.00</td>\n",
       "      <td>15.00</td>\n",
       "    </tr>\n",
       "    <tr>\n",
       "      <th>30</th>\n",
       "      <td>15491</td>\n",
       "      <td>2526</td>\n",
       "      <td>85.98</td>\n",
       "      <td>14.02</td>\n",
       "    </tr>\n",
       "    <tr>\n",
       "      <th>29</th>\n",
       "      <td>16871</td>\n",
       "      <td>2630</td>\n",
       "      <td>86.51</td>\n",
       "      <td>13.49</td>\n",
       "    </tr>\n",
       "    <tr>\n",
       "      <th>36</th>\n",
       "      <td>68497</td>\n",
       "      <td>8046</td>\n",
       "      <td>89.49</td>\n",
       "      <td>10.51</td>\n",
       "    </tr>\n",
       "    <tr>\n",
       "      <th>41</th>\n",
       "      <td>583749</td>\n",
       "      <td>52481</td>\n",
       "      <td>91.75</td>\n",
       "      <td>8.25</td>\n",
       "    </tr>\n",
       "    <tr>\n",
       "      <th>40</th>\n",
       "      <td>71909</td>\n",
       "      <td>5908</td>\n",
       "      <td>92.41</td>\n",
       "      <td>7.59</td>\n",
       "    </tr>\n",
       "    <tr>\n",
       "      <th>11</th>\n",
       "      <td>74</td>\n",
       "      <td>5</td>\n",
       "      <td>93.67</td>\n",
       "      <td>6.33</td>\n",
       "    </tr>\n",
       "    <tr>\n",
       "      <th>39</th>\n",
       "      <td>124063</td>\n",
       "      <td>7609</td>\n",
       "      <td>94.22</td>\n",
       "      <td>5.78</td>\n",
       "    </tr>\n",
       "    <tr>\n",
       "      <th>23</th>\n",
       "      <td>2464</td>\n",
       "      <td>148</td>\n",
       "      <td>94.33</td>\n",
       "      <td>5.67</td>\n",
       "    </tr>\n",
       "    <tr>\n",
       "      <th>14</th>\n",
       "      <td>629</td>\n",
       "      <td>37</td>\n",
       "      <td>94.44</td>\n",
       "      <td>5.56</td>\n",
       "    </tr>\n",
       "    <tr>\n",
       "      <th>21</th>\n",
       "      <td>1744</td>\n",
       "      <td>102</td>\n",
       "      <td>94.47</td>\n",
       "      <td>5.53</td>\n",
       "    </tr>\n",
       "    <tr>\n",
       "      <th>18</th>\n",
       "      <td>637</td>\n",
       "      <td>35</td>\n",
       "      <td>94.79</td>\n",
       "      <td>5.21</td>\n",
       "    </tr>\n",
       "    <tr>\n",
       "      <th>33</th>\n",
       "      <td>15151</td>\n",
       "      <td>810</td>\n",
       "      <td>94.93</td>\n",
       "      <td>5.07</td>\n",
       "    </tr>\n",
       "    <tr>\n",
       "      <th>27</th>\n",
       "      <td>1852</td>\n",
       "      <td>77</td>\n",
       "      <td>96.01</td>\n",
       "      <td>3.99</td>\n",
       "    </tr>\n",
       "    <tr>\n",
       "      <th>34</th>\n",
       "      <td>28913</td>\n",
       "      <td>1175</td>\n",
       "      <td>96.09</td>\n",
       "      <td>3.91</td>\n",
       "    </tr>\n",
       "    <tr>\n",
       "      <th>37</th>\n",
       "      <td>36803</td>\n",
       "      <td>1421</td>\n",
       "      <td>96.28</td>\n",
       "      <td>3.72</td>\n",
       "    </tr>\n",
       "    <tr>\n",
       "      <th>19</th>\n",
       "      <td>2053</td>\n",
       "      <td>63</td>\n",
       "      <td>97.02</td>\n",
       "      <td>2.98</td>\n",
       "    </tr>\n",
       "    <tr>\n",
       "      <th>31</th>\n",
       "      <td>10755</td>\n",
       "      <td>279</td>\n",
       "      <td>97.47</td>\n",
       "      <td>2.53</td>\n",
       "    </tr>\n",
       "  </tbody>\n",
       "</table>\n",
       "</div>"
      ],
      "text/plain": [
       "is_churn                0      1    0_%     1_%\n",
       "payment_method_id                              \n",
       "3                       0      9   0.00  100.00\n",
       "6                       0      5   0.00  100.00\n",
       "13                      1    306   0.33   99.67\n",
       "22                      2    486   0.41   99.59\n",
       "20                      5    854   0.58   99.42\n",
       "32                    309   8300   3.59   96.41\n",
       "12                     13    254   4.87   95.13\n",
       "17                    224   2059   9.81   90.19\n",
       "8                       1      9  10.00   90.00\n",
       "15                    300   2701  10.00   90.00\n",
       "35                    104    703  12.89   87.11\n",
       "26                     86    128  40.19   59.81\n",
       "38                  33632  13788  70.92   29.08\n",
       "28                   1348    444  75.22   24.78\n",
       "16                    749    169  81.59   18.41\n",
       "10                     34      6  85.00   15.00\n",
       "30                  15491   2526  85.98   14.02\n",
       "29                  16871   2630  86.51   13.49\n",
       "36                  68497   8046  89.49   10.51\n",
       "41                 583749  52481  91.75    8.25\n",
       "40                  71909   5908  92.41    7.59\n",
       "11                     74      5  93.67    6.33\n",
       "39                 124063   7609  94.22    5.78\n",
       "23                   2464    148  94.33    5.67\n",
       "14                    629     37  94.44    5.56\n",
       "21                   1744    102  94.47    5.53\n",
       "18                    637     35  94.79    5.21\n",
       "33                  15151    810  94.93    5.07\n",
       "27                   1852     77  96.01    3.99\n",
       "34                  28913   1175  96.09    3.91\n",
       "37                  36803   1421  96.28    3.72\n",
       "19                   2053     63  97.02    2.98\n",
       "31                  10755    279  97.47    2.53"
      ]
     },
     "execution_count": 32,
     "metadata": {},
     "output_type": "execute_result"
    },
    {
     "data": {
      "image/png": "[encoded data removed]",
      "text/plain": [
       "<matplotlib.figure.Figure at 0x1aa17d013c8>"
      ]
     },
     "metadata": {},
     "output_type": "display_data"
    }
   ],
   "source": [
    "pay_met_id_crosstab=pd.crosstab(train_trans['payment_method_id'],train_trans['is_churn'])\n",
    "pay_met_id_crosstab[\"0_%\"] =  round(pay_met_id_crosstab[0]/(pay_met_id_crosstab[1]+pay_met_id_crosstab[0])*100, 2)\n",
    "pay_met_id_crosstab[\"1_%\"] =  round(pay_met_id_crosstab[1]/(pay_met_id_crosstab[1]+pay_met_id_crosstab[0])*100, 2)\n",
    "pay_met_id_crosstab = pay_met_id_crosstab.sort_values('1_%', ascending = False)\n",
    "pay_met_id_crosstab\n",
    "\n",
    "sns.set_style(\"whitegrid\")\n",
    "plt.rcParams['figure.figsize']=(20,10)\n",
    "ax = sns.barplot(x = pay_met_id_crosstab.index.values, y = \"1_%\", data=pay_met_id_crosstab, palette=\"Set2\").set_title(\"% of churn depend of values\")"
   ]
  },
  {
   "cell_type": "markdown",
   "metadata": {},
   "source": [
    "56% of users used payment method 41. There are visible clusterings, as I suspect there is some co-dependecy, let's check what other links we can find in methoda with similar churn rate."
   ]
  },
  {
   "cell_type": "code",
   "execution_count": 33,
   "metadata": {},
   "outputs": [],
   "source": [
    "#train_trans.loc[train_trans['payment_method_id'] == 13]\n",
    "#train_trans.loc[train_trans['payment_method_id'] == 20]\n",
    "#train_trans.loc[train_trans['payment_method_id'] == 12]"
   ]
  },
  {
   "cell_type": "markdown",
   "metadata": {},
   "source": [
    "So as we can clearly see there all have *'is_auto_renew'* = 0. Let's now check payment methods with low churn rate."
   ]
  },
  {
   "cell_type": "code",
   "execution_count": 34,
   "metadata": {},
   "outputs": [],
   "source": [
    "#train_trans.loc[train_trans['payment_method_id'] == 31]\n",
    "#train_trans.loc[train_trans['payment_method_id'] == 19]\n",
    "#train_trans.loc[train_trans['payment_method_id'] == 37]"
   ]
  },
  {
   "cell_type": "markdown",
   "metadata": {},
   "source": [
    "Majority of *'is_auto_renew'* are equal 1. Let's explore further this dependencie to create new feature based on that."
   ]
  },
  {
   "cell_type": "code",
   "execution_count": 35,
   "metadata": {},
   "outputs": [
    {
     "data": {
      "text/html": [
       "<div>\n",
       "<style scoped>\n",
       "    .dataframe tbody tr th:only-of-type {\n",
       "        vertical-align: middle;\n",
       "    }\n",
       "\n",
       "    .dataframe tbody tr th {\n",
       "        vertical-align: top;\n",
       "    }\n",
       "\n",
       "    .dataframe thead th {\n",
       "        text-align: right;\n",
       "    }\n",
       "</style>\n",
       "<table border=\"1\" class=\"dataframe\">\n",
       "  <thead>\n",
       "    <tr style=\"text-align: right;\">\n",
       "      <th>is_auto_renew</th>\n",
       "      <th>0</th>\n",
       "      <th>1</th>\n",
       "      <th>is_auto_0</th>\n",
       "      <th>is_auto_1</th>\n",
       "    </tr>\n",
       "    <tr>\n",
       "      <th>payment_method_id</th>\n",
       "      <th></th>\n",
       "      <th></th>\n",
       "      <th></th>\n",
       "      <th></th>\n",
       "    </tr>\n",
       "  </thead>\n",
       "  <tbody>\n",
       "    <tr>\n",
       "      <th>3</th>\n",
       "      <td>9</td>\n",
       "      <td>0</td>\n",
       "      <td>100.00</td>\n",
       "      <td>0.00</td>\n",
       "    </tr>\n",
       "    <tr>\n",
       "      <th>26</th>\n",
       "      <td>214</td>\n",
       "      <td>0</td>\n",
       "      <td>100.00</td>\n",
       "      <td>0.00</td>\n",
       "    </tr>\n",
       "    <tr>\n",
       "      <th>22</th>\n",
       "      <td>488</td>\n",
       "      <td>0</td>\n",
       "      <td>100.00</td>\n",
       "      <td>0.00</td>\n",
       "    </tr>\n",
       "    <tr>\n",
       "      <th>35</th>\n",
       "      <td>807</td>\n",
       "      <td>0</td>\n",
       "      <td>100.00</td>\n",
       "      <td>0.00</td>\n",
       "    </tr>\n",
       "    <tr>\n",
       "      <th>20</th>\n",
       "      <td>859</td>\n",
       "      <td>0</td>\n",
       "      <td>100.00</td>\n",
       "      <td>0.00</td>\n",
       "    </tr>\n",
       "    <tr>\n",
       "      <th>32</th>\n",
       "      <td>8609</td>\n",
       "      <td>0</td>\n",
       "      <td>100.00</td>\n",
       "      <td>0.00</td>\n",
       "    </tr>\n",
       "    <tr>\n",
       "      <th>17</th>\n",
       "      <td>2283</td>\n",
       "      <td>0</td>\n",
       "      <td>100.00</td>\n",
       "      <td>0.00</td>\n",
       "    </tr>\n",
       "    <tr>\n",
       "      <th>15</th>\n",
       "      <td>3001</td>\n",
       "      <td>0</td>\n",
       "      <td>100.00</td>\n",
       "      <td>0.00</td>\n",
       "    </tr>\n",
       "    <tr>\n",
       "      <th>38</th>\n",
       "      <td>47420</td>\n",
       "      <td>0</td>\n",
       "      <td>100.00</td>\n",
       "      <td>0.00</td>\n",
       "    </tr>\n",
       "    <tr>\n",
       "      <th>13</th>\n",
       "      <td>307</td>\n",
       "      <td>0</td>\n",
       "      <td>100.00</td>\n",
       "      <td>0.00</td>\n",
       "    </tr>\n",
       "    <tr>\n",
       "      <th>12</th>\n",
       "      <td>267</td>\n",
       "      <td>0</td>\n",
       "      <td>100.00</td>\n",
       "      <td>0.00</td>\n",
       "    </tr>\n",
       "    <tr>\n",
       "      <th>28</th>\n",
       "      <td>1792</td>\n",
       "      <td>0</td>\n",
       "      <td>100.00</td>\n",
       "      <td>0.00</td>\n",
       "    </tr>\n",
       "    <tr>\n",
       "      <th>8</th>\n",
       "      <td>10</td>\n",
       "      <td>0</td>\n",
       "      <td>100.00</td>\n",
       "      <td>0.00</td>\n",
       "    </tr>\n",
       "    <tr>\n",
       "      <th>6</th>\n",
       "      <td>5</td>\n",
       "      <td>0</td>\n",
       "      <td>100.00</td>\n",
       "      <td>0.00</td>\n",
       "    </tr>\n",
       "    <tr>\n",
       "      <th>29</th>\n",
       "      <td>6774</td>\n",
       "      <td>12727</td>\n",
       "      <td>34.74</td>\n",
       "      <td>65.26</td>\n",
       "    </tr>\n",
       "    <tr>\n",
       "      <th>36</th>\n",
       "      <td>21764</td>\n",
       "      <td>54779</td>\n",
       "      <td>28.43</td>\n",
       "      <td>71.57</td>\n",
       "    </tr>\n",
       "    <tr>\n",
       "      <th>16</th>\n",
       "      <td>111</td>\n",
       "      <td>807</td>\n",
       "      <td>12.09</td>\n",
       "      <td>87.91</td>\n",
       "    </tr>\n",
       "    <tr>\n",
       "      <th>31</th>\n",
       "      <td>21</td>\n",
       "      <td>11013</td>\n",
       "      <td>0.19</td>\n",
       "      <td>99.81</td>\n",
       "    </tr>\n",
       "    <tr>\n",
       "      <th>33</th>\n",
       "      <td>6</td>\n",
       "      <td>15955</td>\n",
       "      <td>0.04</td>\n",
       "      <td>99.96</td>\n",
       "    </tr>\n",
       "    <tr>\n",
       "      <th>34</th>\n",
       "      <td>3</td>\n",
       "      <td>30085</td>\n",
       "      <td>0.01</td>\n",
       "      <td>99.99</td>\n",
       "    </tr>\n",
       "    <tr>\n",
       "      <th>39</th>\n",
       "      <td>0</td>\n",
       "      <td>131672</td>\n",
       "      <td>0.00</td>\n",
       "      <td>100.00</td>\n",
       "    </tr>\n",
       "    <tr>\n",
       "      <th>40</th>\n",
       "      <td>0</td>\n",
       "      <td>77817</td>\n",
       "      <td>0.00</td>\n",
       "      <td>100.00</td>\n",
       "    </tr>\n",
       "    <tr>\n",
       "      <th>37</th>\n",
       "      <td>0</td>\n",
       "      <td>38224</td>\n",
       "      <td>0.00</td>\n",
       "      <td>100.00</td>\n",
       "    </tr>\n",
       "    <tr>\n",
       "      <th>23</th>\n",
       "      <td>0</td>\n",
       "      <td>2612</td>\n",
       "      <td>0.00</td>\n",
       "      <td>100.00</td>\n",
       "    </tr>\n",
       "    <tr>\n",
       "      <th>30</th>\n",
       "      <td>0</td>\n",
       "      <td>18017</td>\n",
       "      <td>0.00</td>\n",
       "      <td>100.00</td>\n",
       "    </tr>\n",
       "    <tr>\n",
       "      <th>27</th>\n",
       "      <td>0</td>\n",
       "      <td>1929</td>\n",
       "      <td>0.00</td>\n",
       "      <td>100.00</td>\n",
       "    </tr>\n",
       "    <tr>\n",
       "      <th>21</th>\n",
       "      <td>0</td>\n",
       "      <td>1846</td>\n",
       "      <td>0.00</td>\n",
       "      <td>100.00</td>\n",
       "    </tr>\n",
       "    <tr>\n",
       "      <th>19</th>\n",
       "      <td>0</td>\n",
       "      <td>2116</td>\n",
       "      <td>0.00</td>\n",
       "      <td>100.00</td>\n",
       "    </tr>\n",
       "    <tr>\n",
       "      <th>18</th>\n",
       "      <td>0</td>\n",
       "      <td>672</td>\n",
       "      <td>0.00</td>\n",
       "      <td>100.00</td>\n",
       "    </tr>\n",
       "    <tr>\n",
       "      <th>14</th>\n",
       "      <td>0</td>\n",
       "      <td>666</td>\n",
       "      <td>0.00</td>\n",
       "      <td>100.00</td>\n",
       "    </tr>\n",
       "    <tr>\n",
       "      <th>11</th>\n",
       "      <td>0</td>\n",
       "      <td>79</td>\n",
       "      <td>0.00</td>\n",
       "      <td>100.00</td>\n",
       "    </tr>\n",
       "    <tr>\n",
       "      <th>10</th>\n",
       "      <td>0</td>\n",
       "      <td>40</td>\n",
       "      <td>0.00</td>\n",
       "      <td>100.00</td>\n",
       "    </tr>\n",
       "    <tr>\n",
       "      <th>41</th>\n",
       "      <td>0</td>\n",
       "      <td>636230</td>\n",
       "      <td>0.00</td>\n",
       "      <td>100.00</td>\n",
       "    </tr>\n",
       "  </tbody>\n",
       "</table>\n",
       "</div>"
      ],
      "text/plain": [
       "is_auto_renew          0       1  is_auto_0  is_auto_1\n",
       "payment_method_id                                     \n",
       "3                      9       0     100.00       0.00\n",
       "26                   214       0     100.00       0.00\n",
       "22                   488       0     100.00       0.00\n",
       "35                   807       0     100.00       0.00\n",
       "20                   859       0     100.00       0.00\n",
       "32                  8609       0     100.00       0.00\n",
       "17                  2283       0     100.00       0.00\n",
       "15                  3001       0     100.00       0.00\n",
       "38                 47420       0     100.00       0.00\n",
       "13                   307       0     100.00       0.00\n",
       "12                   267       0     100.00       0.00\n",
       "28                  1792       0     100.00       0.00\n",
       "8                     10       0     100.00       0.00\n",
       "6                      5       0     100.00       0.00\n",
       "29                  6774   12727      34.74      65.26\n",
       "36                 21764   54779      28.43      71.57\n",
       "16                   111     807      12.09      87.91\n",
       "31                    21   11013       0.19      99.81\n",
       "33                     6   15955       0.04      99.96\n",
       "34                     3   30085       0.01      99.99\n",
       "39                     0  131672       0.00     100.00\n",
       "40                     0   77817       0.00     100.00\n",
       "37                     0   38224       0.00     100.00\n",
       "23                     0    2612       0.00     100.00\n",
       "30                     0   18017       0.00     100.00\n",
       "27                     0    1929       0.00     100.00\n",
       "21                     0    1846       0.00     100.00\n",
       "19                     0    2116       0.00     100.00\n",
       "18                     0     672       0.00     100.00\n",
       "14                     0     666       0.00     100.00\n",
       "11                     0      79       0.00     100.00\n",
       "10                     0      40       0.00     100.00\n",
       "41                     0  636230       0.00     100.00"
      ]
     },
     "execution_count": 35,
     "metadata": {},
     "output_type": "execute_result"
    },
    {
     "data": {
      "text/plain": [
       "(33, 4)"
      ]
     },
     "execution_count": 35,
     "metadata": {},
     "output_type": "execute_result"
    }
   ],
   "source": [
    "pay_met_auto_crosstab=pd.crosstab(train_trans['payment_method_id'],train_trans['is_auto_renew'])\n",
    "pay_met_auto_crosstab[\"is_auto_0\"] =  round(pay_met_auto_crosstab[0]/(pay_met_auto_crosstab[1]+pay_met_auto_crosstab[0])*100, 2)\n",
    "pay_met_auto_crosstab[\"is_auto_1\"] =  round(pay_met_auto_crosstab[1]/(pay_met_auto_crosstab[1]+pay_met_auto_crosstab[0])*100, 2)\n",
    "pay_met_auto_crosstab.sort_values('is_auto_0', ascending = False)\n",
    "pay_met_auto_crosstab.shape"
   ]
  },
  {
   "cell_type": "code",
   "execution_count": 36,
   "metadata": {},
   "outputs": [
    {
     "data": {
      "text/html": [
       "<div>\n",
       "<style scoped>\n",
       "    .dataframe tbody tr th:only-of-type {\n",
       "        vertical-align: middle;\n",
       "    }\n",
       "\n",
       "    .dataframe tbody tr th {\n",
       "        vertical-align: top;\n",
       "    }\n",
       "\n",
       "    .dataframe thead th {\n",
       "        text-align: right;\n",
       "    }\n",
       "</style>\n",
       "<table border=\"1\" class=\"dataframe\">\n",
       "  <thead>\n",
       "    <tr style=\"text-align: right;\">\n",
       "      <th></th>\n",
       "      <th>0_x</th>\n",
       "      <th>1_x</th>\n",
       "      <th>0_%</th>\n",
       "      <th>1_%</th>\n",
       "      <th>0_y</th>\n",
       "      <th>1_y</th>\n",
       "      <th>is_auto_0</th>\n",
       "      <th>is_auto_1</th>\n",
       "    </tr>\n",
       "    <tr>\n",
       "      <th>payment_method_id</th>\n",
       "      <th></th>\n",
       "      <th></th>\n",
       "      <th></th>\n",
       "      <th></th>\n",
       "      <th></th>\n",
       "      <th></th>\n",
       "      <th></th>\n",
       "      <th></th>\n",
       "    </tr>\n",
       "  </thead>\n",
       "  <tbody>\n",
       "    <tr>\n",
       "      <th>3</th>\n",
       "      <td>0</td>\n",
       "      <td>9</td>\n",
       "      <td>0.00</td>\n",
       "      <td>100.00</td>\n",
       "      <td>9</td>\n",
       "      <td>0</td>\n",
       "      <td>100.00</td>\n",
       "      <td>0.00</td>\n",
       "    </tr>\n",
       "    <tr>\n",
       "      <th>17</th>\n",
       "      <td>224</td>\n",
       "      <td>2059</td>\n",
       "      <td>9.81</td>\n",
       "      <td>90.19</td>\n",
       "      <td>2283</td>\n",
       "      <td>0</td>\n",
       "      <td>100.00</td>\n",
       "      <td>0.00</td>\n",
       "    </tr>\n",
       "    <tr>\n",
       "      <th>28</th>\n",
       "      <td>1348</td>\n",
       "      <td>444</td>\n",
       "      <td>75.22</td>\n",
       "      <td>24.78</td>\n",
       "      <td>1792</td>\n",
       "      <td>0</td>\n",
       "      <td>100.00</td>\n",
       "      <td>0.00</td>\n",
       "    </tr>\n",
       "    <tr>\n",
       "      <th>38</th>\n",
       "      <td>33632</td>\n",
       "      <td>13788</td>\n",
       "      <td>70.92</td>\n",
       "      <td>29.08</td>\n",
       "      <td>47420</td>\n",
       "      <td>0</td>\n",
       "      <td>100.00</td>\n",
       "      <td>0.00</td>\n",
       "    </tr>\n",
       "    <tr>\n",
       "      <th>26</th>\n",
       "      <td>86</td>\n",
       "      <td>128</td>\n",
       "      <td>40.19</td>\n",
       "      <td>59.81</td>\n",
       "      <td>214</td>\n",
       "      <td>0</td>\n",
       "      <td>100.00</td>\n",
       "      <td>0.00</td>\n",
       "    </tr>\n",
       "    <tr>\n",
       "      <th>35</th>\n",
       "      <td>104</td>\n",
       "      <td>703</td>\n",
       "      <td>12.89</td>\n",
       "      <td>87.11</td>\n",
       "      <td>807</td>\n",
       "      <td>0</td>\n",
       "      <td>100.00</td>\n",
       "      <td>0.00</td>\n",
       "    </tr>\n",
       "    <tr>\n",
       "      <th>15</th>\n",
       "      <td>300</td>\n",
       "      <td>2701</td>\n",
       "      <td>10.00</td>\n",
       "      <td>90.00</td>\n",
       "      <td>3001</td>\n",
       "      <td>0</td>\n",
       "      <td>100.00</td>\n",
       "      <td>0.00</td>\n",
       "    </tr>\n",
       "    <tr>\n",
       "      <th>8</th>\n",
       "      <td>1</td>\n",
       "      <td>9</td>\n",
       "      <td>10.00</td>\n",
       "      <td>90.00</td>\n",
       "      <td>10</td>\n",
       "      <td>0</td>\n",
       "      <td>100.00</td>\n",
       "      <td>0.00</td>\n",
       "    </tr>\n",
       "    <tr>\n",
       "      <th>12</th>\n",
       "      <td>13</td>\n",
       "      <td>254</td>\n",
       "      <td>4.87</td>\n",
       "      <td>95.13</td>\n",
       "      <td>267</td>\n",
       "      <td>0</td>\n",
       "      <td>100.00</td>\n",
       "      <td>0.00</td>\n",
       "    </tr>\n",
       "    <tr>\n",
       "      <th>32</th>\n",
       "      <td>309</td>\n",
       "      <td>8300</td>\n",
       "      <td>3.59</td>\n",
       "      <td>96.41</td>\n",
       "      <td>8609</td>\n",
       "      <td>0</td>\n",
       "      <td>100.00</td>\n",
       "      <td>0.00</td>\n",
       "    </tr>\n",
       "    <tr>\n",
       "      <th>20</th>\n",
       "      <td>5</td>\n",
       "      <td>854</td>\n",
       "      <td>0.58</td>\n",
       "      <td>99.42</td>\n",
       "      <td>859</td>\n",
       "      <td>0</td>\n",
       "      <td>100.00</td>\n",
       "      <td>0.00</td>\n",
       "    </tr>\n",
       "    <tr>\n",
       "      <th>22</th>\n",
       "      <td>2</td>\n",
       "      <td>486</td>\n",
       "      <td>0.41</td>\n",
       "      <td>99.59</td>\n",
       "      <td>488</td>\n",
       "      <td>0</td>\n",
       "      <td>100.00</td>\n",
       "      <td>0.00</td>\n",
       "    </tr>\n",
       "    <tr>\n",
       "      <th>13</th>\n",
       "      <td>1</td>\n",
       "      <td>306</td>\n",
       "      <td>0.33</td>\n",
       "      <td>99.67</td>\n",
       "      <td>307</td>\n",
       "      <td>0</td>\n",
       "      <td>100.00</td>\n",
       "      <td>0.00</td>\n",
       "    </tr>\n",
       "    <tr>\n",
       "      <th>6</th>\n",
       "      <td>0</td>\n",
       "      <td>5</td>\n",
       "      <td>0.00</td>\n",
       "      <td>100.00</td>\n",
       "      <td>5</td>\n",
       "      <td>0</td>\n",
       "      <td>100.00</td>\n",
       "      <td>0.00</td>\n",
       "    </tr>\n",
       "    <tr>\n",
       "      <th>29</th>\n",
       "      <td>16871</td>\n",
       "      <td>2630</td>\n",
       "      <td>86.51</td>\n",
       "      <td>13.49</td>\n",
       "      <td>6774</td>\n",
       "      <td>12727</td>\n",
       "      <td>34.74</td>\n",
       "      <td>65.26</td>\n",
       "    </tr>\n",
       "    <tr>\n",
       "      <th>36</th>\n",
       "      <td>68497</td>\n",
       "      <td>8046</td>\n",
       "      <td>89.49</td>\n",
       "      <td>10.51</td>\n",
       "      <td>21764</td>\n",
       "      <td>54779</td>\n",
       "      <td>28.43</td>\n",
       "      <td>71.57</td>\n",
       "    </tr>\n",
       "    <tr>\n",
       "      <th>16</th>\n",
       "      <td>749</td>\n",
       "      <td>169</td>\n",
       "      <td>81.59</td>\n",
       "      <td>18.41</td>\n",
       "      <td>111</td>\n",
       "      <td>807</td>\n",
       "      <td>12.09</td>\n",
       "      <td>87.91</td>\n",
       "    </tr>\n",
       "    <tr>\n",
       "      <th>31</th>\n",
       "      <td>10755</td>\n",
       "      <td>279</td>\n",
       "      <td>97.47</td>\n",
       "      <td>2.53</td>\n",
       "      <td>21</td>\n",
       "      <td>11013</td>\n",
       "      <td>0.19</td>\n",
       "      <td>99.81</td>\n",
       "    </tr>\n",
       "    <tr>\n",
       "      <th>33</th>\n",
       "      <td>15151</td>\n",
       "      <td>810</td>\n",
       "      <td>94.93</td>\n",
       "      <td>5.07</td>\n",
       "      <td>6</td>\n",
       "      <td>15955</td>\n",
       "      <td>0.04</td>\n",
       "      <td>99.96</td>\n",
       "    </tr>\n",
       "    <tr>\n",
       "      <th>34</th>\n",
       "      <td>28913</td>\n",
       "      <td>1175</td>\n",
       "      <td>96.09</td>\n",
       "      <td>3.91</td>\n",
       "      <td>3</td>\n",
       "      <td>30085</td>\n",
       "      <td>0.01</td>\n",
       "      <td>99.99</td>\n",
       "    </tr>\n",
       "    <tr>\n",
       "      <th>10</th>\n",
       "      <td>34</td>\n",
       "      <td>6</td>\n",
       "      <td>85.00</td>\n",
       "      <td>15.00</td>\n",
       "      <td>0</td>\n",
       "      <td>40</td>\n",
       "      <td>0.00</td>\n",
       "      <td>100.00</td>\n",
       "    </tr>\n",
       "    <tr>\n",
       "      <th>41</th>\n",
       "      <td>583749</td>\n",
       "      <td>52481</td>\n",
       "      <td>91.75</td>\n",
       "      <td>8.25</td>\n",
       "      <td>0</td>\n",
       "      <td>636230</td>\n",
       "      <td>0.00</td>\n",
       "      <td>100.00</td>\n",
       "    </tr>\n",
       "    <tr>\n",
       "      <th>40</th>\n",
       "      <td>71909</td>\n",
       "      <td>5908</td>\n",
       "      <td>92.41</td>\n",
       "      <td>7.59</td>\n",
       "      <td>0</td>\n",
       "      <td>77817</td>\n",
       "      <td>0.00</td>\n",
       "      <td>100.00</td>\n",
       "    </tr>\n",
       "    <tr>\n",
       "      <th>11</th>\n",
       "      <td>74</td>\n",
       "      <td>5</td>\n",
       "      <td>93.67</td>\n",
       "      <td>6.33</td>\n",
       "      <td>0</td>\n",
       "      <td>79</td>\n",
       "      <td>0.00</td>\n",
       "      <td>100.00</td>\n",
       "    </tr>\n",
       "    <tr>\n",
       "      <th>39</th>\n",
       "      <td>124063</td>\n",
       "      <td>7609</td>\n",
       "      <td>94.22</td>\n",
       "      <td>5.78</td>\n",
       "      <td>0</td>\n",
       "      <td>131672</td>\n",
       "      <td>0.00</td>\n",
       "      <td>100.00</td>\n",
       "    </tr>\n",
       "    <tr>\n",
       "      <th>23</th>\n",
       "      <td>2464</td>\n",
       "      <td>148</td>\n",
       "      <td>94.33</td>\n",
       "      <td>5.67</td>\n",
       "      <td>0</td>\n",
       "      <td>2612</td>\n",
       "      <td>0.00</td>\n",
       "      <td>100.00</td>\n",
       "    </tr>\n",
       "    <tr>\n",
       "      <th>14</th>\n",
       "      <td>629</td>\n",
       "      <td>37</td>\n",
       "      <td>94.44</td>\n",
       "      <td>5.56</td>\n",
       "      <td>0</td>\n",
       "      <td>666</td>\n",
       "      <td>0.00</td>\n",
       "      <td>100.00</td>\n",
       "    </tr>\n",
       "    <tr>\n",
       "      <th>21</th>\n",
       "      <td>1744</td>\n",
       "      <td>102</td>\n",
       "      <td>94.47</td>\n",
       "      <td>5.53</td>\n",
       "      <td>0</td>\n",
       "      <td>1846</td>\n",
       "      <td>0.00</td>\n",
       "      <td>100.00</td>\n",
       "    </tr>\n",
       "    <tr>\n",
       "      <th>18</th>\n",
       "      <td>637</td>\n",
       "      <td>35</td>\n",
       "      <td>94.79</td>\n",
       "      <td>5.21</td>\n",
       "      <td>0</td>\n",
       "      <td>672</td>\n",
       "      <td>0.00</td>\n",
       "      <td>100.00</td>\n",
       "    </tr>\n",
       "    <tr>\n",
       "      <th>27</th>\n",
       "      <td>1852</td>\n",
       "      <td>77</td>\n",
       "      <td>96.01</td>\n",
       "      <td>3.99</td>\n",
       "      <td>0</td>\n",
       "      <td>1929</td>\n",
       "      <td>0.00</td>\n",
       "      <td>100.00</td>\n",
       "    </tr>\n",
       "    <tr>\n",
       "      <th>37</th>\n",
       "      <td>36803</td>\n",
       "      <td>1421</td>\n",
       "      <td>96.28</td>\n",
       "      <td>3.72</td>\n",
       "      <td>0</td>\n",
       "      <td>38224</td>\n",
       "      <td>0.00</td>\n",
       "      <td>100.00</td>\n",
       "    </tr>\n",
       "    <tr>\n",
       "      <th>19</th>\n",
       "      <td>2053</td>\n",
       "      <td>63</td>\n",
       "      <td>97.02</td>\n",
       "      <td>2.98</td>\n",
       "      <td>0</td>\n",
       "      <td>2116</td>\n",
       "      <td>0.00</td>\n",
       "      <td>100.00</td>\n",
       "    </tr>\n",
       "    <tr>\n",
       "      <th>30</th>\n",
       "      <td>15491</td>\n",
       "      <td>2526</td>\n",
       "      <td>85.98</td>\n",
       "      <td>14.02</td>\n",
       "      <td>0</td>\n",
       "      <td>18017</td>\n",
       "      <td>0.00</td>\n",
       "      <td>100.00</td>\n",
       "    </tr>\n",
       "  </tbody>\n",
       "</table>\n",
       "</div>"
      ],
      "text/plain": [
       "                      0_x    1_x    0_%     1_%    0_y     1_y  is_auto_0  \\\n",
       "payment_method_id                                                           \n",
       "3                       0      9   0.00  100.00      9       0     100.00   \n",
       "17                    224   2059   9.81   90.19   2283       0     100.00   \n",
       "28                   1348    444  75.22   24.78   1792       0     100.00   \n",
       "38                  33632  13788  70.92   29.08  47420       0     100.00   \n",
       "26                     86    128  40.19   59.81    214       0     100.00   \n",
       "35                    104    703  12.89   87.11    807       0     100.00   \n",
       "15                    300   2701  10.00   90.00   3001       0     100.00   \n",
       "8                       1      9  10.00   90.00     10       0     100.00   \n",
       "12                     13    254   4.87   95.13    267       0     100.00   \n",
       "32                    309   8300   3.59   96.41   8609       0     100.00   \n",
       "20                      5    854   0.58   99.42    859       0     100.00   \n",
       "22                      2    486   0.41   99.59    488       0     100.00   \n",
       "13                      1    306   0.33   99.67    307       0     100.00   \n",
       "6                       0      5   0.00  100.00      5       0     100.00   \n",
       "29                  16871   2630  86.51   13.49   6774   12727      34.74   \n",
       "36                  68497   8046  89.49   10.51  21764   54779      28.43   \n",
       "16                    749    169  81.59   18.41    111     807      12.09   \n",
       "31                  10755    279  97.47    2.53     21   11013       0.19   \n",
       "33                  15151    810  94.93    5.07      6   15955       0.04   \n",
       "34                  28913   1175  96.09    3.91      3   30085       0.01   \n",
       "10                     34      6  85.00   15.00      0      40       0.00   \n",
       "41                 583749  52481  91.75    8.25      0  636230       0.00   \n",
       "40                  71909   5908  92.41    7.59      0   77817       0.00   \n",
       "11                     74      5  93.67    6.33      0      79       0.00   \n",
       "39                 124063   7609  94.22    5.78      0  131672       0.00   \n",
       "23                   2464    148  94.33    5.67      0    2612       0.00   \n",
       "14                    629     37  94.44    5.56      0     666       0.00   \n",
       "21                   1744    102  94.47    5.53      0    1846       0.00   \n",
       "18                    637     35  94.79    5.21      0     672       0.00   \n",
       "27                   1852     77  96.01    3.99      0    1929       0.00   \n",
       "37                  36803   1421  96.28    3.72      0   38224       0.00   \n",
       "19                   2053     63  97.02    2.98      0    2116       0.00   \n",
       "30                  15491   2526  85.98   14.02      0   18017       0.00   \n",
       "\n",
       "                   is_auto_1  \n",
       "payment_method_id             \n",
       "3                       0.00  \n",
       "17                      0.00  \n",
       "28                      0.00  \n",
       "38                      0.00  \n",
       "26                      0.00  \n",
       "35                      0.00  \n",
       "15                      0.00  \n",
       "8                       0.00  \n",
       "12                      0.00  \n",
       "32                      0.00  \n",
       "20                      0.00  \n",
       "22                      0.00  \n",
       "13                      0.00  \n",
       "6                       0.00  \n",
       "29                     65.26  \n",
       "36                     71.57  \n",
       "16                     87.91  \n",
       "31                     99.81  \n",
       "33                     99.96  \n",
       "34                     99.99  \n",
       "10                    100.00  \n",
       "41                    100.00  \n",
       "40                    100.00  \n",
       "11                    100.00  \n",
       "39                    100.00  \n",
       "23                    100.00  \n",
       "14                    100.00  \n",
       "21                    100.00  \n",
       "18                    100.00  \n",
       "27                    100.00  \n",
       "37                    100.00  \n",
       "19                    100.00  \n",
       "30                    100.00  "
      ]
     },
     "execution_count": 36,
     "metadata": {},
     "output_type": "execute_result"
    },
    {
     "data": {
      "text/plain": [
       "(33, 8)"
      ]
     },
     "execution_count": 36,
     "metadata": {},
     "output_type": "execute_result"
    }
   ],
   "source": [
    "pay_met_temp = pd.merge(pay_met_id_crosstab, pay_met_auto_crosstab, left_index=True, right_index=True)\n",
    "pay_met_temp.sort_values('is_auto_0', ascending = False)\n",
    "\n",
    "pay_met_temp.shape"
   ]
  },
  {
   "cell_type": "markdown",
   "metadata": {},
   "source": [
    "So we confirmed dependency, on FE we will create then new variable with 2 categories:\n",
    "1. payment method with high churn rate and no auto renew\n",
    "2. other data"
   ]
  },
  {
   "cell_type": "markdown",
   "metadata": {},
   "source": [
    "##### 2.3.2 Transactions['payment_plan_days'] "
   ]
  },
  {
   "cell_type": "code",
   "execution_count": 37,
   "metadata": {},
   "outputs": [
    {
     "data": {
      "text/plain": [
       "<matplotlib.figure.Figure at 0x1ab28108908>"
      ]
     },
     "execution_count": 37,
     "metadata": {},
     "output_type": "execute_result"
    },
    {
     "data": {
      "text/plain": [
       "<matplotlib.axes._subplots.AxesSubplot at 0x1aa186875c0>"
      ]
     },
     "execution_count": 37,
     "metadata": {},
     "output_type": "execute_result"
    },
    {
     "data": {
      "text/plain": [
       "Text(0,0.5,'Count')"
      ]
     },
     "execution_count": 37,
     "metadata": {},
     "output_type": "execute_result"
    },
    {
     "data": {
      "text/plain": [
       "Text(0.5,0,'payment_plan_days')"
      ]
     },
     "execution_count": 37,
     "metadata": {},
     "output_type": "execute_result"
    },
    {
     "data": {
      "text/plain": [
       "(array([ 0,  1,  2,  3,  4,  5,  6,  7,  8,  9, 10, 11, 12, 13, 14, 15, 16,\n",
       "        17, 18, 19, 20, 21, 22, 23, 24, 25, 26, 27, 28, 29]),\n",
       " <a list of 30 Text xticklabel objects>)"
      ]
     },
     "execution_count": 37,
     "metadata": {},
     "output_type": "execute_result"
    },
    {
     "data": {
      "text/plain": [
       "Text(0.5,1,'Frequency of payment_plan_days in train_members Data Set')"
      ]
     },
     "execution_count": 37,
     "metadata": {},
     "output_type": "execute_result"
    },
    {
     "data": {
      "image/png": "[encoded data removed]",
      "text/plain": [
       "<matplotlib.figure.Figure at 0x1ab28108908>"
      ]
     },
     "metadata": {},
     "output_type": "display_data"
    }
   ],
   "source": [
    "plt.figure(figsize=(18,6))\n",
    "sns.countplot(x=\"payment_plan_days\", data=train_trans, palette=\"Set2\")\n",
    "plt.ylabel('Count', fontsize=12)\n",
    "plt.xlabel('payment_plan_days', fontsize=12)\n",
    "plt.xticks(rotation='vertical')\n",
    "plt.title(\"Frequency of payment_plan_days in train_members Data Set\", fontsize=12)\n",
    "plt.show()"
   ]
  },
  {
   "cell_type": "code",
   "execution_count": 38,
   "metadata": {},
   "outputs": [
    {
     "data": {
      "text/html": [
       "<div>\n",
       "<style scoped>\n",
       "    .dataframe tbody tr th:only-of-type {\n",
       "        vertical-align: middle;\n",
       "    }\n",
       "\n",
       "    .dataframe tbody tr th {\n",
       "        vertical-align: top;\n",
       "    }\n",
       "\n",
       "    .dataframe thead th {\n",
       "        text-align: right;\n",
       "    }\n",
       "</style>\n",
       "<table border=\"1\" class=\"dataframe\">\n",
       "  <thead>\n",
       "    <tr style=\"text-align: right;\">\n",
       "      <th>is_churn</th>\n",
       "      <th>0</th>\n",
       "      <th>1</th>\n",
       "      <th>0_%</th>\n",
       "      <th>1_%</th>\n",
       "    </tr>\n",
       "    <tr>\n",
       "      <th>payment_plan_days</th>\n",
       "      <th></th>\n",
       "      <th></th>\n",
       "      <th></th>\n",
       "      <th></th>\n",
       "    </tr>\n",
       "  </thead>\n",
       "  <tbody>\n",
       "    <tr>\n",
       "      <th>110</th>\n",
       "      <td>0</td>\n",
       "      <td>12</td>\n",
       "      <td>0.00</td>\n",
       "      <td>100.00</td>\n",
       "    </tr>\n",
       "    <tr>\n",
       "      <th>31</th>\n",
       "      <td>0</td>\n",
       "      <td>3</td>\n",
       "      <td>0.00</td>\n",
       "      <td>100.00</td>\n",
       "    </tr>\n",
       "    <tr>\n",
       "      <th>400</th>\n",
       "      <td>0</td>\n",
       "      <td>153</td>\n",
       "      <td>0.00</td>\n",
       "      <td>100.00</td>\n",
       "    </tr>\n",
       "    <tr>\n",
       "      <th>395</th>\n",
       "      <td>0</td>\n",
       "      <td>293</td>\n",
       "      <td>0.00</td>\n",
       "      <td>100.00</td>\n",
       "    </tr>\n",
       "    <tr>\n",
       "      <th>270</th>\n",
       "      <td>0</td>\n",
       "      <td>9</td>\n",
       "      <td>0.00</td>\n",
       "      <td>100.00</td>\n",
       "    </tr>\n",
       "    <tr>\n",
       "      <th>230</th>\n",
       "      <td>0</td>\n",
       "      <td>2</td>\n",
       "      <td>0.00</td>\n",
       "      <td>100.00</td>\n",
       "    </tr>\n",
       "    <tr>\n",
       "      <th>80</th>\n",
       "      <td>0</td>\n",
       "      <td>10</td>\n",
       "      <td>0.00</td>\n",
       "      <td>100.00</td>\n",
       "    </tr>\n",
       "    <tr>\n",
       "      <th>35</th>\n",
       "      <td>0</td>\n",
       "      <td>22</td>\n",
       "      <td>0.00</td>\n",
       "      <td>100.00</td>\n",
       "    </tr>\n",
       "    <tr>\n",
       "      <th>450</th>\n",
       "      <td>0</td>\n",
       "      <td>78</td>\n",
       "      <td>0.00</td>\n",
       "      <td>100.00</td>\n",
       "    </tr>\n",
       "    <tr>\n",
       "      <th>3</th>\n",
       "      <td>0</td>\n",
       "      <td>7</td>\n",
       "      <td>0.00</td>\n",
       "      <td>100.00</td>\n",
       "    </tr>\n",
       "    <tr>\n",
       "      <th>21</th>\n",
       "      <td>0</td>\n",
       "      <td>2</td>\n",
       "      <td>0.00</td>\n",
       "      <td>100.00</td>\n",
       "    </tr>\n",
       "    <tr>\n",
       "      <th>100</th>\n",
       "      <td>4</td>\n",
       "      <td>655</td>\n",
       "      <td>0.61</td>\n",
       "      <td>99.39</td>\n",
       "    </tr>\n",
       "    <tr>\n",
       "      <th>365</th>\n",
       "      <td>1</td>\n",
       "      <td>161</td>\n",
       "      <td>0.62</td>\n",
       "      <td>99.38</td>\n",
       "    </tr>\n",
       "    <tr>\n",
       "      <th>200</th>\n",
       "      <td>2</td>\n",
       "      <td>289</td>\n",
       "      <td>0.69</td>\n",
       "      <td>99.31</td>\n",
       "    </tr>\n",
       "    <tr>\n",
       "      <th>195</th>\n",
       "      <td>22</td>\n",
       "      <td>3008</td>\n",
       "      <td>0.73</td>\n",
       "      <td>99.27</td>\n",
       "    </tr>\n",
       "    <tr>\n",
       "      <th>180</th>\n",
       "      <td>24</td>\n",
       "      <td>2971</td>\n",
       "      <td>0.80</td>\n",
       "      <td>99.20</td>\n",
       "    </tr>\n",
       "    <tr>\n",
       "      <th>410</th>\n",
       "      <td>52</td>\n",
       "      <td>4628</td>\n",
       "      <td>1.11</td>\n",
       "      <td>98.89</td>\n",
       "    </tr>\n",
       "    <tr>\n",
       "      <th>360</th>\n",
       "      <td>18</td>\n",
       "      <td>1225</td>\n",
       "      <td>1.45</td>\n",
       "      <td>98.55</td>\n",
       "    </tr>\n",
       "    <tr>\n",
       "      <th>240</th>\n",
       "      <td>32</td>\n",
       "      <td>1449</td>\n",
       "      <td>2.16</td>\n",
       "      <td>97.84</td>\n",
       "    </tr>\n",
       "    <tr>\n",
       "      <th>120</th>\n",
       "      <td>18</td>\n",
       "      <td>790</td>\n",
       "      <td>2.23</td>\n",
       "      <td>97.77</td>\n",
       "    </tr>\n",
       "    <tr>\n",
       "      <th>10</th>\n",
       "      <td>10</td>\n",
       "      <td>351</td>\n",
       "      <td>2.77</td>\n",
       "      <td>97.23</td>\n",
       "    </tr>\n",
       "    <tr>\n",
       "      <th>415</th>\n",
       "      <td>1</td>\n",
       "      <td>16</td>\n",
       "      <td>5.88</td>\n",
       "      <td>94.12</td>\n",
       "    </tr>\n",
       "    <tr>\n",
       "      <th>90</th>\n",
       "      <td>266</td>\n",
       "      <td>3645</td>\n",
       "      <td>6.80</td>\n",
       "      <td>93.20</td>\n",
       "    </tr>\n",
       "    <tr>\n",
       "      <th>7</th>\n",
       "      <td>215</td>\n",
       "      <td>2661</td>\n",
       "      <td>7.48</td>\n",
       "      <td>92.52</td>\n",
       "    </tr>\n",
       "    <tr>\n",
       "      <th>70</th>\n",
       "      <td>2</td>\n",
       "      <td>14</td>\n",
       "      <td>12.50</td>\n",
       "      <td>87.50</td>\n",
       "    </tr>\n",
       "    <tr>\n",
       "      <th>60</th>\n",
       "      <td>533</td>\n",
       "      <td>1279</td>\n",
       "      <td>29.42</td>\n",
       "      <td>70.58</td>\n",
       "    </tr>\n",
       "    <tr>\n",
       "      <th>14</th>\n",
       "      <td>12</td>\n",
       "      <td>18</td>\n",
       "      <td>40.00</td>\n",
       "      <td>60.00</td>\n",
       "    </tr>\n",
       "    <tr>\n",
       "      <th>1</th>\n",
       "      <td>86</td>\n",
       "      <td>127</td>\n",
       "      <td>40.38</td>\n",
       "      <td>59.62</td>\n",
       "    </tr>\n",
       "    <tr>\n",
       "      <th>0</th>\n",
       "      <td>1376</td>\n",
       "      <td>538</td>\n",
       "      <td>71.89</td>\n",
       "      <td>28.11</td>\n",
       "    </tr>\n",
       "    <tr>\n",
       "      <th>30</th>\n",
       "      <td>1015789</td>\n",
       "      <td>89157</td>\n",
       "      <td>91.93</td>\n",
       "      <td>8.07</td>\n",
       "    </tr>\n",
       "  </tbody>\n",
       "</table>\n",
       "</div>"
      ],
      "text/plain": [
       "is_churn                 0      1    0_%     1_%\n",
       "payment_plan_days                               \n",
       "110                      0     12   0.00  100.00\n",
       "31                       0      3   0.00  100.00\n",
       "400                      0    153   0.00  100.00\n",
       "395                      0    293   0.00  100.00\n",
       "270                      0      9   0.00  100.00\n",
       "230                      0      2   0.00  100.00\n",
       "80                       0     10   0.00  100.00\n",
       "35                       0     22   0.00  100.00\n",
       "450                      0     78   0.00  100.00\n",
       "3                        0      7   0.00  100.00\n",
       "21                       0      2   0.00  100.00\n",
       "100                      4    655   0.61   99.39\n",
       "365                      1    161   0.62   99.38\n",
       "200                      2    289   0.69   99.31\n",
       "195                     22   3008   0.73   99.27\n",
       "180                     24   2971   0.80   99.20\n",
       "410                     52   4628   1.11   98.89\n",
       "360                     18   1225   1.45   98.55\n",
       "240                     32   1449   2.16   97.84\n",
       "120                     18    790   2.23   97.77\n",
       "10                      10    351   2.77   97.23\n",
       "415                      1     16   5.88   94.12\n",
       "90                     266   3645   6.80   93.20\n",
       "7                      215   2661   7.48   92.52\n",
       "70                       2     14  12.50   87.50\n",
       "60                     533   1279  29.42   70.58\n",
       "14                      12     18  40.00   60.00\n",
       "1                       86    127  40.38   59.62\n",
       "0                     1376    538  71.89   28.11\n",
       "30                 1015789  89157  91.93    8.07"
      ]
     },
     "execution_count": 38,
     "metadata": {},
     "output_type": "execute_result"
    },
    {
     "data": {
      "image/png": "[encoded data removed]",
      "text/plain": [
       "<matplotlib.figure.Figure at 0x1aa17d3f630>"
      ]
     },
     "metadata": {},
     "output_type": "display_data"
    }
   ],
   "source": [
    "pay_plan_crosstab=pd.crosstab(train_trans['payment_plan_days'],train_trans['is_churn'])\n",
    "pay_plan_crosstab[\"0_%\"] =  round(pay_plan_crosstab[0]/(pay_plan_crosstab[1]+pay_plan_crosstab[0])*100, 2)\n",
    "pay_plan_crosstab[\"1_%\"] =  round(pay_plan_crosstab[1]/(pay_plan_crosstab[1]+pay_plan_crosstab[0])*100, 2)\n",
    "pay_plan_crosstab.sort_values('1_%', ascending = False)\n",
    "\n",
    "sns.set_style(\"whitegrid\")\n",
    "plt.rcParams['figure.figsize']=(20,10)\n",
    "ax = sns.barplot(x = pay_plan_crosstab.index.values, y = \"1_%\", data=pay_plan_crosstab, palette=\"Set2\").set_title(\"% of churn depend of values\")"
   ]
  },
  {
   "cell_type": "markdown",
   "metadata": {},
   "source": [
    "As we can see most of the users chosen 30 days plan which make sende, as monthly subscription is common for those users churn rate is the lowest.\n",
    "In FE I would create new feature based on this information with 5 clusters:\n",
    "1. 30 days plan\n",
    "2. plan with churn rate = 100%\n",
    "3. plan with churn rate in range <87%, 100%)\n",
    "4. plan with churn rate in range <70%, 50%>\n",
    "5. plan with churn rate x > 50%"
   ]
  },
  {
   "cell_type": "markdown",
   "metadata": {},
   "source": [
    "##### 2.3.3 Transactions['plan_list_price'] "
   ]
  },
  {
   "cell_type": "code",
   "execution_count": 39,
   "metadata": {},
   "outputs": [
    {
     "data": {
      "text/plain": [
       "<matplotlib.figure.Figure at 0x1aa186c7550>"
      ]
     },
     "execution_count": 39,
     "metadata": {},
     "output_type": "execute_result"
    },
    {
     "data": {
      "text/plain": [
       "<matplotlib.axes._subplots.AxesSubplot at 0x1aa186b3438>"
      ]
     },
     "execution_count": 39,
     "metadata": {},
     "output_type": "execute_result"
    },
    {
     "data": {
      "text/plain": [
       "Text(0,0.5,'Count')"
      ]
     },
     "execution_count": 39,
     "metadata": {},
     "output_type": "execute_result"
    },
    {
     "data": {
      "text/plain": [
       "Text(0.5,0,'plan_list_price')"
      ]
     },
     "execution_count": 39,
     "metadata": {},
     "output_type": "execute_result"
    },
    {
     "data": {
      "text/plain": [
       "(array([ 0,  1,  2,  3,  4,  5,  6,  7,  8,  9, 10, 11, 12, 13, 14, 15, 16,\n",
       "        17, 18, 19, 20, 21, 22, 23, 24, 25, 26, 27, 28, 29, 30, 31, 32, 33,\n",
       "        34, 35, 36, 37, 38, 39, 40, 41, 42]),\n",
       " <a list of 43 Text xticklabel objects>)"
      ]
     },
     "execution_count": 39,
     "metadata": {},
     "output_type": "execute_result"
    },
    {
     "data": {
      "text/plain": [
       "Text(0.5,1,'Frequency of plan_list_price in train_members Data Set')"
      ]
     },
     "execution_count": 39,
     "metadata": {},
     "output_type": "execute_result"
    },
    {
     "data": {
      "image/png": "[encoded data removed]",
      "text/plain": [
       "<matplotlib.figure.Figure at 0x1aa186c7550>"
      ]
     },
     "metadata": {},
     "output_type": "display_data"
    }
   ],
   "source": [
    "plt.figure(figsize=(18,6))\n",
    "sns.countplot(x=\"plan_list_price\", data=train_trans, palette=\"Set2\")\n",
    "plt.ylabel('Count', fontsize=12)\n",
    "plt.xlabel('plan_list_price', fontsize=12)\n",
    "plt.xticks(rotation='vertical')\n",
    "plt.title(\"Frequency of plan_list_price in train_members Data Set\", fontsize=12)\n",
    "plt.show()"
   ]
  },
  {
   "cell_type": "code",
   "execution_count": 40,
   "metadata": {},
   "outputs": [
    {
     "data": {
      "text/html": [
       "<div>\n",
       "<style scoped>\n",
       "    .dataframe tbody tr th:only-of-type {\n",
       "        vertical-align: middle;\n",
       "    }\n",
       "\n",
       "    .dataframe tbody tr th {\n",
       "        vertical-align: top;\n",
       "    }\n",
       "\n",
       "    .dataframe thead th {\n",
       "        text-align: right;\n",
       "    }\n",
       "</style>\n",
       "<table border=\"1\" class=\"dataframe\">\n",
       "  <thead>\n",
       "    <tr style=\"text-align: right;\">\n",
       "      <th>is_churn</th>\n",
       "      <th>0</th>\n",
       "      <th>1</th>\n",
       "      <th>0_%</th>\n",
       "      <th>1_%</th>\n",
       "    </tr>\n",
       "    <tr>\n",
       "      <th>plan_list_price</th>\n",
       "      <th></th>\n",
       "      <th></th>\n",
       "      <th></th>\n",
       "      <th></th>\n",
       "    </tr>\n",
       "  </thead>\n",
       "  <tbody>\n",
       "    <tr>\n",
       "      <th>2000</th>\n",
       "      <td>0</td>\n",
       "      <td>6</td>\n",
       "      <td>0.00</td>\n",
       "      <td>100.00</td>\n",
       "    </tr>\n",
       "    <tr>\n",
       "      <th>126</th>\n",
       "      <td>0</td>\n",
       "      <td>46</td>\n",
       "      <td>0.00</td>\n",
       "      <td>100.00</td>\n",
       "    </tr>\n",
       "    <tr>\n",
       "      <th>400</th>\n",
       "      <td>0</td>\n",
       "      <td>10</td>\n",
       "      <td>0.00</td>\n",
       "      <td>100.00</td>\n",
       "    </tr>\n",
       "    <tr>\n",
       "      <th>1</th>\n",
       "      <td>0</td>\n",
       "      <td>2</td>\n",
       "      <td>0.00</td>\n",
       "      <td>100.00</td>\n",
       "    </tr>\n",
       "    <tr>\n",
       "      <th>210</th>\n",
       "      <td>0</td>\n",
       "      <td>65</td>\n",
       "      <td>0.00</td>\n",
       "      <td>100.00</td>\n",
       "    </tr>\n",
       "    <tr>\n",
       "      <th>596</th>\n",
       "      <td>0</td>\n",
       "      <td>8</td>\n",
       "      <td>0.00</td>\n",
       "      <td>100.00</td>\n",
       "    </tr>\n",
       "    <tr>\n",
       "      <th>699</th>\n",
       "      <td>0</td>\n",
       "      <td>2</td>\n",
       "      <td>0.00</td>\n",
       "      <td>100.00</td>\n",
       "    </tr>\n",
       "    <tr>\n",
       "      <th>1000</th>\n",
       "      <td>0</td>\n",
       "      <td>38</td>\n",
       "      <td>0.00</td>\n",
       "      <td>100.00</td>\n",
       "    </tr>\n",
       "    <tr>\n",
       "      <th>799</th>\n",
       "      <td>0</td>\n",
       "      <td>95</td>\n",
       "      <td>0.00</td>\n",
       "      <td>100.00</td>\n",
       "    </tr>\n",
       "    <tr>\n",
       "      <th>1150</th>\n",
       "      <td>0</td>\n",
       "      <td>2</td>\n",
       "      <td>0.00</td>\n",
       "      <td>100.00</td>\n",
       "    </tr>\n",
       "    <tr>\n",
       "      <th>105</th>\n",
       "      <td>0</td>\n",
       "      <td>2</td>\n",
       "      <td>0.00</td>\n",
       "      <td>100.00</td>\n",
       "    </tr>\n",
       "    <tr>\n",
       "      <th>1399</th>\n",
       "      <td>0</td>\n",
       "      <td>6</td>\n",
       "      <td>0.00</td>\n",
       "      <td>100.00</td>\n",
       "    </tr>\n",
       "    <tr>\n",
       "      <th>1599</th>\n",
       "      <td>1</td>\n",
       "      <td>454</td>\n",
       "      <td>0.22</td>\n",
       "      <td>99.78</td>\n",
       "    </tr>\n",
       "    <tr>\n",
       "      <th>480</th>\n",
       "      <td>3</td>\n",
       "      <td>604</td>\n",
       "      <td>0.49</td>\n",
       "      <td>99.51</td>\n",
       "    </tr>\n",
       "    <tr>\n",
       "      <th>600</th>\n",
       "      <td>4</td>\n",
       "      <td>793</td>\n",
       "      <td>0.50</td>\n",
       "      <td>99.50</td>\n",
       "    </tr>\n",
       "    <tr>\n",
       "      <th>894</th>\n",
       "      <td>22</td>\n",
       "      <td>3006</td>\n",
       "      <td>0.73</td>\n",
       "      <td>99.27</td>\n",
       "    </tr>\n",
       "    <tr>\n",
       "      <th>930</th>\n",
       "      <td>2</td>\n",
       "      <td>251</td>\n",
       "      <td>0.79</td>\n",
       "      <td>99.21</td>\n",
       "    </tr>\n",
       "    <tr>\n",
       "      <th>1299</th>\n",
       "      <td>1</td>\n",
       "      <td>126</td>\n",
       "      <td>0.79</td>\n",
       "      <td>99.21</td>\n",
       "    </tr>\n",
       "    <tr>\n",
       "      <th>536</th>\n",
       "      <td>20</td>\n",
       "      <td>2350</td>\n",
       "      <td>0.84</td>\n",
       "      <td>99.16</td>\n",
       "    </tr>\n",
       "    <tr>\n",
       "      <th>447</th>\n",
       "      <td>7</td>\n",
       "      <td>774</td>\n",
       "      <td>0.90</td>\n",
       "      <td>99.10</td>\n",
       "    </tr>\n",
       "    <tr>\n",
       "      <th>477</th>\n",
       "      <td>12</td>\n",
       "      <td>1136</td>\n",
       "      <td>1.05</td>\n",
       "      <td>98.95</td>\n",
       "    </tr>\n",
       "    <tr>\n",
       "      <th>1788</th>\n",
       "      <td>50</td>\n",
       "      <td>4673</td>\n",
       "      <td>1.06</td>\n",
       "      <td>98.94</td>\n",
       "    </tr>\n",
       "    <tr>\n",
       "      <th>1200</th>\n",
       "      <td>27</td>\n",
       "      <td>1953</td>\n",
       "      <td>1.36</td>\n",
       "      <td>98.64</td>\n",
       "    </tr>\n",
       "    <tr>\n",
       "      <th>298</th>\n",
       "      <td>14</td>\n",
       "      <td>752</td>\n",
       "      <td>1.83</td>\n",
       "      <td>98.17</td>\n",
       "    </tr>\n",
       "    <tr>\n",
       "      <th>500</th>\n",
       "      <td>1</td>\n",
       "      <td>51</td>\n",
       "      <td>1.92</td>\n",
       "      <td>98.08</td>\n",
       "    </tr>\n",
       "    <tr>\n",
       "      <th>450</th>\n",
       "      <td>1</td>\n",
       "      <td>42</td>\n",
       "      <td>2.33</td>\n",
       "      <td>97.67</td>\n",
       "    </tr>\n",
       "    <tr>\n",
       "      <th>350</th>\n",
       "      <td>2</td>\n",
       "      <td>14</td>\n",
       "      <td>12.50</td>\n",
       "      <td>87.50</td>\n",
       "    </tr>\n",
       "    <tr>\n",
       "      <th>0</th>\n",
       "      <td>1818</td>\n",
       "      <td>5781</td>\n",
       "      <td>23.92</td>\n",
       "      <td>76.08</td>\n",
       "    </tr>\n",
       "    <tr>\n",
       "      <th>300</th>\n",
       "      <td>581</td>\n",
       "      <td>1421</td>\n",
       "      <td>29.02</td>\n",
       "      <td>70.98</td>\n",
       "    </tr>\n",
       "    <tr>\n",
       "      <th>35</th>\n",
       "      <td>105</td>\n",
       "      <td>199</td>\n",
       "      <td>34.54</td>\n",
       "      <td>65.46</td>\n",
       "    </tr>\n",
       "    <tr>\n",
       "      <th>70</th>\n",
       "      <td>2</td>\n",
       "      <td>1</td>\n",
       "      <td>66.67</td>\n",
       "      <td>33.33</td>\n",
       "    </tr>\n",
       "    <tr>\n",
       "      <th>119</th>\n",
       "      <td>382</td>\n",
       "      <td>136</td>\n",
       "      <td>73.75</td>\n",
       "      <td>26.25</td>\n",
       "    </tr>\n",
       "    <tr>\n",
       "      <th>131</th>\n",
       "      <td>17</td>\n",
       "      <td>5</td>\n",
       "      <td>77.27</td>\n",
       "      <td>22.73</td>\n",
       "    </tr>\n",
       "    <tr>\n",
       "      <th>150</th>\n",
       "      <td>1296</td>\n",
       "      <td>302</td>\n",
       "      <td>81.10</td>\n",
       "      <td>18.90</td>\n",
       "    </tr>\n",
       "    <tr>\n",
       "      <th>120</th>\n",
       "      <td>173</td>\n",
       "      <td>39</td>\n",
       "      <td>81.60</td>\n",
       "      <td>18.40</td>\n",
       "    </tr>\n",
       "    <tr>\n",
       "      <th>129</th>\n",
       "      <td>39798</td>\n",
       "      <td>7898</td>\n",
       "      <td>83.44</td>\n",
       "      <td>16.56</td>\n",
       "    </tr>\n",
       "    <tr>\n",
       "      <th>180</th>\n",
       "      <td>85367</td>\n",
       "      <td>10542</td>\n",
       "      <td>89.01</td>\n",
       "      <td>10.99</td>\n",
       "    </tr>\n",
       "    <tr>\n",
       "      <th>149</th>\n",
       "      <td>495956</td>\n",
       "      <td>52084</td>\n",
       "      <td>90.50</td>\n",
       "      <td>9.50</td>\n",
       "    </tr>\n",
       "    <tr>\n",
       "      <th>99</th>\n",
       "      <td>361745</td>\n",
       "      <td>16922</td>\n",
       "      <td>95.53</td>\n",
       "      <td>4.47</td>\n",
       "    </tr>\n",
       "    <tr>\n",
       "      <th>134</th>\n",
       "      <td>103</td>\n",
       "      <td>4</td>\n",
       "      <td>96.26</td>\n",
       "      <td>3.74</td>\n",
       "    </tr>\n",
       "    <tr>\n",
       "      <th>100</th>\n",
       "      <td>30949</td>\n",
       "      <td>978</td>\n",
       "      <td>96.94</td>\n",
       "      <td>3.06</td>\n",
       "    </tr>\n",
       "    <tr>\n",
       "      <th>265</th>\n",
       "      <td>3</td>\n",
       "      <td>0</td>\n",
       "      <td>100.00</td>\n",
       "      <td>0.00</td>\n",
       "    </tr>\n",
       "    <tr>\n",
       "      <th>143</th>\n",
       "      <td>1</td>\n",
       "      <td>0</td>\n",
       "      <td>100.00</td>\n",
       "      <td>0.00</td>\n",
       "    </tr>\n",
       "  </tbody>\n",
       "</table>\n",
       "</div>"
      ],
      "text/plain": [
       "is_churn              0      1     0_%     1_%\n",
       "plan_list_price                               \n",
       "2000                  0      6    0.00  100.00\n",
       "126                   0     46    0.00  100.00\n",
       "400                   0     10    0.00  100.00\n",
       "1                     0      2    0.00  100.00\n",
       "210                   0     65    0.00  100.00\n",
       "596                   0      8    0.00  100.00\n",
       "699                   0      2    0.00  100.00\n",
       "1000                  0     38    0.00  100.00\n",
       "799                   0     95    0.00  100.00\n",
       "1150                  0      2    0.00  100.00\n",
       "105                   0      2    0.00  100.00\n",
       "1399                  0      6    0.00  100.00\n",
       "1599                  1    454    0.22   99.78\n",
       "480                   3    604    0.49   99.51\n",
       "600                   4    793    0.50   99.50\n",
       "894                  22   3006    0.73   99.27\n",
       "930                   2    251    0.79   99.21\n",
       "1299                  1    126    0.79   99.21\n",
       "536                  20   2350    0.84   99.16\n",
       "447                   7    774    0.90   99.10\n",
       "477                  12   1136    1.05   98.95\n",
       "1788                 50   4673    1.06   98.94\n",
       "1200                 27   1953    1.36   98.64\n",
       "298                  14    752    1.83   98.17\n",
       "500                   1     51    1.92   98.08\n",
       "450                   1     42    2.33   97.67\n",
       "350                   2     14   12.50   87.50\n",
       "0                  1818   5781   23.92   76.08\n",
       "300                 581   1421   29.02   70.98\n",
       "35                  105    199   34.54   65.46\n",
       "70                    2      1   66.67   33.33\n",
       "119                 382    136   73.75   26.25\n",
       "131                  17      5   77.27   22.73\n",
       "150                1296    302   81.10   18.90\n",
       "120                 173     39   81.60   18.40\n",
       "129               39798   7898   83.44   16.56\n",
       "180               85367  10542   89.01   10.99\n",
       "149              495956  52084   90.50    9.50\n",
       "99               361745  16922   95.53    4.47\n",
       "134                 103      4   96.26    3.74\n",
       "100               30949    978   96.94    3.06\n",
       "265                   3      0  100.00    0.00\n",
       "143                   1      0  100.00    0.00"
      ]
     },
     "execution_count": 40,
     "metadata": {},
     "output_type": "execute_result"
    },
    {
     "data": {
      "image/png": "[encoded data removed]",
      "text/plain": [
       "<matplotlib.figure.Figure at 0x1aa18b733c8>"
      ]
     },
     "metadata": {},
     "output_type": "display_data"
    }
   ],
   "source": [
    "plan_list_price_crosstab=pd.crosstab(train_trans['plan_list_price'],train_trans['is_churn'])\n",
    "plan_list_price_crosstab[\"0_%\"] =  round(plan_list_price_crosstab[0]/(plan_list_price_crosstab[1]+plan_list_price_crosstab[0])*100, 2)\n",
    "plan_list_price_crosstab[\"1_%\"] =  round(plan_list_price_crosstab[1]/(plan_list_price_crosstab[1]+plan_list_price_crosstab[0])*100, 2)\n",
    "plan_list_price_crosstab.sort_values('1_%', ascending = False)\n",
    "\n",
    "sns.set_style(\"whitegrid\")\n",
    "plt.rcParams['figure.figsize']=(20,10)\n",
    "ax = sns.barplot(x = plan_list_price_crosstab.index.values, y = \"1_%\", data=plan_list_price_crosstab, palette=\"Set2\").set_title(\"% of churn depend of values\")"
   ]
  },
  {
   "cell_type": "markdown",
   "metadata": {},
   "source": [
    "Let's check correlation bwith *payment_plan_days* as by common understanding those fetures should be highly dependent"
   ]
  },
  {
   "cell_type": "code",
   "execution_count": 41,
   "metadata": {},
   "outputs": [
    {
     "data": {
      "text/plain": [
       "0.9423019231811397"
      ]
     },
     "execution_count": 41,
     "metadata": {},
     "output_type": "execute_result"
    }
   ],
   "source": [
    "train_trans['payment_plan_days'].corr(train_trans['plan_list_price'])"
   ]
  },
  {
   "cell_type": "markdown",
   "metadata": {},
   "source": [
    "High correlation between those 2 features is giving me information that it doesn't make sense to use both of them in model, hence I will use only *'payment_plan_days'* with cluster split.\n",
    "\n",
    "Nevertheless inspired by https://www.kaggle.com/jeru666/did-you-think-of-these-features I will use *'plan_list_price'* to create *'discount'* feature."
   ]
  },
  {
   "cell_type": "code",
   "execution_count": 42,
   "metadata": {
    "scrolled": true
   },
   "outputs": [
    {
     "data": {
      "text/plain": [
       "array([   0,  149,  180, -149,   30, -119, -129,  120,   20,   50, -100,\n",
       "         -1,   99,  129,    1, 1599], dtype=int64)"
      ]
     },
     "execution_count": 42,
     "metadata": {},
     "output_type": "execute_result"
    }
   ],
   "source": [
    "train_trans['discount'] = train_trans['plan_list_price'] - train_trans['actual_amount_paid']\n",
    "train_trans['discount'].unique()"
   ]
  },
  {
   "cell_type": "code",
   "execution_count": 43,
   "metadata": {},
   "outputs": [
    {
     "data": {
      "text/html": [
       "<div>\n",
       "<style scoped>\n",
       "    .dataframe tbody tr th:only-of-type {\n",
       "        vertical-align: middle;\n",
       "    }\n",
       "\n",
       "    .dataframe tbody tr th {\n",
       "        vertical-align: top;\n",
       "    }\n",
       "\n",
       "    .dataframe thead th {\n",
       "        text-align: right;\n",
       "    }\n",
       "</style>\n",
       "<table border=\"1\" class=\"dataframe\">\n",
       "  <thead>\n",
       "    <tr style=\"text-align: right;\">\n",
       "      <th>is_churn</th>\n",
       "      <th>0</th>\n",
       "      <th>1</th>\n",
       "      <th>0_%</th>\n",
       "      <th>1_%</th>\n",
       "    </tr>\n",
       "    <tr>\n",
       "      <th>discount</th>\n",
       "      <th></th>\n",
       "      <th></th>\n",
       "      <th></th>\n",
       "      <th></th>\n",
       "    </tr>\n",
       "  </thead>\n",
       "  <tbody>\n",
       "    <tr>\n",
       "      <th>-1</th>\n",
       "      <td>0</td>\n",
       "      <td>46</td>\n",
       "      <td>0.00</td>\n",
       "      <td>100.00</td>\n",
       "    </tr>\n",
       "    <tr>\n",
       "      <th>120</th>\n",
       "      <td>0</td>\n",
       "      <td>10</td>\n",
       "      <td>0.00</td>\n",
       "      <td>100.00</td>\n",
       "    </tr>\n",
       "    <tr>\n",
       "      <th>149</th>\n",
       "      <td>221</td>\n",
       "      <td>763</td>\n",
       "      <td>22.46</td>\n",
       "      <td>77.54</td>\n",
       "    </tr>\n",
       "    <tr>\n",
       "      <th>129</th>\n",
       "      <td>2</td>\n",
       "      <td>2</td>\n",
       "      <td>50.00</td>\n",
       "      <td>50.00</td>\n",
       "    </tr>\n",
       "    <tr>\n",
       "      <th>180</th>\n",
       "      <td>1955</td>\n",
       "      <td>1169</td>\n",
       "      <td>62.58</td>\n",
       "      <td>37.42</td>\n",
       "    </tr>\n",
       "    <tr>\n",
       "      <th>-149</th>\n",
       "      <td>1054</td>\n",
       "      <td>434</td>\n",
       "      <td>70.83</td>\n",
       "      <td>29.17</td>\n",
       "    </tr>\n",
       "    <tr>\n",
       "      <th>-119</th>\n",
       "      <td>205</td>\n",
       "      <td>80</td>\n",
       "      <td>71.93</td>\n",
       "      <td>28.07</td>\n",
       "    </tr>\n",
       "    <tr>\n",
       "      <th>30</th>\n",
       "      <td>2220</td>\n",
       "      <td>865</td>\n",
       "      <td>71.96</td>\n",
       "      <td>28.04</td>\n",
       "    </tr>\n",
       "    <tr>\n",
       "      <th>-129</th>\n",
       "      <td>104</td>\n",
       "      <td>22</td>\n",
       "      <td>82.54</td>\n",
       "      <td>17.46</td>\n",
       "    </tr>\n",
       "    <tr>\n",
       "      <th>0</th>\n",
       "      <td>1011684</td>\n",
       "      <td>110122</td>\n",
       "      <td>90.18</td>\n",
       "      <td>9.82</td>\n",
       "    </tr>\n",
       "    <tr>\n",
       "      <th>20</th>\n",
       "      <td>253</td>\n",
       "      <td>22</td>\n",
       "      <td>92.00</td>\n",
       "      <td>8.00</td>\n",
       "    </tr>\n",
       "    <tr>\n",
       "      <th>-100</th>\n",
       "      <td>13</td>\n",
       "      <td>1</td>\n",
       "      <td>92.86</td>\n",
       "      <td>7.14</td>\n",
       "    </tr>\n",
       "    <tr>\n",
       "      <th>99</th>\n",
       "      <td>13</td>\n",
       "      <td>1</td>\n",
       "      <td>92.86</td>\n",
       "      <td>7.14</td>\n",
       "    </tr>\n",
       "    <tr>\n",
       "      <th>50</th>\n",
       "      <td>737</td>\n",
       "      <td>36</td>\n",
       "      <td>95.34</td>\n",
       "      <td>4.66</td>\n",
       "    </tr>\n",
       "    <tr>\n",
       "      <th>1</th>\n",
       "      <td>1</td>\n",
       "      <td>0</td>\n",
       "      <td>100.00</td>\n",
       "      <td>0.00</td>\n",
       "    </tr>\n",
       "    <tr>\n",
       "      <th>1599</th>\n",
       "      <td>1</td>\n",
       "      <td>0</td>\n",
       "      <td>100.00</td>\n",
       "      <td>0.00</td>\n",
       "    </tr>\n",
       "  </tbody>\n",
       "</table>\n",
       "</div>"
      ],
      "text/plain": [
       "is_churn        0       1     0_%     1_%\n",
       "discount                                 \n",
       "-1              0      46    0.00  100.00\n",
       " 120            0      10    0.00  100.00\n",
       " 149          221     763   22.46   77.54\n",
       " 129            2       2   50.00   50.00\n",
       " 180         1955    1169   62.58   37.42\n",
       "-149         1054     434   70.83   29.17\n",
       "-119          205      80   71.93   28.07\n",
       " 30          2220     865   71.96   28.04\n",
       "-129          104      22   82.54   17.46\n",
       " 0        1011684  110122   90.18    9.82\n",
       " 20           253      22   92.00    8.00\n",
       "-100           13       1   92.86    7.14\n",
       " 99            13       1   92.86    7.14\n",
       " 50           737      36   95.34    4.66\n",
       " 1              1       0  100.00    0.00\n",
       " 1599           1       0  100.00    0.00"
      ]
     },
     "execution_count": 43,
     "metadata": {},
     "output_type": "execute_result"
    },
    {
     "data": {
      "image/png": "[encoded data removed]",
      "text/plain": [
       "<matplotlib.figure.Figure at 0x1aa186e3518>"
      ]
     },
     "metadata": {},
     "output_type": "display_data"
    }
   ],
   "source": [
    "discount_crosstab=pd.crosstab(train_trans['discount'],train_trans['is_churn'])\n",
    "discount_crosstab[\"0_%\"] =  round(discount_crosstab[0]/(discount_crosstab[1]+discount_crosstab[0])*100, 2)\n",
    "discount_crosstab[\"1_%\"] =  round(discount_crosstab[1]/(discount_crosstab[1]+discount_crosstab[0])*100, 2)\n",
    "discount_crosstab.sort_values('1_%', ascending = False)\n",
    "\n",
    "sns.set_style(\"whitegrid\")\n",
    "plt.rcParams['figure.figsize']=(20,10)\n",
    "ax = sns.barplot(x = discount_crosstab.index.values, y = \"1_%\", data=discount_crosstab, palette=\"Set2\").set_title(\"% of churn depend of values\")"
   ]
  },
  {
   "cell_type": "markdown",
   "metadata": {},
   "source": [
    "Majority of the people didn't got any discount. As distribution of churn rate didn't show strong patterns let's create binary variable *'is discount'*."
   ]
  },
  {
   "cell_type": "code",
   "execution_count": 44,
   "metadata": {},
   "outputs": [
    {
     "data": {
      "text/plain": [
       "array([0, 1], dtype=int64)"
      ]
     },
     "execution_count": 44,
     "metadata": {},
     "output_type": "execute_result"
    }
   ],
   "source": [
    "train_trans['is_discount'] = train_trans.discount.apply(lambda x: 1 if x>0 else 0)\n",
    "train_trans['is_discount'].unique()"
   ]
  },
  {
   "cell_type": "markdown",
   "metadata": {},
   "source": [
    "##### 2.3.4 Transactions['actual_amount_paid'] "
   ]
  },
  {
   "cell_type": "code",
   "execution_count": 45,
   "metadata": {},
   "outputs": [
    {
     "data": {
      "text/plain": [
       "0.9423019231811397"
      ]
     },
     "execution_count": 45,
     "metadata": {},
     "output_type": "execute_result"
    },
    {
     "data": {
      "text/plain": [
       "0.9957775305801594"
      ]
     },
     "execution_count": 45,
     "metadata": {},
     "output_type": "execute_result"
    }
   ],
   "source": [
    "train_trans['payment_plan_days'].corr(train_trans['plan_list_price'])\n",
    "train_trans['actual_amount_paid'].corr(train_trans['plan_list_price'])"
   ]
  },
  {
   "cell_type": "markdown",
   "metadata": {},
   "source": [
    "As suspected this feature is highly correlated with already explored *'plan_list_price'* hence will not explore further."
   ]
  },
  {
   "cell_type": "markdown",
   "metadata": {},
   "source": [
    "##### 2.3.5 Transactions['is_auto_renew'] "
   ]
  },
  {
   "cell_type": "code",
   "execution_count": 46,
   "metadata": {},
   "outputs": [
    {
     "data": {
      "text/plain": [
       "<matplotlib.figure.Figure at 0x1aa1857aa20>"
      ]
     },
     "execution_count": 46,
     "metadata": {},
     "output_type": "execute_result"
    },
    {
     "data": {
      "text/plain": [
       "<matplotlib.axes._subplots.AxesSubplot at 0x1aa18ae5080>"
      ]
     },
     "execution_count": 46,
     "metadata": {},
     "output_type": "execute_result"
    },
    {
     "data": {
      "text/plain": [
       "Text(0,0.5,'Count')"
      ]
     },
     "execution_count": 46,
     "metadata": {},
     "output_type": "execute_result"
    },
    {
     "data": {
      "text/plain": [
       "Text(0.5,0,'is_auto_renew')"
      ]
     },
     "execution_count": 46,
     "metadata": {},
     "output_type": "execute_result"
    },
    {
     "data": {
      "text/plain": [
       "(array([0, 1]), <a list of 2 Text xticklabel objects>)"
      ]
     },
     "execution_count": 46,
     "metadata": {},
     "output_type": "execute_result"
    },
    {
     "data": {
      "text/plain": [
       "Text(0.5,1,'Frequency of payment_method_id in train_members Data Set')"
      ]
     },
     "execution_count": 46,
     "metadata": {},
     "output_type": "execute_result"
    },
    {
     "data": {
      "image/png": "[encoded data removed]",
      "text/plain": [
       "<matplotlib.figure.Figure at 0x1aa1857aa20>"
      ]
     },
     "metadata": {},
     "output_type": "display_data"
    },
    {
     "data": {
      "text/plain": [
       "1    1037286\n",
       "0      94750\n",
       "Name: is_auto_renew, dtype: int64"
      ]
     },
     "execution_count": 46,
     "metadata": {},
     "output_type": "execute_result"
    }
   ],
   "source": [
    "plt.figure(figsize=(18,6))\n",
    "sns.countplot(x=\"is_auto_renew\", data=train_trans, palette=\"Set2\")\n",
    "plt.ylabel('Count', fontsize=12)\n",
    "plt.xlabel('is_auto_renew', fontsize=12)\n",
    "plt.xticks(rotation='vertical')\n",
    "plt.title(\"Frequency of payment_method_id in train_members Data Set\", fontsize=12)\n",
    "plt.show()\n",
    "\n",
    "train_trans.is_auto_renew.value_counts()"
   ]
  },
  {
   "cell_type": "code",
   "execution_count": 47,
   "metadata": {},
   "outputs": [
    {
     "data": {
      "text/html": [
       "<div>\n",
       "<style scoped>\n",
       "    .dataframe tbody tr th:only-of-type {\n",
       "        vertical-align: middle;\n",
       "    }\n",
       "\n",
       "    .dataframe tbody tr th {\n",
       "        vertical-align: top;\n",
       "    }\n",
       "\n",
       "    .dataframe thead th {\n",
       "        text-align: right;\n",
       "    }\n",
       "</style>\n",
       "<table border=\"1\" class=\"dataframe\">\n",
       "  <thead>\n",
       "    <tr style=\"text-align: right;\">\n",
       "      <th>is_churn</th>\n",
       "      <th>0</th>\n",
       "      <th>1</th>\n",
       "      <th>0_%</th>\n",
       "      <th>1_%</th>\n",
       "    </tr>\n",
       "    <tr>\n",
       "      <th>is_auto_renew</th>\n",
       "      <th></th>\n",
       "      <th></th>\n",
       "      <th></th>\n",
       "      <th></th>\n",
       "    </tr>\n",
       "  </thead>\n",
       "  <tbody>\n",
       "    <tr>\n",
       "      <th>0</th>\n",
       "      <td>60576</td>\n",
       "      <td>34174</td>\n",
       "      <td>63.93</td>\n",
       "      <td>36.07</td>\n",
       "    </tr>\n",
       "    <tr>\n",
       "      <th>1</th>\n",
       "      <td>957887</td>\n",
       "      <td>79399</td>\n",
       "      <td>92.35</td>\n",
       "      <td>7.65</td>\n",
       "    </tr>\n",
       "  </tbody>\n",
       "</table>\n",
       "</div>"
      ],
      "text/plain": [
       "is_churn            0      1    0_%    1_%\n",
       "is_auto_renew                             \n",
       "0               60576  34174  63.93  36.07\n",
       "1              957887  79399  92.35   7.65"
      ]
     },
     "execution_count": 47,
     "metadata": {},
     "output_type": "execute_result"
    }
   ],
   "source": [
    "auto_crosstab=pd.crosstab(train_trans['is_auto_renew'],train_trans['is_churn'])\n",
    "auto_crosstab[\"0_%\"] =  round(auto_crosstab[0]/(auto_crosstab[1]+auto_crosstab[0])*100, 2)\n",
    "auto_crosstab[\"1_%\"] =  round(auto_crosstab[1]/(auto_crosstab[1]+auto_crosstab[0])*100, 2)\n",
    "auto_crosstab.sort_values('1_%', ascending = False)"
   ]
  },
  {
   "cell_type": "markdown",
   "metadata": {},
   "source": [
    "Not suprisingly we see that clients with automatic renewal less frequently unsubscribe."
   ]
  },
  {
   "cell_type": "markdown",
   "metadata": {},
   "source": [
    "##### 2.3.6 Transactions['transaction_date'] "
   ]
  },
  {
   "cell_type": "markdown",
   "metadata": {},
   "source": [
    "**Creation of new features with split for month and week**"
   ]
  },
  {
   "cell_type": "code",
   "execution_count": 48,
   "metadata": {},
   "outputs": [],
   "source": [
    "train_trans['transaction_month'] = pd.DatetimeIndex(train_trans['transaction_date']).month\n",
    "train_trans['transaction_weekday'] = pd.DatetimeIndex(train_trans['transaction_date']).weekday"
   ]
  },
  {
   "cell_type": "code",
   "execution_count": 49,
   "metadata": {},
   "outputs": [
    {
     "data": {
      "text/plain": [
       "<matplotlib.figure.Figure at 0x1aa18d3eb70>"
      ]
     },
     "execution_count": 49,
     "metadata": {},
     "output_type": "execute_result"
    },
    {
     "data": {
      "text/plain": [
       "<matplotlib.axes._subplots.AxesSubplot at 0x1aa18af7780>"
      ]
     },
     "execution_count": 49,
     "metadata": {},
     "output_type": "execute_result"
    },
    {
     "data": {
      "text/plain": [
       "Text(0,0.5,'Count')"
      ]
     },
     "execution_count": 49,
     "metadata": {},
     "output_type": "execute_result"
    },
    {
     "data": {
      "text/plain": [
       "Text(0.5,0,'transaction_month')"
      ]
     },
     "execution_count": 49,
     "metadata": {},
     "output_type": "execute_result"
    },
    {
     "data": {
      "text/plain": [
       "(array([ 0,  1,  2,  3,  4,  5,  6,  7,  8,  9, 10, 11]),\n",
       " <a list of 12 Text xticklabel objects>)"
      ]
     },
     "execution_count": 49,
     "metadata": {},
     "output_type": "execute_result"
    },
    {
     "data": {
      "text/plain": [
       "Text(0.5,1,'Frequency of transaction_month in train_members Data Set')"
      ]
     },
     "execution_count": 49,
     "metadata": {},
     "output_type": "execute_result"
    },
    {
     "data": {
      "image/png": "[encoded data removed]",
      "text/plain": [
       "<matplotlib.figure.Figure at 0x1aa18d3eb70>"
      ]
     },
     "metadata": {},
     "output_type": "display_data"
    },
    {
     "data": {
      "text/plain": [
       "3     964972\n",
       "2      87810\n",
       "12     13328\n",
       "11     12320\n",
       "10     10022\n",
       "1       8838\n",
       "9       8014\n",
       "8       7352\n",
       "7       6844\n",
       "6       5036\n",
       "5       4186\n",
       "4       3314\n",
       "Name: transaction_month, dtype: int64"
      ]
     },
     "execution_count": 49,
     "metadata": {},
     "output_type": "execute_result"
    }
   ],
   "source": [
    "plt.figure(figsize=(18,6))\n",
    "sns.countplot(x=\"transaction_month\", data=train_trans, palette=\"Set2\")\n",
    "plt.ylabel('Count', fontsize=12)\n",
    "plt.xlabel('transaction_month', fontsize=12)\n",
    "plt.xticks(rotation='vertical')\n",
    "plt.title(\"Frequency of transaction_month in train_members Data Set\", fontsize=12)\n",
    "plt.show()\n",
    "\n",
    "train_trans['transaction_month'].value_counts()"
   ]
  },
  {
   "cell_type": "code",
   "execution_count": 50,
   "metadata": {},
   "outputs": [
    {
     "data": {
      "text/plain": [
       "0.8524216544350179"
      ]
     },
     "execution_count": 50,
     "metadata": {},
     "output_type": "execute_result"
    }
   ],
   "source": [
    "964972/1132036 # march data %"
   ]
  },
  {
   "cell_type": "code",
   "execution_count": 51,
   "metadata": {},
   "outputs": [
    {
     "data": {
      "text/html": [
       "<div>\n",
       "<style scoped>\n",
       "    .dataframe tbody tr th:only-of-type {\n",
       "        vertical-align: middle;\n",
       "    }\n",
       "\n",
       "    .dataframe tbody tr th {\n",
       "        vertical-align: top;\n",
       "    }\n",
       "\n",
       "    .dataframe thead th {\n",
       "        text-align: right;\n",
       "    }\n",
       "</style>\n",
       "<table border=\"1\" class=\"dataframe\">\n",
       "  <thead>\n",
       "    <tr style=\"text-align: right;\">\n",
       "      <th>is_churn</th>\n",
       "      <th>0</th>\n",
       "      <th>1</th>\n",
       "      <th>0_%</th>\n",
       "      <th>1_%</th>\n",
       "    </tr>\n",
       "    <tr>\n",
       "      <th>transaction_month</th>\n",
       "      <th></th>\n",
       "      <th></th>\n",
       "      <th></th>\n",
       "      <th></th>\n",
       "    </tr>\n",
       "  </thead>\n",
       "  <tbody>\n",
       "    <tr>\n",
       "      <th>1</th>\n",
       "      <td>1700</td>\n",
       "      <td>7138</td>\n",
       "      <td>19.24</td>\n",
       "      <td>80.76</td>\n",
       "    </tr>\n",
       "    <tr>\n",
       "      <th>12</th>\n",
       "      <td>7070</td>\n",
       "      <td>6258</td>\n",
       "      <td>53.05</td>\n",
       "      <td>46.95</td>\n",
       "    </tr>\n",
       "    <tr>\n",
       "      <th>7</th>\n",
       "      <td>4093</td>\n",
       "      <td>2751</td>\n",
       "      <td>59.80</td>\n",
       "      <td>40.20</td>\n",
       "    </tr>\n",
       "    <tr>\n",
       "      <th>10</th>\n",
       "      <td>6351</td>\n",
       "      <td>3671</td>\n",
       "      <td>63.37</td>\n",
       "      <td>36.63</td>\n",
       "    </tr>\n",
       "    <tr>\n",
       "      <th>11</th>\n",
       "      <td>7835</td>\n",
       "      <td>4485</td>\n",
       "      <td>63.60</td>\n",
       "      <td>36.40</td>\n",
       "    </tr>\n",
       "    <tr>\n",
       "      <th>9</th>\n",
       "      <td>5140</td>\n",
       "      <td>2874</td>\n",
       "      <td>64.14</td>\n",
       "      <td>35.86</td>\n",
       "    </tr>\n",
       "    <tr>\n",
       "      <th>8</th>\n",
       "      <td>4721</td>\n",
       "      <td>2631</td>\n",
       "      <td>64.21</td>\n",
       "      <td>35.79</td>\n",
       "    </tr>\n",
       "    <tr>\n",
       "      <th>6</th>\n",
       "      <td>3358</td>\n",
       "      <td>1678</td>\n",
       "      <td>66.68</td>\n",
       "      <td>33.32</td>\n",
       "    </tr>\n",
       "    <tr>\n",
       "      <th>5</th>\n",
       "      <td>2800</td>\n",
       "      <td>1386</td>\n",
       "      <td>66.89</td>\n",
       "      <td>33.11</td>\n",
       "    </tr>\n",
       "    <tr>\n",
       "      <th>4</th>\n",
       "      <td>2237</td>\n",
       "      <td>1077</td>\n",
       "      <td>67.50</td>\n",
       "      <td>32.50</td>\n",
       "    </tr>\n",
       "    <tr>\n",
       "      <th>2</th>\n",
       "      <td>72914</td>\n",
       "      <td>14896</td>\n",
       "      <td>83.04</td>\n",
       "      <td>16.96</td>\n",
       "    </tr>\n",
       "    <tr>\n",
       "      <th>3</th>\n",
       "      <td>900244</td>\n",
       "      <td>64728</td>\n",
       "      <td>93.29</td>\n",
       "      <td>6.71</td>\n",
       "    </tr>\n",
       "  </tbody>\n",
       "</table>\n",
       "</div>"
      ],
      "text/plain": [
       "is_churn                0      1    0_%    1_%\n",
       "transaction_month                             \n",
       "1                    1700   7138  19.24  80.76\n",
       "12                   7070   6258  53.05  46.95\n",
       "7                    4093   2751  59.80  40.20\n",
       "10                   6351   3671  63.37  36.63\n",
       "11                   7835   4485  63.60  36.40\n",
       "9                    5140   2874  64.14  35.86\n",
       "8                    4721   2631  64.21  35.79\n",
       "6                    3358   1678  66.68  33.32\n",
       "5                    2800   1386  66.89  33.11\n",
       "4                    2237   1077  67.50  32.50\n",
       "2                   72914  14896  83.04  16.96\n",
       "3                  900244  64728  93.29   6.71"
      ]
     },
     "execution_count": 51,
     "metadata": {},
     "output_type": "execute_result"
    },
    {
     "data": {
      "image/png": "[encoded data removed]",
      "text/plain": [
       "<matplotlib.figure.Figure at 0x1aa2664cba8>"
      ]
     },
     "metadata": {},
     "output_type": "display_data"
    }
   ],
   "source": [
    "transaction_month_crosstab=pd.crosstab(train_trans['transaction_month'],train_trans['is_churn'])\n",
    "transaction_month_crosstab[\"0_%\"] =  round(transaction_month_crosstab[0]/(transaction_month_crosstab[1]+transaction_month_crosstab[0])*100, 2)\n",
    "transaction_month_crosstab[\"1_%\"] =  round(transaction_month_crosstab[1]/(transaction_month_crosstab[1]+transaction_month_crosstab[0])*100, 2)\n",
    "transaction_month_crosstab.sort_values('1_%', ascending = False)\n",
    "\n",
    "sns.set_style(\"whitegrid\")\n",
    "plt.rcParams['figure.figsize']=(20,10)\n",
    "ax = sns.barplot(x = transaction_month_crosstab.index.values, y = \"1_%\", data=transaction_month_crosstab, palette=\"Set2\").set_title(\"% of churn depend of values\")"
   ]
  },
  {
   "cell_type": "markdown",
   "metadata": {},
   "source": [
    "Users tend to churn more often on Jan and Dec, and less often on Feb and March (let's keep in mind that 85% of data are for March). I will create new feature *'transaction_month_cat'* with split for mentioned 2 clusters + remaining months as 3rd cluster."
   ]
  },
  {
   "cell_type": "code",
   "execution_count": null,
   "metadata": {},
   "outputs": [],
   "source": []
  },
  {
   "cell_type": "code",
   "execution_count": 52,
   "metadata": {},
   "outputs": [
    {
     "data": {
      "text/plain": [
       "<matplotlib.figure.Figure at 0x1ab2805d6d8>"
      ]
     },
     "execution_count": 52,
     "metadata": {},
     "output_type": "execute_result"
    },
    {
     "data": {
      "text/plain": [
       "<matplotlib.axes._subplots.AxesSubplot at 0x1aa18713c18>"
      ]
     },
     "execution_count": 52,
     "metadata": {},
     "output_type": "execute_result"
    },
    {
     "data": {
      "text/plain": [
       "Text(0,0.5,'Count')"
      ]
     },
     "execution_count": 52,
     "metadata": {},
     "output_type": "execute_result"
    },
    {
     "data": {
      "text/plain": [
       "Text(0.5,0,'transaction_weekday')"
      ]
     },
     "execution_count": 52,
     "metadata": {},
     "output_type": "execute_result"
    },
    {
     "data": {
      "text/plain": [
       "(array([0, 1, 2, 3, 4, 5, 6]), <a list of 7 Text xticklabel objects>)"
      ]
     },
     "execution_count": 52,
     "metadata": {},
     "output_type": "execute_result"
    },
    {
     "data": {
      "text/plain": [
       "Text(0.5,1,'Frequency of transaction_weekday in train_members Data Set')"
      ]
     },
     "execution_count": 52,
     "metadata": {},
     "output_type": "execute_result"
    },
    {
     "data": {
      "image/png": "[encoded data removed]",
      "text/plain": [
       "<matplotlib.figure.Figure at 0x1ab2805d6d8>"
      ]
     },
     "metadata": {},
     "output_type": "display_data"
    }
   ],
   "source": [
    "plt.figure(figsize=(18,6))\n",
    "sns.countplot(x=\"transaction_weekday\", data=train_trans, palette=\"Set2\")\n",
    "plt.ylabel('Count', fontsize=12)\n",
    "plt.xlabel('transaction_weekday', fontsize=12)\n",
    "plt.xticks(rotation='vertical')\n",
    "plt.title(\"Frequency of transaction_weekday in train_members Data Set\", fontsize=12)\n",
    "plt.show()"
   ]
  },
  {
   "cell_type": "code",
   "execution_count": 53,
   "metadata": {},
   "outputs": [
    {
     "data": {
      "text/html": [
       "<div>\n",
       "<style scoped>\n",
       "    .dataframe tbody tr th:only-of-type {\n",
       "        vertical-align: middle;\n",
       "    }\n",
       "\n",
       "    .dataframe tbody tr th {\n",
       "        vertical-align: top;\n",
       "    }\n",
       "\n",
       "    .dataframe thead th {\n",
       "        text-align: right;\n",
       "    }\n",
       "</style>\n",
       "<table border=\"1\" class=\"dataframe\">\n",
       "  <thead>\n",
       "    <tr style=\"text-align: right;\">\n",
       "      <th>is_churn</th>\n",
       "      <th>0</th>\n",
       "      <th>1</th>\n",
       "      <th>0_%</th>\n",
       "      <th>1_%</th>\n",
       "    </tr>\n",
       "    <tr>\n",
       "      <th>transaction_weekday</th>\n",
       "      <th></th>\n",
       "      <th></th>\n",
       "      <th></th>\n",
       "      <th></th>\n",
       "    </tr>\n",
       "  </thead>\n",
       "  <tbody>\n",
       "    <tr>\n",
       "      <th>2</th>\n",
       "      <td>111435</td>\n",
       "      <td>18066</td>\n",
       "      <td>86.05</td>\n",
       "      <td>13.95</td>\n",
       "    </tr>\n",
       "    <tr>\n",
       "      <th>0</th>\n",
       "      <td>104035</td>\n",
       "      <td>15199</td>\n",
       "      <td>87.25</td>\n",
       "      <td>12.75</td>\n",
       "    </tr>\n",
       "    <tr>\n",
       "      <th>3</th>\n",
       "      <td>114989</td>\n",
       "      <td>15192</td>\n",
       "      <td>88.33</td>\n",
       "      <td>11.67</td>\n",
       "    </tr>\n",
       "    <tr>\n",
       "      <th>5</th>\n",
       "      <td>115644</td>\n",
       "      <td>14912</td>\n",
       "      <td>88.58</td>\n",
       "      <td>11.42</td>\n",
       "    </tr>\n",
       "    <tr>\n",
       "      <th>1</th>\n",
       "      <td>163064</td>\n",
       "      <td>20246</td>\n",
       "      <td>88.96</td>\n",
       "      <td>11.04</td>\n",
       "    </tr>\n",
       "    <tr>\n",
       "      <th>6</th>\n",
       "      <td>117448</td>\n",
       "      <td>13183</td>\n",
       "      <td>89.91</td>\n",
       "      <td>10.09</td>\n",
       "    </tr>\n",
       "    <tr>\n",
       "      <th>4</th>\n",
       "      <td>291848</td>\n",
       "      <td>16775</td>\n",
       "      <td>94.56</td>\n",
       "      <td>5.44</td>\n",
       "    </tr>\n",
       "  </tbody>\n",
       "</table>\n",
       "</div>"
      ],
      "text/plain": [
       "is_churn                  0      1    0_%    1_%\n",
       "transaction_weekday                             \n",
       "2                    111435  18066  86.05  13.95\n",
       "0                    104035  15199  87.25  12.75\n",
       "3                    114989  15192  88.33  11.67\n",
       "5                    115644  14912  88.58  11.42\n",
       "1                    163064  20246  88.96  11.04\n",
       "6                    117448  13183  89.91  10.09\n",
       "4                    291848  16775  94.56   5.44"
      ]
     },
     "execution_count": 53,
     "metadata": {},
     "output_type": "execute_result"
    },
    {
     "data": {
      "image/png": "[encoded data removed]",
      "text/plain": [
       "<matplotlib.figure.Figure at 0x1ab2e711ba8>"
      ]
     },
     "metadata": {},
     "output_type": "display_data"
    }
   ],
   "source": [
    "transaction_weekday_crosstab=pd.crosstab(train_trans['transaction_weekday'],train_trans['is_churn'])\n",
    "transaction_weekday_crosstab[\"0_%\"] =  round(transaction_weekday_crosstab[0]/(transaction_weekday_crosstab[1]+transaction_weekday_crosstab[0])*100, 2)\n",
    "transaction_weekday_crosstab[\"1_%\"] =  round(transaction_weekday_crosstab[1]/(transaction_weekday_crosstab[1]+transaction_weekday_crosstab[0])*100, 2)\n",
    "transaction_weekday_crosstab.sort_values('1_%', ascending = False)\n",
    "\n",
    "sns.set_style(\"whitegrid\")\n",
    "plt.rcParams['figure.figsize']=(20,10)\n",
    "ax = sns.barplot(x = transaction_weekday_crosstab.index.values, y = \"1_%\", data=transaction_weekday_crosstab, palette=\"Set2\").set_title(\"% of churn depend of values\")"
   ]
  },
  {
   "cell_type": "markdown",
   "metadata": {},
   "source": [
    "Based on given data we can assume that users who made transactions on firday tend to less frequently unsubscribe. I will create binary feature for friday data."
   ]
  },
  {
   "cell_type": "markdown",
   "metadata": {},
   "source": [
    "##### 2.3.7 Transactions['membership_expire_date] "
   ]
  },
  {
   "cell_type": "markdown",
   "metadata": {},
   "source": [
    "**Creation of new features with split for month and week**"
   ]
  },
  {
   "cell_type": "code",
   "execution_count": 54,
   "metadata": {},
   "outputs": [],
   "source": [
    "train_trans['membership_expire_month'] = pd.DatetimeIndex(train_trans['membership_expire_date']).month\n",
    "train_trans['membership_expire_weekday'] = pd.DatetimeIndex(train_trans['membership_expire_date']).weekday"
   ]
  },
  {
   "cell_type": "code",
   "execution_count": 55,
   "metadata": {},
   "outputs": [
    {
     "data": {
      "text/plain": [
       "<matplotlib.figure.Figure at 0x1ab30440d30>"
      ]
     },
     "execution_count": 55,
     "metadata": {},
     "output_type": "execute_result"
    },
    {
     "data": {
      "text/plain": [
       "<matplotlib.axes._subplots.AxesSubplot at 0x1ab30440780>"
      ]
     },
     "execution_count": 55,
     "metadata": {},
     "output_type": "execute_result"
    },
    {
     "data": {
      "text/plain": [
       "Text(0,0.5,'Count')"
      ]
     },
     "execution_count": 55,
     "metadata": {},
     "output_type": "execute_result"
    },
    {
     "data": {
      "text/plain": [
       "Text(0.5,0,'membership_expire_month')"
      ]
     },
     "execution_count": 55,
     "metadata": {},
     "output_type": "execute_result"
    },
    {
     "data": {
      "text/plain": [
       "(array([ 0,  1,  2,  3,  4,  5,  6,  7,  8,  9, 10, 11]),\n",
       " <a list of 12 Text xticklabel objects>)"
      ]
     },
     "execution_count": 55,
     "metadata": {},
     "output_type": "execute_result"
    },
    {
     "data": {
      "text/plain": [
       "Text(0.5,1,'Frequency of membership_expire_month in train_members Data Set')"
      ]
     },
     "execution_count": 55,
     "metadata": {},
     "output_type": "execute_result"
    },
    {
     "data": {
      "image/png": "[encoded data removed]",
      "text/plain": [
       "<matplotlib.figure.Figure at 0x1ab30440d30>"
      ]
     },
     "metadata": {},
     "output_type": "display_data"
    },
    {
     "data": {
      "text/plain": [
       "4     911224\n",
       "5      99891\n",
       "3      47600\n",
       "6      17470\n",
       "9      11145\n",
       "7      10467\n",
       "8       8217\n",
       "10      7622\n",
       "11      6184\n",
       "12      4609\n",
       "1       4180\n",
       "2       3427\n",
       "Name: membership_expire_month, dtype: int64"
      ]
     },
     "execution_count": 55,
     "metadata": {},
     "output_type": "execute_result"
    }
   ],
   "source": [
    "plt.figure(figsize=(18,6))\n",
    "sns.countplot(x=\"membership_expire_month\", data=train_trans, palette=\"Set2\")\n",
    "plt.ylabel('Count', fontsize=12)\n",
    "plt.xlabel('membership_expire_month', fontsize=12)\n",
    "plt.xticks(rotation='vertical')\n",
    "plt.title(\"Frequency of membership_expire_month in train_members Data Set\", fontsize=12)\n",
    "plt.show()\n",
    "\n",
    "train_trans['membership_expire_month'].value_counts()"
   ]
  },
  {
   "cell_type": "code",
   "execution_count": 56,
   "metadata": {},
   "outputs": [
    {
     "data": {
      "text/plain": [
       "0.8049425989986184"
      ]
     },
     "execution_count": 56,
     "metadata": {},
     "output_type": "execute_result"
    }
   ],
   "source": [
    "911224/1132036 # percentage of April data"
   ]
  },
  {
   "cell_type": "code",
   "execution_count": 57,
   "metadata": {},
   "outputs": [
    {
     "data": {
      "text/html": [
       "<div>\n",
       "<style scoped>\n",
       "    .dataframe tbody tr th:only-of-type {\n",
       "        vertical-align: middle;\n",
       "    }\n",
       "\n",
       "    .dataframe tbody tr th {\n",
       "        vertical-align: top;\n",
       "    }\n",
       "\n",
       "    .dataframe thead th {\n",
       "        text-align: right;\n",
       "    }\n",
       "</style>\n",
       "<table border=\"1\" class=\"dataframe\">\n",
       "  <thead>\n",
       "    <tr style=\"text-align: right;\">\n",
       "      <th>is_churn</th>\n",
       "      <th>0</th>\n",
       "      <th>1</th>\n",
       "      <th>0_%</th>\n",
       "      <th>1_%</th>\n",
       "    </tr>\n",
       "    <tr>\n",
       "      <th>membership_expire_month</th>\n",
       "      <th></th>\n",
       "      <th></th>\n",
       "      <th></th>\n",
       "      <th></th>\n",
       "    </tr>\n",
       "  </thead>\n",
       "  <tbody>\n",
       "    <tr>\n",
       "      <th>6</th>\n",
       "      <td>5801</td>\n",
       "      <td>11669</td>\n",
       "      <td>33.21</td>\n",
       "      <td>66.79</td>\n",
       "    </tr>\n",
       "    <tr>\n",
       "      <th>9</th>\n",
       "      <td>3959</td>\n",
       "      <td>7186</td>\n",
       "      <td>35.52</td>\n",
       "      <td>64.48</td>\n",
       "    </tr>\n",
       "    <tr>\n",
       "      <th>10</th>\n",
       "      <td>3714</td>\n",
       "      <td>3908</td>\n",
       "      <td>48.73</td>\n",
       "      <td>51.27</td>\n",
       "    </tr>\n",
       "    <tr>\n",
       "      <th>7</th>\n",
       "      <td>5104</td>\n",
       "      <td>5363</td>\n",
       "      <td>48.76</td>\n",
       "      <td>51.24</td>\n",
       "    </tr>\n",
       "    <tr>\n",
       "      <th>3</th>\n",
       "      <td>24495</td>\n",
       "      <td>23105</td>\n",
       "      <td>51.46</td>\n",
       "      <td>48.54</td>\n",
       "    </tr>\n",
       "    <tr>\n",
       "      <th>11</th>\n",
       "      <td>3312</td>\n",
       "      <td>2872</td>\n",
       "      <td>53.56</td>\n",
       "      <td>46.44</td>\n",
       "    </tr>\n",
       "    <tr>\n",
       "      <th>8</th>\n",
       "      <td>4514</td>\n",
       "      <td>3703</td>\n",
       "      <td>54.93</td>\n",
       "      <td>45.07</td>\n",
       "    </tr>\n",
       "    <tr>\n",
       "      <th>12</th>\n",
       "      <td>2932</td>\n",
       "      <td>1677</td>\n",
       "      <td>63.61</td>\n",
       "      <td>36.39</td>\n",
       "    </tr>\n",
       "    <tr>\n",
       "      <th>2</th>\n",
       "      <td>2210</td>\n",
       "      <td>1217</td>\n",
       "      <td>64.49</td>\n",
       "      <td>35.51</td>\n",
       "    </tr>\n",
       "    <tr>\n",
       "      <th>1</th>\n",
       "      <td>2717</td>\n",
       "      <td>1463</td>\n",
       "      <td>65.00</td>\n",
       "      <td>35.00</td>\n",
       "    </tr>\n",
       "    <tr>\n",
       "      <th>5</th>\n",
       "      <td>84027</td>\n",
       "      <td>15864</td>\n",
       "      <td>84.12</td>\n",
       "      <td>15.88</td>\n",
       "    </tr>\n",
       "    <tr>\n",
       "      <th>4</th>\n",
       "      <td>875678</td>\n",
       "      <td>35546</td>\n",
       "      <td>96.10</td>\n",
       "      <td>3.90</td>\n",
       "    </tr>\n",
       "  </tbody>\n",
       "</table>\n",
       "</div>"
      ],
      "text/plain": [
       "is_churn                      0      1    0_%    1_%\n",
       "membership_expire_month                             \n",
       "6                          5801  11669  33.21  66.79\n",
       "9                          3959   7186  35.52  64.48\n",
       "10                         3714   3908  48.73  51.27\n",
       "7                          5104   5363  48.76  51.24\n",
       "3                         24495  23105  51.46  48.54\n",
       "11                         3312   2872  53.56  46.44\n",
       "8                          4514   3703  54.93  45.07\n",
       "12                         2932   1677  63.61  36.39\n",
       "2                          2210   1217  64.49  35.51\n",
       "1                          2717   1463  65.00  35.00\n",
       "5                         84027  15864  84.12  15.88\n",
       "4                        875678  35546  96.10   3.90"
      ]
     },
     "execution_count": 57,
     "metadata": {},
     "output_type": "execute_result"
    },
    {
     "data": {
      "image/png": "[encoded data removed]",
      "text/plain": [
       "<matplotlib.figure.Figure at 0x1ab30499e10>"
      ]
     },
     "metadata": {},
     "output_type": "display_data"
    }
   ],
   "source": [
    "membership_expire_month_crosstab=pd.crosstab(train_trans['membership_expire_month'],train_trans['is_churn'])\n",
    "membership_expire_month_crosstab[\"0_%\"] =  round(membership_expire_month_crosstab[0]/(membership_expire_month_crosstab[1]+membership_expire_month_crosstab[0])*100, 2)\n",
    "membership_expire_month_crosstab[\"1_%\"] =  round(membership_expire_month_crosstab[1]/(membership_expire_month_crosstab[1]+membership_expire_month_crosstab[0])*100, 2)\n",
    "membership_expire_month_crosstab.sort_values('1_%', ascending = False)\n",
    "\n",
    "sns.set_style(\"whitegrid\")\n",
    "plt.rcParams['figure.figsize']=(20,10)\n",
    "ax = sns.barplot(x = membership_expire_month_crosstab.index.values, y = \"1_%\", data=membership_expire_month_crosstab, palette=\"Set2\").set_title(\"% of churn depend of values\")"
   ]
  },
  {
   "cell_type": "markdown",
   "metadata": {},
   "source": [
    "I will explore further split months into clusters based on churn rate in FE phase. "
   ]
  },
  {
   "cell_type": "code",
   "execution_count": 58,
   "metadata": {},
   "outputs": [
    {
     "data": {
      "text/plain": [
       "<matplotlib.figure.Figure at 0x1ab304604a8>"
      ]
     },
     "execution_count": 58,
     "metadata": {},
     "output_type": "execute_result"
    },
    {
     "data": {
      "text/plain": [
       "<matplotlib.axes._subplots.AxesSubplot at 0x1aa17da0f98>"
      ]
     },
     "execution_count": 58,
     "metadata": {},
     "output_type": "execute_result"
    },
    {
     "data": {
      "text/plain": [
       "Text(0,0.5,'Count')"
      ]
     },
     "execution_count": 58,
     "metadata": {},
     "output_type": "execute_result"
    },
    {
     "data": {
      "text/plain": [
       "Text(0.5,0,'membership_expire_weekday')"
      ]
     },
     "execution_count": 58,
     "metadata": {},
     "output_type": "execute_result"
    },
    {
     "data": {
      "text/plain": [
       "(array([0, 1, 2, 3, 4, 5, 6]), <a list of 7 Text xticklabel objects>)"
      ]
     },
     "execution_count": 58,
     "metadata": {},
     "output_type": "execute_result"
    },
    {
     "data": {
      "text/plain": [
       "Text(0.5,1,'Frequency of membership_expire_weekday in train_members Data Set')"
      ]
     },
     "execution_count": 58,
     "metadata": {},
     "output_type": "execute_result"
    },
    {
     "data": {
      "image/png": "[encoded data removed]",
      "text/plain": [
       "<matplotlib.figure.Figure at 0x1ab304604a8>"
      ]
     },
     "metadata": {},
     "output_type": "display_data"
    }
   ],
   "source": [
    "plt.figure(figsize=(18,6))\n",
    "sns.countplot(x=\"membership_expire_weekday\", data=train_trans, palette=\"Set2\")\n",
    "plt.ylabel('Count', fontsize=12)\n",
    "plt.xlabel('membership_expire_weekday', fontsize=12)\n",
    "plt.xticks(rotation='vertical')\n",
    "plt.title(\"Frequency of membership_expire_weekday in train_members Data Set\", fontsize=12)\n",
    "plt.show()"
   ]
  },
  {
   "cell_type": "code",
   "execution_count": 59,
   "metadata": {},
   "outputs": [
    {
     "data": {
      "text/html": [
       "<div>\n",
       "<style scoped>\n",
       "    .dataframe tbody tr th:only-of-type {\n",
       "        vertical-align: middle;\n",
       "    }\n",
       "\n",
       "    .dataframe tbody tr th {\n",
       "        vertical-align: top;\n",
       "    }\n",
       "\n",
       "    .dataframe thead th {\n",
       "        text-align: right;\n",
       "    }\n",
       "</style>\n",
       "<table border=\"1\" class=\"dataframe\">\n",
       "  <thead>\n",
       "    <tr style=\"text-align: right;\">\n",
       "      <th>is_churn</th>\n",
       "      <th>0</th>\n",
       "      <th>1</th>\n",
       "      <th>0_%</th>\n",
       "      <th>1_%</th>\n",
       "    </tr>\n",
       "    <tr>\n",
       "      <th>membership_expire_weekday</th>\n",
       "      <th></th>\n",
       "      <th></th>\n",
       "      <th></th>\n",
       "      <th></th>\n",
       "    </tr>\n",
       "  </thead>\n",
       "  <tbody>\n",
       "    <tr>\n",
       "      <th>4</th>\n",
       "      <td>119879</td>\n",
       "      <td>17127</td>\n",
       "      <td>87.50</td>\n",
       "      <td>12.50</td>\n",
       "    </tr>\n",
       "    <tr>\n",
       "      <th>5</th>\n",
       "      <td>111869</td>\n",
       "      <td>15781</td>\n",
       "      <td>87.64</td>\n",
       "      <td>12.36</td>\n",
       "    </tr>\n",
       "    <tr>\n",
       "      <th>2</th>\n",
       "      <td>135960</td>\n",
       "      <td>17815</td>\n",
       "      <td>88.41</td>\n",
       "      <td>11.59</td>\n",
       "    </tr>\n",
       "    <tr>\n",
       "      <th>3</th>\n",
       "      <td>125286</td>\n",
       "      <td>16045</td>\n",
       "      <td>88.65</td>\n",
       "      <td>11.35</td>\n",
       "    </tr>\n",
       "    <tr>\n",
       "      <th>0</th>\n",
       "      <td>135802</td>\n",
       "      <td>15638</td>\n",
       "      <td>89.67</td>\n",
       "      <td>10.33</td>\n",
       "    </tr>\n",
       "    <tr>\n",
       "      <th>1</th>\n",
       "      <td>140118</td>\n",
       "      <td>15495</td>\n",
       "      <td>90.04</td>\n",
       "      <td>9.96</td>\n",
       "    </tr>\n",
       "    <tr>\n",
       "      <th>6</th>\n",
       "      <td>249549</td>\n",
       "      <td>15672</td>\n",
       "      <td>94.09</td>\n",
       "      <td>5.91</td>\n",
       "    </tr>\n",
       "  </tbody>\n",
       "</table>\n",
       "</div>"
      ],
      "text/plain": [
       "is_churn                        0      1    0_%    1_%\n",
       "membership_expire_weekday                             \n",
       "4                          119879  17127  87.50  12.50\n",
       "5                          111869  15781  87.64  12.36\n",
       "2                          135960  17815  88.41  11.59\n",
       "3                          125286  16045  88.65  11.35\n",
       "0                          135802  15638  89.67  10.33\n",
       "1                          140118  15495  90.04   9.96\n",
       "6                          249549  15672  94.09   5.91"
      ]
     },
     "execution_count": 59,
     "metadata": {},
     "output_type": "execute_result"
    },
    {
     "data": {
      "image/png": "[encoded data removed]",
      "text/plain": [
       "<matplotlib.figure.Figure at 0x1ab30558be0>"
      ]
     },
     "metadata": {},
     "output_type": "display_data"
    }
   ],
   "source": [
    "membership_expire_weekday_crosstab=pd.crosstab(train_trans['membership_expire_weekday'],train_trans['is_churn'])\n",
    "membership_expire_weekday_crosstab[\"0_%\"] =  round(membership_expire_weekday_crosstab[0]/(membership_expire_weekday_crosstab[1]+membership_expire_weekday_crosstab[0])*100, 2)\n",
    "membership_expire_weekday_crosstab[\"1_%\"] =  round(membership_expire_weekday_crosstab[1]/(membership_expire_weekday_crosstab[1]+membership_expire_weekday_crosstab[0])*100, 2)\n",
    "membership_expire_weekday_crosstab.sort_values('1_%', ascending = False)\n",
    "\n",
    "sns.set_style(\"whitegrid\")\n",
    "plt.rcParams['figure.figsize']=(20,10)\n",
    "ax = sns.barplot(x = membership_expire_weekday_crosstab.index.values, y = \"1_%\", data=membership_expire_weekday_crosstab, palette=\"Set2\").set_title(\"% of churn depend of values\")"
   ]
  },
  {
   "cell_type": "markdown",
   "metadata": {},
   "source": [
    "I don't consider membership weekday feature as very insightful."
   ]
  },
  {
   "cell_type": "code",
   "execution_count": 60,
   "metadata": {},
   "outputs": [],
   "source": [
    "train_trans['membership_expire_date_fact'] = pd.factorize(train_trans['membership_expire_date'])[0]"
   ]
  },
  {
   "cell_type": "markdown",
   "metadata": {},
   "source": [
    "##### 2.3.8 Transactions['is_cancel'] "
   ]
  },
  {
   "cell_type": "code",
   "execution_count": 61,
   "metadata": {},
   "outputs": [
    {
     "data": {
      "text/plain": [
       "0    1099153\n",
       "1      32883\n",
       "Name: is_cancel, dtype: int64"
      ]
     },
     "execution_count": 61,
     "metadata": {},
     "output_type": "execute_result"
    }
   ],
   "source": [
    "train_trans.is_cancel.value_counts()"
   ]
  },
  {
   "cell_type": "code",
   "execution_count": 62,
   "metadata": {},
   "outputs": [
    {
     "data": {
      "text/html": [
       "<div>\n",
       "<style scoped>\n",
       "    .dataframe tbody tr th:only-of-type {\n",
       "        vertical-align: middle;\n",
       "    }\n",
       "\n",
       "    .dataframe tbody tr th {\n",
       "        vertical-align: top;\n",
       "    }\n",
       "\n",
       "    .dataframe thead th {\n",
       "        text-align: right;\n",
       "    }\n",
       "</style>\n",
       "<table border=\"1\" class=\"dataframe\">\n",
       "  <thead>\n",
       "    <tr style=\"text-align: right;\">\n",
       "      <th>is_churn</th>\n",
       "      <th>0</th>\n",
       "      <th>1</th>\n",
       "      <th>0_%</th>\n",
       "      <th>1_%</th>\n",
       "    </tr>\n",
       "    <tr>\n",
       "      <th>is_cancel</th>\n",
       "      <th></th>\n",
       "      <th></th>\n",
       "      <th></th>\n",
       "      <th></th>\n",
       "    </tr>\n",
       "  </thead>\n",
       "  <tbody>\n",
       "    <tr>\n",
       "      <th>1</th>\n",
       "      <td>13293</td>\n",
       "      <td>19590</td>\n",
       "      <td>40.43</td>\n",
       "      <td>59.57</td>\n",
       "    </tr>\n",
       "    <tr>\n",
       "      <th>0</th>\n",
       "      <td>1005170</td>\n",
       "      <td>93983</td>\n",
       "      <td>91.45</td>\n",
       "      <td>8.55</td>\n",
       "    </tr>\n",
       "  </tbody>\n",
       "</table>\n",
       "</div>"
      ],
      "text/plain": [
       "is_churn         0      1    0_%    1_%\n",
       "is_cancel                              \n",
       "1            13293  19590  40.43  59.57\n",
       "0          1005170  93983  91.45   8.55"
      ]
     },
     "execution_count": 62,
     "metadata": {},
     "output_type": "execute_result"
    }
   ],
   "source": [
    "is_cancel_crosstab=pd.crosstab(train_trans['is_cancel'],train_trans['is_churn'])\n",
    "is_cancel_crosstab[\"0_%\"] =  round(is_cancel_crosstab[0]/(is_cancel_crosstab[1]+is_cancel_crosstab[0])*100, 2)\n",
    "is_cancel_crosstab[\"1_%\"] =  round(is_cancel_crosstab[1]/(is_cancel_crosstab[1]+is_cancel_crosstab[0])*100, 2)\n",
    "is_cancel_crosstab.sort_values('1_%', ascending = False)"
   ]
  },
  {
   "cell_type": "code",
   "execution_count": null,
   "metadata": {},
   "outputs": [],
   "source": []
  },
  {
   "cell_type": "markdown",
   "metadata": {},
   "source": [
    "====================================================================================================\n",
    "### 2.4 User_logs dataset"
   ]
  },
  {
   "cell_type": "code",
   "execution_count": 63,
   "metadata": {},
   "outputs": [
    {
     "data": {
      "text/html": [
       "<div>\n",
       "<style scoped>\n",
       "    .dataframe tbody tr th:only-of-type {\n",
       "        vertical-align: middle;\n",
       "    }\n",
       "\n",
       "    .dataframe tbody tr th {\n",
       "        vertical-align: top;\n",
       "    }\n",
       "\n",
       "    .dataframe thead th {\n",
       "        text-align: right;\n",
       "    }\n",
       "</style>\n",
       "<table border=\"1\" class=\"dataframe\">\n",
       "  <thead>\n",
       "    <tr style=\"text-align: right;\">\n",
       "      <th></th>\n",
       "      <th>msno</th>\n",
       "      <th>date</th>\n",
       "      <th>num_25</th>\n",
       "      <th>num_50</th>\n",
       "      <th>num_75</th>\n",
       "      <th>num_985</th>\n",
       "      <th>num_100</th>\n",
       "      <th>num_unq</th>\n",
       "      <th>total_secs</th>\n",
       "    </tr>\n",
       "  </thead>\n",
       "  <tbody>\n",
       "    <tr>\n",
       "      <th>0</th>\n",
       "      <td>u9E91QDTvHLq6NXjEaWv8u4QIqhrHk72kE+w31Gnhdg=</td>\n",
       "      <td>20170331</td>\n",
       "      <td>8</td>\n",
       "      <td>4</td>\n",
       "      <td>0</td>\n",
       "      <td>1</td>\n",
       "      <td>21</td>\n",
       "      <td>18</td>\n",
       "      <td>6309.273</td>\n",
       "    </tr>\n",
       "    <tr>\n",
       "      <th>1</th>\n",
       "      <td>nTeWW/eOZA/UHKdD5L7DEqKKFTjaAj3ALLPoAWsU8n0=</td>\n",
       "      <td>20170330</td>\n",
       "      <td>2</td>\n",
       "      <td>2</td>\n",
       "      <td>1</td>\n",
       "      <td>0</td>\n",
       "      <td>9</td>\n",
       "      <td>11</td>\n",
       "      <td>2390.699</td>\n",
       "    </tr>\n",
       "    <tr>\n",
       "      <th>2</th>\n",
       "      <td>2UqkWXwZbIjs03dHLU9KHJNNEvEkZVzm69f3jCS+uLI=</td>\n",
       "      <td>20170331</td>\n",
       "      <td>52</td>\n",
       "      <td>3</td>\n",
       "      <td>5</td>\n",
       "      <td>3</td>\n",
       "      <td>84</td>\n",
       "      <td>110</td>\n",
       "      <td>23203.337</td>\n",
       "    </tr>\n",
       "    <tr>\n",
       "      <th>3</th>\n",
       "      <td>ycwLc+m2O0a85jSLALtr941AaZt9ai8Qwlg9n0Nql5U=</td>\n",
       "      <td>20170331</td>\n",
       "      <td>176</td>\n",
       "      <td>4</td>\n",
       "      <td>2</td>\n",
       "      <td>2</td>\n",
       "      <td>19</td>\n",
       "      <td>191</td>\n",
       "      <td>7100.454</td>\n",
       "    </tr>\n",
       "    <tr>\n",
       "      <th>4</th>\n",
       "      <td>EGcbTofOSOkMmQyN1NMLxHEXJ1yV3t/JdhGwQ9wXjnI=</td>\n",
       "      <td>20170331</td>\n",
       "      <td>2</td>\n",
       "      <td>1</td>\n",
       "      <td>0</td>\n",
       "      <td>1</td>\n",
       "      <td>112</td>\n",
       "      <td>93</td>\n",
       "      <td>28401.558</td>\n",
       "    </tr>\n",
       "  </tbody>\n",
       "</table>\n",
       "</div>"
      ],
      "text/plain": [
       "                                           msno      date  num_25  num_50  \\\n",
       "0  u9E91QDTvHLq6NXjEaWv8u4QIqhrHk72kE+w31Gnhdg=  20170331       8       4   \n",
       "1  nTeWW/eOZA/UHKdD5L7DEqKKFTjaAj3ALLPoAWsU8n0=  20170330       2       2   \n",
       "2  2UqkWXwZbIjs03dHLU9KHJNNEvEkZVzm69f3jCS+uLI=  20170331      52       3   \n",
       "3  ycwLc+m2O0a85jSLALtr941AaZt9ai8Qwlg9n0Nql5U=  20170331     176       4   \n",
       "4  EGcbTofOSOkMmQyN1NMLxHEXJ1yV3t/JdhGwQ9wXjnI=  20170331       2       1   \n",
       "\n",
       "   num_75  num_985  num_100  num_unq  total_secs  \n",
       "0       0        1       21       18    6309.273  \n",
       "1       1        0        9       11    2390.699  \n",
       "2       5        3       84      110   23203.337  \n",
       "3       2        2       19      191    7100.454  \n",
       "4       0        1      112       93   28401.558  "
      ]
     },
     "execution_count": 63,
     "metadata": {},
     "output_type": "execute_result"
    },
    {
     "data": {
      "text/html": [
       "<div>\n",
       "<style scoped>\n",
       "    .dataframe tbody tr th:only-of-type {\n",
       "        vertical-align: middle;\n",
       "    }\n",
       "\n",
       "    .dataframe tbody tr th {\n",
       "        vertical-align: top;\n",
       "    }\n",
       "\n",
       "    .dataframe thead th {\n",
       "        text-align: right;\n",
       "    }\n",
       "</style>\n",
       "<table border=\"1\" class=\"dataframe\">\n",
       "  <thead>\n",
       "    <tr style=\"text-align: right;\">\n",
       "      <th></th>\n",
       "      <th>date</th>\n",
       "      <th>num_25</th>\n",
       "      <th>num_50</th>\n",
       "      <th>num_75</th>\n",
       "      <th>num_985</th>\n",
       "      <th>num_100</th>\n",
       "      <th>num_unq</th>\n",
       "      <th>total_secs</th>\n",
       "    </tr>\n",
       "  </thead>\n",
       "  <tbody>\n",
       "    <tr>\n",
       "      <th>count</th>\n",
       "      <td>1.839636e+07</td>\n",
       "      <td>1.839636e+07</td>\n",
       "      <td>1.839636e+07</td>\n",
       "      <td>1.839636e+07</td>\n",
       "      <td>1.839636e+07</td>\n",
       "      <td>1.839636e+07</td>\n",
       "      <td>1.839636e+07</td>\n",
       "      <td>1.839636e+07</td>\n",
       "    </tr>\n",
       "    <tr>\n",
       "      <th>mean</th>\n",
       "      <td>2.017032e+07</td>\n",
       "      <td>6.191401e+00</td>\n",
       "      <td>1.508789e+00</td>\n",
       "      <td>9.413759e-01</td>\n",
       "      <td>1.079905e+00</td>\n",
       "      <td>3.028246e+01</td>\n",
       "      <td>2.903615e+01</td>\n",
       "      <td>7.904814e+03</td>\n",
       "    </tr>\n",
       "    <tr>\n",
       "      <th>std</th>\n",
       "      <td>8.916720e+00</td>\n",
       "      <td>1.342827e+01</td>\n",
       "      <td>3.908539e+00</td>\n",
       "      <td>1.924840e+00</td>\n",
       "      <td>3.518409e+00</td>\n",
       "      <td>4.203641e+01</td>\n",
       "      <td>3.219866e+01</td>\n",
       "      <td>1.013632e+04</td>\n",
       "    </tr>\n",
       "    <tr>\n",
       "      <th>min</th>\n",
       "      <td>2.017030e+07</td>\n",
       "      <td>0.000000e+00</td>\n",
       "      <td>0.000000e+00</td>\n",
       "      <td>0.000000e+00</td>\n",
       "      <td>0.000000e+00</td>\n",
       "      <td>0.000000e+00</td>\n",
       "      <td>1.000000e+00</td>\n",
       "      <td>1.000000e-03</td>\n",
       "    </tr>\n",
       "    <tr>\n",
       "      <th>25%</th>\n",
       "      <td>2.017031e+07</td>\n",
       "      <td>0.000000e+00</td>\n",
       "      <td>0.000000e+00</td>\n",
       "      <td>0.000000e+00</td>\n",
       "      <td>0.000000e+00</td>\n",
       "      <td>7.000000e+00</td>\n",
       "      <td>8.000000e+00</td>\n",
       "      <td>1.959944e+03</td>\n",
       "    </tr>\n",
       "    <tr>\n",
       "      <th>50%</th>\n",
       "      <td>2.017032e+07</td>\n",
       "      <td>2.000000e+00</td>\n",
       "      <td>1.000000e+00</td>\n",
       "      <td>0.000000e+00</td>\n",
       "      <td>0.000000e+00</td>\n",
       "      <td>1.700000e+01</td>\n",
       "      <td>1.800000e+01</td>\n",
       "      <td>4.582990e+03</td>\n",
       "    </tr>\n",
       "    <tr>\n",
       "      <th>75%</th>\n",
       "      <td>2.017032e+07</td>\n",
       "      <td>7.000000e+00</td>\n",
       "      <td>2.000000e+00</td>\n",
       "      <td>1.000000e+00</td>\n",
       "      <td>1.000000e+00</td>\n",
       "      <td>3.700000e+01</td>\n",
       "      <td>3.800000e+01</td>\n",
       "      <td>9.848441e+03</td>\n",
       "    </tr>\n",
       "    <tr>\n",
       "      <th>max</th>\n",
       "      <td>2.017033e+07</td>\n",
       "      <td>5.639000e+03</td>\n",
       "      <td>9.120000e+02</td>\n",
       "      <td>5.080000e+02</td>\n",
       "      <td>1.561000e+03</td>\n",
       "      <td>4.110700e+04</td>\n",
       "      <td>4.925000e+03</td>\n",
       "      <td>9.194059e+06</td>\n",
       "    </tr>\n",
       "  </tbody>\n",
       "</table>\n",
       "</div>"
      ],
      "text/plain": [
       "               date        num_25        num_50        num_75       num_985  \\\n",
       "count  1.839636e+07  1.839636e+07  1.839636e+07  1.839636e+07  1.839636e+07   \n",
       "mean   2.017032e+07  6.191401e+00  1.508789e+00  9.413759e-01  1.079905e+00   \n",
       "std    8.916720e+00  1.342827e+01  3.908539e+00  1.924840e+00  3.518409e+00   \n",
       "min    2.017030e+07  0.000000e+00  0.000000e+00  0.000000e+00  0.000000e+00   \n",
       "25%    2.017031e+07  0.000000e+00  0.000000e+00  0.000000e+00  0.000000e+00   \n",
       "50%    2.017032e+07  2.000000e+00  1.000000e+00  0.000000e+00  0.000000e+00   \n",
       "75%    2.017032e+07  7.000000e+00  2.000000e+00  1.000000e+00  1.000000e+00   \n",
       "max    2.017033e+07  5.639000e+03  9.120000e+02  5.080000e+02  1.561000e+03   \n",
       "\n",
       "            num_100       num_unq    total_secs  \n",
       "count  1.839636e+07  1.839636e+07  1.839636e+07  \n",
       "mean   3.028246e+01  2.903615e+01  7.904814e+03  \n",
       "std    4.203641e+01  3.219866e+01  1.013632e+04  \n",
       "min    0.000000e+00  1.000000e+00  1.000000e-03  \n",
       "25%    7.000000e+00  8.000000e+00  1.959944e+03  \n",
       "50%    1.700000e+01  1.800000e+01  4.582990e+03  \n",
       "75%    3.700000e+01  3.800000e+01  9.848441e+03  \n",
       "max    4.110700e+04  4.925000e+03  9.194059e+06  "
      ]
     },
     "execution_count": 63,
     "metadata": {},
     "output_type": "execute_result"
    }
   ],
   "source": [
    "df_user_logs.head()\n",
    "df_user_logs.describe()"
   ]
  },
  {
   "cell_type": "markdown",
   "metadata": {},
   "source": [
    "As this dataset is huge to get useful information let's get mean() and sum() per user form it"
   ]
  },
  {
   "cell_type": "code",
   "execution_count": 64,
   "metadata": {},
   "outputs": [
    {
     "data": {
      "text/plain": [
       "Index(['msno', 'date', 'num_25', 'num_50', 'num_75', 'num_985', 'num_100',\n",
       "       'num_unq', 'total_secs'],\n",
       "      dtype='object')"
      ]
     },
     "execution_count": 64,
     "metadata": {},
     "output_type": "execute_result"
    }
   ],
   "source": [
    "df_user_logs.columns"
   ]
  },
  {
   "cell_type": "code",
   "execution_count": 65,
   "metadata": {},
   "outputs": [
    {
     "data": {
      "text/html": [
       "<div>\n",
       "<style scoped>\n",
       "    .dataframe tbody tr th:only-of-type {\n",
       "        vertical-align: middle;\n",
       "    }\n",
       "\n",
       "    .dataframe tbody tr th {\n",
       "        vertical-align: top;\n",
       "    }\n",
       "\n",
       "    .dataframe thead th {\n",
       "        text-align: right;\n",
       "    }\n",
       "</style>\n",
       "<table border=\"1\" class=\"dataframe\">\n",
       "  <thead>\n",
       "    <tr style=\"text-align: right;\">\n",
       "      <th></th>\n",
       "      <th>msno</th>\n",
       "      <th>num_25_mean</th>\n",
       "      <th>num_50_mean</th>\n",
       "      <th>num_75_mean</th>\n",
       "      <th>num_985_mean</th>\n",
       "      <th>num_100_mean</th>\n",
       "      <th>num_unq_mean</th>\n",
       "      <th>total_secs_mean</th>\n",
       "    </tr>\n",
       "  </thead>\n",
       "  <tbody>\n",
       "    <tr>\n",
       "      <th>0</th>\n",
       "      <td>+++IZseRRiQS9aaSkH6cMYU6bGDcxUieAi/tH67sC5s=</td>\n",
       "      <td>3.307692</td>\n",
       "      <td>0.423077</td>\n",
       "      <td>0.384615</td>\n",
       "      <td>0.192308</td>\n",
       "      <td>18.153846</td>\n",
       "      <td>20.384615</td>\n",
       "      <td>4534.900962</td>\n",
       "    </tr>\n",
       "    <tr>\n",
       "      <th>1</th>\n",
       "      <td>+++hVY1rZox/33YtvDgmKA2Frg/2qhkz12B9ylCvh8o=</td>\n",
       "      <td>6.161290</td>\n",
       "      <td>2.903226</td>\n",
       "      <td>2.419355</td>\n",
       "      <td>4.645161</td>\n",
       "      <td>19.000000</td>\n",
       "      <td>28.548387</td>\n",
       "      <td>6210.577161</td>\n",
       "    </tr>\n",
       "    <tr>\n",
       "      <th>2</th>\n",
       "      <td>+++l/EXNMLTijfLBa8p2TUVVVp2aFGSuUI/h7mLmthw=</td>\n",
       "      <td>1.535714</td>\n",
       "      <td>0.428571</td>\n",
       "      <td>0.535714</td>\n",
       "      <td>0.428571</td>\n",
       "      <td>17.321429</td>\n",
       "      <td>16.714286</td>\n",
       "      <td>4121.830714</td>\n",
       "    </tr>\n",
       "    <tr>\n",
       "      <th>3</th>\n",
       "      <td>+++snpr7pmobhLKUgSHTv/mpkqgBT0tQJ0zQj6qKrqc=</td>\n",
       "      <td>9.857143</td>\n",
       "      <td>7.761905</td>\n",
       "      <td>4.761905</td>\n",
       "      <td>3.047619</td>\n",
       "      <td>20.761905</td>\n",
       "      <td>39.428571</td>\n",
       "      <td>7137.931333</td>\n",
       "    </tr>\n",
       "    <tr>\n",
       "      <th>4</th>\n",
       "      <td>++/9R3sX37CjxbY/AaGvbwr3QkwElKBCtSvVzhCBDOk=</td>\n",
       "      <td>3.620690</td>\n",
       "      <td>0.827586</td>\n",
       "      <td>1.344828</td>\n",
       "      <td>1.206897</td>\n",
       "      <td>16.517241</td>\n",
       "      <td>7.931034</td>\n",
       "      <td>4014.939552</td>\n",
       "    </tr>\n",
       "  </tbody>\n",
       "</table>\n",
       "</div>"
      ],
      "text/plain": [
       "                                           msno  num_25_mean  num_50_mean  \\\n",
       "0  +++IZseRRiQS9aaSkH6cMYU6bGDcxUieAi/tH67sC5s=     3.307692     0.423077   \n",
       "1  +++hVY1rZox/33YtvDgmKA2Frg/2qhkz12B9ylCvh8o=     6.161290     2.903226   \n",
       "2  +++l/EXNMLTijfLBa8p2TUVVVp2aFGSuUI/h7mLmthw=     1.535714     0.428571   \n",
       "3  +++snpr7pmobhLKUgSHTv/mpkqgBT0tQJ0zQj6qKrqc=     9.857143     7.761905   \n",
       "4  ++/9R3sX37CjxbY/AaGvbwr3QkwElKBCtSvVzhCBDOk=     3.620690     0.827586   \n",
       "\n",
       "   num_75_mean  num_985_mean  num_100_mean  num_unq_mean  total_secs_mean  \n",
       "0     0.384615      0.192308     18.153846     20.384615      4534.900962  \n",
       "1     2.419355      4.645161     19.000000     28.548387      6210.577161  \n",
       "2     0.535714      0.428571     17.321429     16.714286      4121.830714  \n",
       "3     4.761905      3.047619     20.761905     39.428571      7137.931333  \n",
       "4     1.344828      1.206897     16.517241      7.931034      4014.939552  "
      ]
     },
     "execution_count": 65,
     "metadata": {},
     "output_type": "execute_result"
    }
   ],
   "source": [
    "user_logs_cols = ['msno', 'num_25', 'num_50', 'num_75', 'num_985', 'num_100', 'num_unq', 'total_secs']\n",
    "user_mean = df_user_logs[user_logs_cols].groupby(['msno']).mean().reset_index()\n",
    "user_mean.columns = ['msno', 'num_25_mean', 'num_50_mean', 'num_75_mean', 'num_985_mean', 'num_100_mean', 'num_unq_mean', 'total_secs_mean']\n",
    "user_mean.head()"
   ]
  },
  {
   "cell_type": "code",
   "execution_count": 66,
   "metadata": {},
   "outputs": [
    {
     "data": {
      "text/html": [
       "<div>\n",
       "<style scoped>\n",
       "    .dataframe tbody tr th:only-of-type {\n",
       "        vertical-align: middle;\n",
       "    }\n",
       "\n",
       "    .dataframe tbody tr th {\n",
       "        vertical-align: top;\n",
       "    }\n",
       "\n",
       "    .dataframe thead th {\n",
       "        text-align: right;\n",
       "    }\n",
       "</style>\n",
       "<table border=\"1\" class=\"dataframe\">\n",
       "  <thead>\n",
       "    <tr style=\"text-align: right;\">\n",
       "      <th></th>\n",
       "      <th>msno</th>\n",
       "      <th>num_25_sum</th>\n",
       "      <th>num_50_sum</th>\n",
       "      <th>num_75_sum</th>\n",
       "      <th>num_985_sum</th>\n",
       "      <th>num_100_sum</th>\n",
       "      <th>num_unq_sum</th>\n",
       "      <th>total_secs_sum</th>\n",
       "    </tr>\n",
       "  </thead>\n",
       "  <tbody>\n",
       "    <tr>\n",
       "      <th>0</th>\n",
       "      <td>+++IZseRRiQS9aaSkH6cMYU6bGDcxUieAi/tH67sC5s=</td>\n",
       "      <td>86</td>\n",
       "      <td>11</td>\n",
       "      <td>10</td>\n",
       "      <td>5</td>\n",
       "      <td>472</td>\n",
       "      <td>530</td>\n",
       "      <td>117907.425</td>\n",
       "    </tr>\n",
       "    <tr>\n",
       "      <th>1</th>\n",
       "      <td>+++hVY1rZox/33YtvDgmKA2Frg/2qhkz12B9ylCvh8o=</td>\n",
       "      <td>191</td>\n",
       "      <td>90</td>\n",
       "      <td>75</td>\n",
       "      <td>144</td>\n",
       "      <td>589</td>\n",
       "      <td>885</td>\n",
       "      <td>192527.892</td>\n",
       "    </tr>\n",
       "    <tr>\n",
       "      <th>2</th>\n",
       "      <td>+++l/EXNMLTijfLBa8p2TUVVVp2aFGSuUI/h7mLmthw=</td>\n",
       "      <td>43</td>\n",
       "      <td>12</td>\n",
       "      <td>15</td>\n",
       "      <td>12</td>\n",
       "      <td>485</td>\n",
       "      <td>468</td>\n",
       "      <td>115411.260</td>\n",
       "    </tr>\n",
       "    <tr>\n",
       "      <th>3</th>\n",
       "      <td>+++snpr7pmobhLKUgSHTv/mpkqgBT0tQJ0zQj6qKrqc=</td>\n",
       "      <td>207</td>\n",
       "      <td>163</td>\n",
       "      <td>100</td>\n",
       "      <td>64</td>\n",
       "      <td>436</td>\n",
       "      <td>828</td>\n",
       "      <td>149896.558</td>\n",
       "    </tr>\n",
       "    <tr>\n",
       "      <th>4</th>\n",
       "      <td>++/9R3sX37CjxbY/AaGvbwr3QkwElKBCtSvVzhCBDOk=</td>\n",
       "      <td>105</td>\n",
       "      <td>24</td>\n",
       "      <td>39</td>\n",
       "      <td>35</td>\n",
       "      <td>479</td>\n",
       "      <td>230</td>\n",
       "      <td>116433.247</td>\n",
       "    </tr>\n",
       "  </tbody>\n",
       "</table>\n",
       "</div>"
      ],
      "text/plain": [
       "                                           msno  num_25_sum  num_50_sum  \\\n",
       "0  +++IZseRRiQS9aaSkH6cMYU6bGDcxUieAi/tH67sC5s=          86          11   \n",
       "1  +++hVY1rZox/33YtvDgmKA2Frg/2qhkz12B9ylCvh8o=         191          90   \n",
       "2  +++l/EXNMLTijfLBa8p2TUVVVp2aFGSuUI/h7mLmthw=          43          12   \n",
       "3  +++snpr7pmobhLKUgSHTv/mpkqgBT0tQJ0zQj6qKrqc=         207         163   \n",
       "4  ++/9R3sX37CjxbY/AaGvbwr3QkwElKBCtSvVzhCBDOk=         105          24   \n",
       "\n",
       "   num_75_sum  num_985_sum  num_100_sum  num_unq_sum  total_secs_sum  \n",
       "0          10            5          472          530      117907.425  \n",
       "1          75          144          589          885      192527.892  \n",
       "2          15           12          485          468      115411.260  \n",
       "3         100           64          436          828      149896.558  \n",
       "4          39           35          479          230      116433.247  "
      ]
     },
     "execution_count": 66,
     "metadata": {},
     "output_type": "execute_result"
    },
    {
     "name": "stdout",
     "output_type": "stream",
     "text": [
      "<class 'pandas.core.frame.DataFrame'>\n",
      "RangeIndex: 1103894 entries, 0 to 1103893\n",
      "Data columns (total 8 columns):\n",
      "msno              1103894 non-null object\n",
      "num_25_sum        1103894 non-null int64\n",
      "num_50_sum        1103894 non-null int64\n",
      "num_75_sum        1103894 non-null int64\n",
      "num_985_sum       1103894 non-null int64\n",
      "num_100_sum       1103894 non-null int64\n",
      "num_unq_sum       1103894 non-null int64\n",
      "total_secs_sum    1103894 non-null float64\n",
      "dtypes: float64(1), int64(6), object(1)\n",
      "memory usage: 67.4+ MB\n"
     ]
    }
   ],
   "source": [
    "user_sum = df_user_logs[user_logs_cols].groupby(['msno']).sum().reset_index()\n",
    "user_sum.columns = ['msno', 'num_25_sum', 'num_50_sum', 'num_75_sum', 'num_985_sum', 'num_100_sum', 'num_unq_sum', 'total_secs_sum']\n",
    "user_sum.head()\n",
    "user_sum.info()"
   ]
  },
  {
   "cell_type": "code",
   "execution_count": 67,
   "metadata": {},
   "outputs": [
    {
     "name": "stdout",
     "output_type": "stream",
     "text": [
      "<class 'pandas.core.frame.DataFrame'>\n",
      "Int64Index: 754551 entries, 0 to 754550\n",
      "Data columns (total 9 columns):\n",
      "msno               754551 non-null object\n",
      "is_churn           754551 non-null int64\n",
      "num_25_mean        754551 non-null float64\n",
      "num_50_mean        754551 non-null float64\n",
      "num_75_mean        754551 non-null float64\n",
      "num_985_mean       754551 non-null float64\n",
      "num_100_mean       754551 non-null float64\n",
      "num_unq_mean       754551 non-null float64\n",
      "total_secs_mean    754551 non-null float64\n",
      "dtypes: float64(7), int64(1), object(1)\n",
      "memory usage: 57.6+ MB\n"
     ]
    }
   ],
   "source": [
    "train_user = pd.merge(left = df_train, right = user_mean, how = 'inner',on=['msno'])\n",
    "train_user.info()"
   ]
  },
  {
   "cell_type": "code",
   "execution_count": 68,
   "metadata": {},
   "outputs": [
    {
     "name": "stdout",
     "output_type": "stream",
     "text": [
      "<class 'pandas.core.frame.DataFrame'>\n",
      "Int64Index: 754551 entries, 0 to 754550\n",
      "Data columns (total 16 columns):\n",
      "msno               754551 non-null object\n",
      "is_churn           754551 non-null int64\n",
      "num_25_mean        754551 non-null float64\n",
      "num_50_mean        754551 non-null float64\n",
      "num_75_mean        754551 non-null float64\n",
      "num_985_mean       754551 non-null float64\n",
      "num_100_mean       754551 non-null float64\n",
      "num_unq_mean       754551 non-null float64\n",
      "total_secs_mean    754551 non-null float64\n",
      "num_25_sum         754551 non-null int64\n",
      "num_50_sum         754551 non-null int64\n",
      "num_75_sum         754551 non-null int64\n",
      "num_985_sum        754551 non-null int64\n",
      "num_100_sum        754551 non-null int64\n",
      "num_unq_sum        754551 non-null int64\n",
      "total_secs_sum     754551 non-null float64\n",
      "dtypes: float64(8), int64(7), object(1)\n",
      "memory usage: 97.9+ MB\n"
     ]
    }
   ],
   "source": [
    "train_user = pd.merge(left = train_user,right = user_sum, how = 'inner',on=['msno'])\n",
    "train_user.info()"
   ]
  },
  {
   "cell_type": "code",
   "execution_count": 69,
   "metadata": {},
   "outputs": [
    {
     "data": {
      "text/html": [
       "<div>\n",
       "<style scoped>\n",
       "    .dataframe tbody tr th:only-of-type {\n",
       "        vertical-align: middle;\n",
       "    }\n",
       "\n",
       "    .dataframe tbody tr th {\n",
       "        vertical-align: top;\n",
       "    }\n",
       "\n",
       "    .dataframe thead th {\n",
       "        text-align: right;\n",
       "    }\n",
       "</style>\n",
       "<table border=\"1\" class=\"dataframe\">\n",
       "  <thead>\n",
       "    <tr style=\"text-align: right;\">\n",
       "      <th></th>\n",
       "      <th>msno</th>\n",
       "      <th>date</th>\n",
       "      <th>num_25</th>\n",
       "      <th>num_50</th>\n",
       "      <th>num_75</th>\n",
       "      <th>num_985</th>\n",
       "      <th>num_100</th>\n",
       "      <th>num_unq</th>\n",
       "      <th>total_secs</th>\n",
       "    </tr>\n",
       "  </thead>\n",
       "  <tbody>\n",
       "    <tr>\n",
       "      <th>1335908</th>\n",
       "      <td>ugx0CjOMzazClkFzU2xasmDZaoIqOUAZPsH1q0teWCg=</td>\n",
       "      <td>20170305</td>\n",
       "      <td>7</td>\n",
       "      <td>0</td>\n",
       "      <td>3</td>\n",
       "      <td>5</td>\n",
       "      <td>71</td>\n",
       "      <td>68</td>\n",
       "      <td>17599.893</td>\n",
       "    </tr>\n",
       "    <tr>\n",
       "      <th>1527474</th>\n",
       "      <td>ugx0CjOMzazClkFzU2xasmDZaoIqOUAZPsH1q0teWCg=</td>\n",
       "      <td>20170301</td>\n",
       "      <td>138</td>\n",
       "      <td>19</td>\n",
       "      <td>7</td>\n",
       "      <td>1</td>\n",
       "      <td>21</td>\n",
       "      <td>158</td>\n",
       "      <td>8830.433</td>\n",
       "    </tr>\n",
       "    <tr>\n",
       "      <th>5079638</th>\n",
       "      <td>ugx0CjOMzazClkFzU2xasmDZaoIqOUAZPsH1q0teWCg=</td>\n",
       "      <td>20170319</td>\n",
       "      <td>0</td>\n",
       "      <td>0</td>\n",
       "      <td>0</td>\n",
       "      <td>0</td>\n",
       "      <td>34</td>\n",
       "      <td>17</td>\n",
       "      <td>7883.313</td>\n",
       "    </tr>\n",
       "    <tr>\n",
       "      <th>7439185</th>\n",
       "      <td>ugx0CjOMzazClkFzU2xasmDZaoIqOUAZPsH1q0teWCg=</td>\n",
       "      <td>20170316</td>\n",
       "      <td>15</td>\n",
       "      <td>0</td>\n",
       "      <td>0</td>\n",
       "      <td>1</td>\n",
       "      <td>38</td>\n",
       "      <td>17</td>\n",
       "      <td>9029.227</td>\n",
       "    </tr>\n",
       "    <tr>\n",
       "      <th>8818754</th>\n",
       "      <td>ugx0CjOMzazClkFzU2xasmDZaoIqOUAZPsH1q0teWCg=</td>\n",
       "      <td>20170310</td>\n",
       "      <td>0</td>\n",
       "      <td>0</td>\n",
       "      <td>0</td>\n",
       "      <td>0</td>\n",
       "      <td>8</td>\n",
       "      <td>8</td>\n",
       "      <td>1870.110</td>\n",
       "    </tr>\n",
       "    <tr>\n",
       "      <th>10259157</th>\n",
       "      <td>ugx0CjOMzazClkFzU2xasmDZaoIqOUAZPsH1q0teWCg=</td>\n",
       "      <td>20170321</td>\n",
       "      <td>0</td>\n",
       "      <td>0</td>\n",
       "      <td>0</td>\n",
       "      <td>0</td>\n",
       "      <td>31</td>\n",
       "      <td>17</td>\n",
       "      <td>7198.801</td>\n",
       "    </tr>\n",
       "    <tr>\n",
       "      <th>10292003</th>\n",
       "      <td>ugx0CjOMzazClkFzU2xasmDZaoIqOUAZPsH1q0teWCg=</td>\n",
       "      <td>20170325</td>\n",
       "      <td>1</td>\n",
       "      <td>0</td>\n",
       "      <td>1</td>\n",
       "      <td>0</td>\n",
       "      <td>17</td>\n",
       "      <td>14</td>\n",
       "      <td>4106.712</td>\n",
       "    </tr>\n",
       "    <tr>\n",
       "      <th>10621805</th>\n",
       "      <td>ugx0CjOMzazClkFzU2xasmDZaoIqOUAZPsH1q0teWCg=</td>\n",
       "      <td>20170329</td>\n",
       "      <td>8</td>\n",
       "      <td>1</td>\n",
       "      <td>1</td>\n",
       "      <td>0</td>\n",
       "      <td>5</td>\n",
       "      <td>14</td>\n",
       "      <td>1491.041</td>\n",
       "    </tr>\n",
       "    <tr>\n",
       "      <th>11615763</th>\n",
       "      <td>ugx0CjOMzazClkFzU2xasmDZaoIqOUAZPsH1q0teWCg=</td>\n",
       "      <td>20170326</td>\n",
       "      <td>1</td>\n",
       "      <td>1</td>\n",
       "      <td>0</td>\n",
       "      <td>0</td>\n",
       "      <td>1</td>\n",
       "      <td>3</td>\n",
       "      <td>340.663</td>\n",
       "    </tr>\n",
       "    <tr>\n",
       "      <th>12320676</th>\n",
       "      <td>ugx0CjOMzazClkFzU2xasmDZaoIqOUAZPsH1q0teWCg=</td>\n",
       "      <td>20170307</td>\n",
       "      <td>7</td>\n",
       "      <td>1</td>\n",
       "      <td>1</td>\n",
       "      <td>3</td>\n",
       "      <td>6</td>\n",
       "      <td>15</td>\n",
       "      <td>2269.019</td>\n",
       "    </tr>\n",
       "    <tr>\n",
       "      <th>14956062</th>\n",
       "      <td>ugx0CjOMzazClkFzU2xasmDZaoIqOUAZPsH1q0teWCg=</td>\n",
       "      <td>20170318</td>\n",
       "      <td>9</td>\n",
       "      <td>1</td>\n",
       "      <td>0</td>\n",
       "      <td>0</td>\n",
       "      <td>86</td>\n",
       "      <td>17</td>\n",
       "      <td>19979.345</td>\n",
       "    </tr>\n",
       "  </tbody>\n",
       "</table>\n",
       "</div>"
      ],
      "text/plain": [
       "                                                  msno      date  num_25  \\\n",
       "1335908   ugx0CjOMzazClkFzU2xasmDZaoIqOUAZPsH1q0teWCg=  20170305       7   \n",
       "1527474   ugx0CjOMzazClkFzU2xasmDZaoIqOUAZPsH1q0teWCg=  20170301     138   \n",
       "5079638   ugx0CjOMzazClkFzU2xasmDZaoIqOUAZPsH1q0teWCg=  20170319       0   \n",
       "7439185   ugx0CjOMzazClkFzU2xasmDZaoIqOUAZPsH1q0teWCg=  20170316      15   \n",
       "8818754   ugx0CjOMzazClkFzU2xasmDZaoIqOUAZPsH1q0teWCg=  20170310       0   \n",
       "10259157  ugx0CjOMzazClkFzU2xasmDZaoIqOUAZPsH1q0teWCg=  20170321       0   \n",
       "10292003  ugx0CjOMzazClkFzU2xasmDZaoIqOUAZPsH1q0teWCg=  20170325       1   \n",
       "10621805  ugx0CjOMzazClkFzU2xasmDZaoIqOUAZPsH1q0teWCg=  20170329       8   \n",
       "11615763  ugx0CjOMzazClkFzU2xasmDZaoIqOUAZPsH1q0teWCg=  20170326       1   \n",
       "12320676  ugx0CjOMzazClkFzU2xasmDZaoIqOUAZPsH1q0teWCg=  20170307       7   \n",
       "14956062  ugx0CjOMzazClkFzU2xasmDZaoIqOUAZPsH1q0teWCg=  20170318       9   \n",
       "\n",
       "          num_50  num_75  num_985  num_100  num_unq  total_secs  \n",
       "1335908        0       3        5       71       68   17599.893  \n",
       "1527474       19       7        1       21      158    8830.433  \n",
       "5079638        0       0        0       34       17    7883.313  \n",
       "7439185        0       0        1       38       17    9029.227  \n",
       "8818754        0       0        0        8        8    1870.110  \n",
       "10259157       0       0        0       31       17    7198.801  \n",
       "10292003       0       1        0       17       14    4106.712  \n",
       "10621805       1       1        0        5       14    1491.041  \n",
       "11615763       1       0        0        1        3     340.663  \n",
       "12320676       1       1        3        6       15    2269.019  \n",
       "14956062       1       0        0       86       17   19979.345  "
      ]
     },
     "execution_count": 69,
     "metadata": {},
     "output_type": "execute_result"
    },
    {
     "data": {
      "text/html": [
       "<div>\n",
       "<style scoped>\n",
       "    .dataframe tbody tr th:only-of-type {\n",
       "        vertical-align: middle;\n",
       "    }\n",
       "\n",
       "    .dataframe tbody tr th {\n",
       "        vertical-align: top;\n",
       "    }\n",
       "\n",
       "    .dataframe thead th {\n",
       "        text-align: right;\n",
       "    }\n",
       "</style>\n",
       "<table border=\"1\" class=\"dataframe\">\n",
       "  <thead>\n",
       "    <tr style=\"text-align: right;\">\n",
       "      <th></th>\n",
       "      <th>msno</th>\n",
       "      <th>num_25_sum</th>\n",
       "      <th>num_50_sum</th>\n",
       "      <th>num_75_sum</th>\n",
       "      <th>num_985_sum</th>\n",
       "      <th>num_100_sum</th>\n",
       "      <th>num_unq_sum</th>\n",
       "      <th>total_secs_sum</th>\n",
       "    </tr>\n",
       "  </thead>\n",
       "  <tbody>\n",
       "    <tr>\n",
       "      <th>1012962</th>\n",
       "      <td>ugx0CjOMzazClkFzU2xasmDZaoIqOUAZPsH1q0teWCg=</td>\n",
       "      <td>186</td>\n",
       "      <td>23</td>\n",
       "      <td>13</td>\n",
       "      <td>10</td>\n",
       "      <td>318</td>\n",
       "      <td>348</td>\n",
       "      <td>80598.557</td>\n",
       "    </tr>\n",
       "  </tbody>\n",
       "</table>\n",
       "</div>"
      ],
      "text/plain": [
       "                                                 msno  num_25_sum  num_50_sum  \\\n",
       "1012962  ugx0CjOMzazClkFzU2xasmDZaoIqOUAZPsH1q0teWCg=         186          23   \n",
       "\n",
       "         num_75_sum  num_985_sum  num_100_sum  num_unq_sum  total_secs_sum  \n",
       "1012962          13           10          318          348       80598.557  "
      ]
     },
     "execution_count": 69,
     "metadata": {},
     "output_type": "execute_result"
    },
    {
     "data": {
      "text/html": [
       "<div>\n",
       "<style scoped>\n",
       "    .dataframe tbody tr th:only-of-type {\n",
       "        vertical-align: middle;\n",
       "    }\n",
       "\n",
       "    .dataframe tbody tr th {\n",
       "        vertical-align: top;\n",
       "    }\n",
       "\n",
       "    .dataframe thead th {\n",
       "        text-align: right;\n",
       "    }\n",
       "</style>\n",
       "<table border=\"1\" class=\"dataframe\">\n",
       "  <thead>\n",
       "    <tr style=\"text-align: right;\">\n",
       "      <th></th>\n",
       "      <th>msno</th>\n",
       "      <th>num_25_mean</th>\n",
       "      <th>num_50_mean</th>\n",
       "      <th>num_75_mean</th>\n",
       "      <th>num_985_mean</th>\n",
       "      <th>num_100_mean</th>\n",
       "      <th>num_unq_mean</th>\n",
       "      <th>total_secs_mean</th>\n",
       "    </tr>\n",
       "  </thead>\n",
       "  <tbody>\n",
       "    <tr>\n",
       "      <th>1012962</th>\n",
       "      <td>ugx0CjOMzazClkFzU2xasmDZaoIqOUAZPsH1q0teWCg=</td>\n",
       "      <td>16.909091</td>\n",
       "      <td>2.090909</td>\n",
       "      <td>1.181818</td>\n",
       "      <td>0.909091</td>\n",
       "      <td>28.909091</td>\n",
       "      <td>31.636364</td>\n",
       "      <td>7327.141545</td>\n",
       "    </tr>\n",
       "  </tbody>\n",
       "</table>\n",
       "</div>"
      ],
      "text/plain": [
       "                                                 msno  num_25_mean  \\\n",
       "1012962  ugx0CjOMzazClkFzU2xasmDZaoIqOUAZPsH1q0teWCg=    16.909091   \n",
       "\n",
       "         num_50_mean  num_75_mean  num_985_mean  num_100_mean  num_unq_mean  \\\n",
       "1012962     2.090909     1.181818      0.909091     28.909091     31.636364   \n",
       "\n",
       "         total_secs_mean  \n",
       "1012962      7327.141545  "
      ]
     },
     "execution_count": 69,
     "metadata": {},
     "output_type": "execute_result"
    },
    {
     "data": {
      "text/html": [
       "<div>\n",
       "<style scoped>\n",
       "    .dataframe tbody tr th:only-of-type {\n",
       "        vertical-align: middle;\n",
       "    }\n",
       "\n",
       "    .dataframe tbody tr th {\n",
       "        vertical-align: top;\n",
       "    }\n",
       "\n",
       "    .dataframe thead th {\n",
       "        text-align: right;\n",
       "    }\n",
       "</style>\n",
       "<table border=\"1\" class=\"dataframe\">\n",
       "  <thead>\n",
       "    <tr style=\"text-align: right;\">\n",
       "      <th></th>\n",
       "      <th>msno</th>\n",
       "      <th>is_churn</th>\n",
       "      <th>num_25_mean</th>\n",
       "      <th>num_50_mean</th>\n",
       "      <th>num_75_mean</th>\n",
       "      <th>num_985_mean</th>\n",
       "      <th>num_100_mean</th>\n",
       "      <th>num_unq_mean</th>\n",
       "      <th>total_secs_mean</th>\n",
       "      <th>num_25_sum</th>\n",
       "      <th>num_50_sum</th>\n",
       "      <th>num_75_sum</th>\n",
       "      <th>num_985_sum</th>\n",
       "      <th>num_100_sum</th>\n",
       "      <th>num_unq_sum</th>\n",
       "      <th>total_secs_sum</th>\n",
       "    </tr>\n",
       "  </thead>\n",
       "  <tbody>\n",
       "    <tr>\n",
       "      <th>0</th>\n",
       "      <td>ugx0CjOMzazClkFzU2xasmDZaoIqOUAZPsH1q0teWCg=</td>\n",
       "      <td>1</td>\n",
       "      <td>16.909091</td>\n",
       "      <td>2.090909</td>\n",
       "      <td>1.181818</td>\n",
       "      <td>0.909091</td>\n",
       "      <td>28.909091</td>\n",
       "      <td>31.636364</td>\n",
       "      <td>7327.141545</td>\n",
       "      <td>186</td>\n",
       "      <td>23</td>\n",
       "      <td>13</td>\n",
       "      <td>10</td>\n",
       "      <td>318</td>\n",
       "      <td>348</td>\n",
       "      <td>80598.557</td>\n",
       "    </tr>\n",
       "  </tbody>\n",
       "</table>\n",
       "</div>"
      ],
      "text/plain": [
       "                                           msno  is_churn  num_25_mean  \\\n",
       "0  ugx0CjOMzazClkFzU2xasmDZaoIqOUAZPsH1q0teWCg=         1    16.909091   \n",
       "\n",
       "   num_50_mean  num_75_mean  num_985_mean  num_100_mean  num_unq_mean  \\\n",
       "0     2.090909     1.181818      0.909091     28.909091     31.636364   \n",
       "\n",
       "   total_secs_mean  num_25_sum  num_50_sum  num_75_sum  num_985_sum  \\\n",
       "0      7327.141545         186          23          13           10   \n",
       "\n",
       "   num_100_sum  num_unq_sum  total_secs_sum  \n",
       "0          318          348       80598.557  "
      ]
     },
     "execution_count": 69,
     "metadata": {},
     "output_type": "execute_result"
    }
   ],
   "source": [
    "#check\n",
    "df_user_logs.loc[df_user_logs['msno'] == 'ugx0CjOMzazClkFzU2xasmDZaoIqOUAZPsH1q0teWCg=']\n",
    "user_sum.loc[user_sum['msno'] == 'ugx0CjOMzazClkFzU2xasmDZaoIqOUAZPsH1q0teWCg=']\n",
    "user_mean.loc[user_mean['msno'] == 'ugx0CjOMzazClkFzU2xasmDZaoIqOUAZPsH1q0teWCg=']\n",
    "train_user.loc[train_user['msno'] == 'ugx0CjOMzazClkFzU2xasmDZaoIqOUAZPsH1q0teWCg=']"
   ]
  },
  {
   "cell_type": "markdown",
   "metadata": {},
   "source": []
  },
  {
   "cell_type": "markdown",
   "metadata": {},
   "source": [
    "# 3. Feature Engineering"
   ]
  },
  {
   "cell_type": "markdown",
   "metadata": {},
   "source": [
    "### 3.1 FE members"
   ]
  },
  {
   "cell_type": "code",
   "execution_count": 70,
   "metadata": {},
   "outputs": [
    {
     "name": "stdout",
     "output_type": "stream",
     "text": [
      "<class 'pandas.core.frame.DataFrame'>\n",
      "Int64Index: 860967 entries, 0 to 860966\n",
      "Data columns (total 9 columns):\n",
      "msno                              860967 non-null object\n",
      "is_churn                          860967 non-null int64\n",
      "city                              860967 non-null int64\n",
      "bd                                860967 non-null int64\n",
      "gender                            860967 non-null object\n",
      "registered_via                    860967 non-null int64\n",
      "registration_init_time            860967 non-null object\n",
      "registration_init_time_weekday    860967 non-null int64\n",
      "registration_init_time_month      860967 non-null int64\n",
      "dtypes: int64(6), object(3)\n",
      "memory usage: 105.7+ MB\n"
     ]
    }
   ],
   "source": [
    "train_members.info()"
   ]
  },
  {
   "cell_type": "code",
   "execution_count": 71,
   "metadata": {},
   "outputs": [],
   "source": [
    "train_members['registration_init_time_fact'] = pd.factorize(train_members['registration_init_time'] )[0]"
   ]
  },
  {
   "cell_type": "code",
   "execution_count": 72,
   "metadata": {},
   "outputs": [
    {
     "data": {
      "text/plain": [
       "1    442598\n",
       "0    418369\n",
       "Name: city_capital, dtype: int64"
      ]
     },
     "execution_count": 72,
     "metadata": {},
     "output_type": "execute_result"
    }
   ],
   "source": [
    "train_members['city_capital'] = train_members['city']\n",
    "train_members['city_capital'] = train_members.city_capital.apply(lambda x: 1 if x==1  else 0)\n",
    "train_members['city_capital'].value_counts()"
   ]
  },
  {
   "cell_type": "code",
   "execution_count": 73,
   "metadata": {},
   "outputs": [
    {
     "data": {
      "text/plain": [
       "0    833217\n",
       "1     27750\n",
       "Name: bd_teen, dtype: int64"
      ]
     },
     "execution_count": 73,
     "metadata": {},
     "output_type": "execute_result"
    }
   ],
   "source": [
    "train_members['bd_teen'] = train_members['bd']\n",
    "train_members['bd_teen'] = train_members.bd_teen.apply(lambda x: 0 if x<11 or x>=20  else 1)\n",
    "train_members.bd_teen.value_counts()"
   ]
  },
  {
   "cell_type": "code",
   "execution_count": 74,
   "metadata": {},
   "outputs": [
    {
     "data": {
      "text/plain": [
       "2    546557\n",
       "1    241206\n",
       "3     73204\n",
       "Name: seasons, dtype: int64"
      ]
     },
     "execution_count": 74,
     "metadata": {},
     "output_type": "execute_result"
    }
   ],
   "source": [
    "train_members['seasons'] = train_members['registration_init_time_month']\n",
    "train_members['seasons'] = train_members.seasons.apply(lambda x: 1 if x==3 or x==2 else x)\n",
    "train_members['seasons'] = train_members.seasons.apply(lambda x: 2 if x in[4,5,6,8,9,10,11,12] else x)\n",
    "train_members['seasons'] = train_members.seasons.apply(lambda x: 3 if x==7 else x)\n",
    "train_members.seasons.value_counts()"
   ]
  },
  {
   "cell_type": "code",
   "execution_count": null,
   "metadata": {},
   "outputs": [
    {
     "data": {
      "image/png": "[encoded data removed]",
      "text/plain": [
       "<matplotlib.figure.Figure at 0x1ab30b0df60>"
      ]
     },
     "metadata": {},
     "output_type": "display_data"
    }
   ],
   "source": [
    "plt.rcParams['figure.figsize']=(20,10)\n",
    "sns.heatmap(train_members.corr(method='pearson'), vmax=1., vmin=-1., annot=True, linewidths=.8, cmap=\"Spectral\");"
   ]
  },
  {
   "cell_type": "markdown",
   "metadata": {},
   "source": [
    "**Observations**\n",
    "<br><br>*target_variable x features corr*\n",
    "1. There is no visible significant correlation with target variable\n",
    "2. Highest correlation we can see with newly created features *city_capital* & *bd_teen* "
   ]
  },
  {
   "cell_type": "markdown",
   "metadata": {},
   "source": [
    "*feature x feature corr*\n",
    "1. Ther is higher correlation between *registration_init_time* x *city_capital* and *city_capital* x *bd_teen* -> I will create feature for *capital_teens*\n",
    "\n",
    "we can already drop on this stage not useful columns: registration_init_time_weekday and gender\n",
    "\n",
    "<br>"
   ]
  },
  {
   "cell_type": "code",
   "execution_count": null,
   "metadata": {},
   "outputs": [],
   "source": [
    "train_members.drop(['registration_init_time_weekday', 'gender'], axis=1)"
   ]
  },
  {
   "cell_type": "code",
   "execution_count": null,
   "metadata": {},
   "outputs": [],
   "source": [
    "train_members['capital_teens'] = (train_members.city_capital == 1) & (train_members.bd_teen == 0)"
   ]
  },
  {
   "cell_type": "code",
   "execution_count": null,
   "metadata": {},
   "outputs": [],
   "source": [
    "plt.rcParams['figure.figsize']=(20,10)\n",
    "sns.heatmap(train_members.corr(method='pearson'), vmax=1., vmin=-1., annot=True, linewidths=.8, cmap=\"Spectral\");"
   ]
  },
  {
   "cell_type": "code",
   "execution_count": null,
   "metadata": {},
   "outputs": [],
   "source": []
  },
  {
   "cell_type": "markdown",
   "metadata": {},
   "source": [
    "### 3.2 FE transactions"
   ]
  },
  {
   "cell_type": "code",
   "execution_count": null,
   "metadata": {},
   "outputs": [],
   "source": [
    "train_trans.info()"
   ]
  },
  {
   "cell_type": "code",
   "execution_count": null,
   "metadata": {},
   "outputs": [],
   "source": [
    "train_trans['pay_met_is_auto_cat'] = train_trans['payment_method_id']\n",
    "train_trans['pay_met_is_auto_cat'] = train_trans.pay_met_is_auto_cat.apply(lambda x: 0 if x in [3,6,13,22,20,32,12,17,8,15,35,26,38,28\n",
    "] else 1)\n",
    "train_trans['pay_met_is_auto_cat'].value_counts()"
   ]
  },
  {
   "cell_type": "code",
   "execution_count": null,
   "metadata": {},
   "outputs": [],
   "source": [
    "train_trans['transaction_month_cat'] = train_trans['transaction_month']\n",
    "train_trans['transaction_month_cat'] = train_trans.transaction_month_cat.apply(lambda x: 20 if x in [1,12] else x)\n",
    "train_trans['transaction_month_cat'] = train_trans.transaction_month_cat.apply(lambda x: 30 if x in [4,5,6,7,8,9,10,11] else x)\n",
    "train_trans['transaction_month_cat'] = train_trans.transaction_month_cat.apply(lambda x: 40 if x in [2,3] else x)\n",
    "train_trans['transaction_month_cat'].value_counts()"
   ]
  },
  {
   "cell_type": "code",
   "execution_count": null,
   "metadata": {},
   "outputs": [],
   "source": [
    "train_trans['transaction_week_friday'] = train_trans['transaction_weekday']\n",
    "train_trans['transaction_week_friday'] = train_trans.transaction_week_friday.apply(lambda x: 1 if x in [4] else 0)\n",
    "train_trans['transaction_week_friday'].value_counts()"
   ]
  },
  {
   "cell_type": "code",
   "execution_count": null,
   "metadata": {},
   "outputs": [],
   "source": [
    "#this correlate with is_churn 0.47 like one below but have higher correlation with is_cancel hence I choose lower one\n",
    "train_trans['membership_expire_month_cat'] = train_trans['membership_expire_month']\n",
    "train_trans['membership_expire_month_cat'] = train_trans.membership_expire_month_cat.apply(lambda x: 60 if x in [6,9] else x)\n",
    "train_trans['membership_expire_month_cat'] = train_trans.membership_expire_month_cat.apply(lambda x: 40 if x in [10,7,3,11,8] else x)\n",
    "train_trans['membership_expire_month_cat'] = train_trans.membership_expire_month_cat.apply(lambda x: 30 if x in [12,2,1] else x)\n",
    "train_trans['membership_expire_month_cat'] = train_trans.membership_expire_month_cat.apply(lambda x: 20 if x in [5,4] else x)"
   ]
  },
  {
   "cell_type": "code",
   "execution_count": null,
   "metadata": {},
   "outputs": [],
   "source": [
    "train_trans['membership_expire_month_cat'] = train_trans['membership_expire_month']\n",
    "train_trans['membership_expire_month_cat'] = train_trans.membership_expire_month_cat.apply(lambda x: 60 if x in [6,9] else x)\n",
    "train_trans['membership_expire_month_cat'] = train_trans.membership_expire_month_cat.apply(lambda x: 50 if x in [10,7] else x)\n",
    "train_trans['membership_expire_month_cat'] = train_trans.membership_expire_month_cat.apply(lambda x: 40 if x in [3,11,8] else x)\n",
    "train_trans['membership_expire_month_cat'] = train_trans.membership_expire_month_cat.apply(lambda x: 30 if x in [12,2,1] else x)\n",
    "train_trans['membership_expire_month_cat'] = train_trans.membership_expire_month_cat.apply(lambda x: 20 if x in [5,4] else x)"
   ]
  },
  {
   "cell_type": "code",
   "execution_count": null,
   "metadata": {},
   "outputs": [],
   "source": [
    "plt.rcParams['figure.figsize']=(20,10)\n",
    "sns.heatmap(train_trans.corr(method='pearson'), vmax=1., vmin=-1., annot=True, linewidths=.8, cmap=\"Spectral\");"
   ]
  },
  {
   "cell_type": "markdown",
   "metadata": {},
   "source": [
    "**Observations**\n",
    "<br><br>*target_variable x features corr*\n",
    "1. Target variable correlate the most with created features *membership_expire_month_cat*, *payment_plan_cat*\n",
    "2. Few feature with corr>20% suggest that transactions data can have highest importance in models, we will evaluate that\n",
    "3. I was counting on higher correlation with discount features, let's explore further their importance while testing models"
   ]
  },
  {
   "cell_type": "markdown",
   "metadata": {},
   "source": [
    "*feature x feature corr*\n",
    "1. Highest features correlations were already mentioned and analyze in EDA\n",
    "<br>"
   ]
  },
  {
   "cell_type": "code",
   "execution_count": null,
   "metadata": {},
   "outputs": [],
   "source": []
  },
  {
   "cell_type": "markdown",
   "metadata": {},
   "source": [
    "# 4. Merge and Model"
   ]
  },
  {
   "cell_type": "code",
   "execution_count": null,
   "metadata": {},
   "outputs": [],
   "source": [
    "train_members.info()\n",
    "train_trans.info()\n",
    "train_user.info()"
   ]
  },
  {
   "cell_type": "code",
   "execution_count": null,
   "metadata": {},
   "outputs": [],
   "source": []
  },
  {
   "cell_type": "code",
   "execution_count": null,
   "metadata": {},
   "outputs": [],
   "source": [
    "data = pd.merge(left = train_members,right = train_trans, how = 'right',on=['msno'])\n",
    "data.info()"
   ]
  },
  {
   "cell_type": "code",
   "execution_count": null,
   "metadata": {},
   "outputs": [],
   "source": [
    "data = pd.merge(left = train_user,right = data, how = 'right',on=['msno'])\n",
    "data.info()"
   ]
  },
  {
   "cell_type": "code",
   "execution_count": null,
   "metadata": {},
   "outputs": [],
   "source": [
    "data.drop(['is_churn','is_churn_x'], axis = 1)"
   ]
  },
  {
   "cell_type": "code",
   "execution_count": null,
   "metadata": {},
   "outputs": [],
   "source": [
    "data = data.fillna(-1)\n",
    "data.info()"
   ]
  },
  {
   "cell_type": "code",
   "execution_count": null,
   "metadata": {},
   "outputs": [],
   "source": [
    "data.bd_teen.value_counts(dropna = False)"
   ]
  },
  {
   "cell_type": "code",
   "execution_count": null,
   "metadata": {},
   "outputs": [],
   "source": [
    "cat_feats = data.select_dtypes(include=[np.object]).columns\n",
    "\n",
    "for cat_feat in cat_feats:\n",
    "    data['{0}_facat'.format(cat_feat)] = pd.factorize(data[cat_feat] )[0]"
   ]
  },
  {
   "cell_type": "code",
   "execution_count": null,
   "metadata": {},
   "outputs": [],
   "source": [
    "corr = data.corr(method='pearson')\n",
    "type(corr)\n",
    "corr.is_churn_y.sort_values()"
   ]
  },
  {
   "cell_type": "code",
   "execution_count": null,
   "metadata": {
    "scrolled": true
   },
   "outputs": [],
   "source": [
    "feats = list(data.columns)\n",
    "rem = ['is_churn','is_churn_x','gender','is_churn_y','registration_init_time', 'transaction_date', 'membership_expire_date', 'msno']\n",
    "for i in rem:\n",
    "    feats.remove(i)\n",
    "feats"
   ]
  },
  {
   "cell_type": "code",
   "execution_count": null,
   "metadata": {},
   "outputs": [],
   "source": [
    "len(feats), data.shape"
   ]
  },
  {
   "cell_type": "code",
   "execution_count": null,
   "metadata": {},
   "outputs": [],
   "source": [
    "X = data[feats]\n",
    "y =  data['is_churn_y'] "
   ]
  },
  {
   "cell_type": "code",
   "execution_count": null,
   "metadata": {},
   "outputs": [],
   "source": [
    "def train_and_predict(model, X, y, test_size=0.33):\n",
    "    X_train, X_test, y_train, y_test = train_test_split(X, y, test_size=0.3, random_state=123, stratify=y)\n",
    "    \n",
    "    model.fit(X_train, y_train)    \n",
    "    y_pred = model.predict(X_test) \n",
    "    \n",
    "    #print(classification_report(y_test, y_pred))\n",
    "    return accuracy_score(y_test, y_pred)"
   ]
  },
  {
   "cell_type": "code",
   "execution_count": null,
   "metadata": {},
   "outputs": [],
   "source": [
    "model = DecisionTreeClassifier()"
   ]
  },
  {
   "cell_type": "code",
   "execution_count": null,
   "metadata": {},
   "outputs": [],
   "source": [
    "train_and_predict(model, X, y)"
   ]
  },
  {
   "cell_type": "code",
   "execution_count": null,
   "metadata": {},
   "outputs": [],
   "source": [
    "def plot_learning_curve(model, X, y, title = 'Learning Curves', ylim=(.0,1.02), cv=3,\n",
    "                        n_jobs=-1, train_sizes=np.linspace(.1, 1.0, 5)):\n",
    "    \n",
    "    plt.figure(figsize=(12,8))\n",
    "    plt.title(title)\n",
    "    if ylim is not None:plt.ylim(*ylim)\n",
    "\n",
    "    plt.xlabel(\"Training examples\")\n",
    "    plt.ylabel(\"Score\")\n",
    "    \n",
    "    train_sizes, train_scores, test_scores = learning_curve(\n",
    "        model, X, y, cv=cv, n_jobs=n_jobs, train_sizes=train_sizes, scoring=make_scorer(roc_auc_score))\n",
    "    train_scores_mean = np.mean(train_scores, axis=1)\n",
    "    train_scores_std = np.std(train_scores, axis=1)\n",
    "    test_scores_mean = np.mean(test_scores, axis=1)\n",
    "    test_scores_std = np.std(test_scores, axis=1)\n",
    "    plt.grid()\n",
    "\n",
    "    plt.fill_between(train_sizes, train_scores_mean - train_scores_std,\n",
    "                     train_scores_mean + train_scores_std, alpha=0.1,\n",
    "                     color=\"r\")\n",
    "    plt.fill_between(train_sizes, test_scores_mean - test_scores_std,\n",
    "                     test_scores_mean + test_scores_std, alpha=0.1, color=\"g\")\n",
    "    plt.plot(train_sizes, train_scores_mean, 'o-', color=\"r\",\n",
    "             label=\"Training score\")\n",
    "    plt.plot(train_sizes, test_scores_mean, 'o-', color=\"g\",\n",
    "             label=\"Cross-validation score\")\n",
    "\n",
    "    plt.legend(loc=\"best\")\n",
    "    \n",
    "    \n",
    "    return plt"
   ]
  },
  {
   "cell_type": "code",
   "execution_count": null,
   "metadata": {},
   "outputs": [],
   "source": [
    "plt = plot_learning_curve(model, \"Learning Curves: Decision Trees\", X, y, cv=5, n_jobs=-1) \n",
    "plt.show()"
   ]
  }
 ],
 "metadata": {
  "kernelspec": {
   "display_name": "Python 3",
   "language": "python",
   "name": "python3"
  },
  "language_info": {
   "codemirror_mode": {
    "name": "ipython",
    "version": 3
   },
   "file_extension": ".py",
   "mimetype": "text/x-python",
   "name": "python",
   "nbconvert_exporter": "python",
   "pygments_lexer": "ipython3",
   "version": "3.6.4"
  }
 },
 "nbformat": 4,
 "nbformat_minor": 2
}
